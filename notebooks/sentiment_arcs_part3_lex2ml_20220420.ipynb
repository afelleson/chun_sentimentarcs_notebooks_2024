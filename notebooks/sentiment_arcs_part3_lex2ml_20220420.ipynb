{
  "cells": [
    {
      "cell_type": "markdown",
      "metadata": {
        "id": "ibHFmIWoU3Vx"
      },
      "source": [
        "# **Compute Sentiments Using Python Lexical, ML, DNN and Transformers**\n",
        "\n",
        "By: Jon Chun\n",
        "12 Jun 2021 : Start\n",
        "20 Apr 2022 : Last Edit"
      ]
    },
    {
      "cell_type": "markdown",
      "metadata": {
        "id": "43oGeYK19Pyq"
      },
      "source": [
        "# **[RESTART RUNTIME] May be Required**"
      ]
    },
    {
      "cell_type": "code",
      "execution_count": null,
      "metadata": {
        "id": "0FO20GCk2rOh"
      },
      "outputs": [],
      "source": [
        "# [CHECK] (If disconnected) @ometimes you can reconnect to your old machine\n",
        "#         use %whos to see if your old program enviroment still exists. \n",
        "#         If 'Interactive namesapce is empty' you must reexecute everything\n",
        "\n",
        "%whos"
      ]
    },
    {
      "cell_type": "code",
      "execution_count": null,
      "metadata": {
        "id": "fat5hgY9yHTq"
      },
      "outputs": [],
      "source": [
        "# [RESTART RUNTIME] May be Required\n",
        "\n",
        "!pip install flair"
      ]
    },
    {
      "cell_type": "code",
      "execution_count": null,
      "metadata": {
        "id": "UF6optLIJT2i"
      },
      "outputs": [],
      "source": [
        "# [RESTART RUNTIME] May be Required\n",
        "\n",
        "!pip install texthero"
      ]
    },
    {
      "cell_type": "code",
      "execution_count": null,
      "metadata": {
        "id": "mT-77aUWNOT_"
      },
      "outputs": [],
      "source": [
        "# [RESTART RUNTIME] May be Required\n",
        "\n",
        "# Designed Security Hole in older PyYAML\n",
        "#   must upgrade to use plotly\n",
        "\n",
        "# !pip install pyyaml==5.4.1"
      ]
    },
    {
      "cell_type": "code",
      "execution_count": null,
      "metadata": {
        "id": "kdPT5RbXH5QV"
      },
      "outputs": [],
      "source": [
        ""
      ]
    },
    {
      "cell_type": "markdown",
      "metadata": {
        "id": "vgvTrI7bevn2"
      },
      "source": [
        "# **[STEP 1] Manual Configuration/Setup**\n",
        "\n"
      ]
    },
    {
      "cell_type": "markdown",
      "metadata": {
        "id": "0_-wb8jb6M0h"
      },
      "source": [
        "## (Popups) Connect Google gDrive"
      ]
    },
    {
      "cell_type": "code",
      "execution_count": null,
      "metadata": {
        "id": "HDerblMS6M0h"
      },
      "outputs": [],
      "source": [
        "# [INPUT REQUIRED]: Authorize access to Google gDrive\n",
        "\n",
        "# Connect this Notebook to your permanent Google Drive\n",
        "#   so all generated output is saved to permanent storage there\n",
        "\n",
        "try:\n",
        "  from google.colab import drive\n",
        "  IN_COLAB=True\n",
        "except:\n",
        "  IN_COLAB=False\n",
        "\n",
        "if IN_COLAB:\n",
        "  print(\"Attempting to attach your Google gDrive to this Colab Jupyter Notebook\")\n",
        "  drive.mount('/gdrive', force_remount=True)\n",
        "else:\n",
        "  print(\"Your Google gDrive is attached to this Colab Jupyter Notebook\")"
      ]
    },
    {
      "cell_type": "markdown",
      "metadata": {
        "id": "DKEdKhZ_6M0h"
      },
      "source": [
        "## (3 Inputs) Define Directory Tree"
      ]
    },
    {
      "cell_type": "code",
      "execution_count": null,
      "metadata": {
        "id": "9z5ZRX_s6a34"
      },
      "outputs": [],
      "source": [
        "# [CUSTOMIZE]: Change the text after the Unix '%cd ' command below (change directory)\n",
        "#              to math the full path to your gDrive subdirectory which should be the \n",
        "#              root directory cloned from the SentimentArcs github repo.\n",
        "\n",
        "# NOTE: Make sure this subdirectory already exists and there are \n",
        "#       no typos, spaces or illegals characters (e.g. periods) in the full path after %cd\n",
        "\n",
        "# NOTE: In Python all strings must begin with an upper or lowercase letter, and only\n",
        "#         letter, number and underscores ('_') characters should appear afterwards.\n",
        "#         Make sure your full path after %cd obeys this constraint or errors may appear.\n",
        "\n",
        "# #@markdown **Instructions**\n",
        "\n",
        "# #@markdown Set Directory and Corpus names:\n",
        "# #@markdown <li> Set <b>Path_to_SentimentArcs</b> to the project root in your **GDrive folder**\n",
        "# #@markdown <li> Set <b>Corpus_Genre</b> = [novels, finance, social_media]\n",
        "# #@markdown <li> <b>Corpus_Type</b> = [reference_corpus, new_corpus]\n",
        "# #@markdown <li> <b>Corpus_Number</b> = [1-20] (id nunmber if a new_corpus)\n",
        "\n",
        "#@markdown <hr>\n",
        "\n",
        "# Step #1: Get full path to SentimentArcs subdir on gDrive\n",
        "# =======\n",
        "#@markdown **Accept default path on gDrive or Enter new one:**\n",
        "\n",
        "Path_to_SentimentArcs = \"/gdrive/MyDrive/sentimentarcs_notebooks/\" #@param [\"/gdrive/MyDrive/sentiment_arcs/\"] {allow-input: true}\n",
        "\n",
        "\n",
        "#@markdown Set this to the project root in your <b>GDrive folder</b>\n",
        "#@markdown <br> (e.g. /<wbr><b>gdrive/MyDrive/research/sentiment_arcs/</b>)\n",
        "\n",
        "#@markdown <hr>\n",
        "\n",
        "#@markdown **Which type of texts are you cleaning?** \\\n",
        "\n",
        "Corpus_Genre = \"novels\" #@param [\"novels\", \"social_media\", \"finance\"]\n",
        "\n",
        "# Corpus_Type = \"reference\" #@param [\"new\", \"reference\"]\n",
        "Corpus_Type = \"new\" #@param [\"new\", \"reference\"]\n",
        "\n",
        "\n",
        "Corpus_Number = 5 #@param {type:\"slider\", min:1, max:10, step:1}\n",
        "\n",
        "\n",
        "#@markdown Put in the corresponding Subdirectory under **./text_raw**:\n",
        "#@markdown <li> All Texts as clean <b>plaintext *.txt</b> files \n",
        "#@markdown <li> A <b>YAML Configuration File</b> describing each Texts\n",
        "\n",
        "#@markdown Please verify the required textfiles and YAML file exist in the correct subdirectories before continuing.\n",
        "\n",
        "print('Current Working Directory:')\n",
        "%cd $Path_to_SentimentArcs\n",
        "\n",
        "print('\\n')\n",
        "\n",
        "if Corpus_Type == 'reference':\n",
        "  SUBDIR_SENTIMENT_RAW = f'sentiment_raw_{Corpus_Genre}_reference'\n",
        "  SUBDIR_TEXT_CLEAN = f'text_clean_{Corpus_Genre}_reference'\n",
        "else:\n",
        "  SUBDIR_SENTIMENT_RAW = f'sentiment_raw_{Corpus_Genre}_{Corpus_Type}_corpus{Corpus_Number}/'\n",
        "  SUBDIR_TEXT_CLEAN = f'text_clean_{Corpus_Genre}_{Corpus_Type}_corpus{Corpus_Number}/'\n",
        "\n",
        "# PATH_SENTIMENT_RAW = f'./sentiment_raw/{SUBDIR_TEXT_RAW}'\n",
        "# PATH_TEXT_CLEAN = f'./text_clean/{SUBDIR_TEXT_CLEAN}'\n",
        "PATH_SENTIMENT_RAW = f'./sentiment_raw/{SUBDIR_SENTIMENT_RAW}'\n",
        "PATH_TEXT_CLEAN = f'./text_clean/{SUBDIR_TEXT_CLEAN}'\n",
        "\n",
        "# TODO: Clean up\n",
        "# SUBDIR_TEXT_CLEAN = PATH_TEXT_CLEAN\n",
        "\n",
        "print(f'PATH_SENTIMENT_RAW:\\n  [{PATH_SENTIMENT_RAW}]')\n",
        "print(f'SUBDIR_SENTIMENT_RAW:\\n  [{SUBDIR_SENTIMENT_RAW}]')\n",
        "\n",
        "print('\\n')\n",
        "\n",
        "print(f'PATH_TEXT_CLEAN:\\n  [{PATH_TEXT_CLEAN}]')\n",
        "print(f'SUBDIR_TEXT_CLEAN:\\n  [{SUBDIR_TEXT_CLEAN}]')"
      ]
    },
    {
      "cell_type": "markdown",
      "metadata": {
        "id": "HM4ePEaq6nrW"
      },
      "source": [
        "# **[STEP 2] Automatic Configuration/Setup**"
      ]
    },
    {
      "cell_type": "code",
      "execution_count": null,
      "metadata": {
        "id": "dPdbnOjw6ycy"
      },
      "outputs": [],
      "source": [
        "# Add PATH for ./utils subdirectory\n",
        "\n",
        "import sys\n",
        "import os\n",
        "\n",
        "!python --version\n",
        "\n",
        "print('\\n')\n",
        "\n",
        "PATH_UTILS = f'{Path_to_SentimentArcs}utils'\n",
        "PATH_UTILS\n",
        "\n",
        "sys.path.append(PATH_UTILS)\n",
        "\n",
        "print('Contents of Subdirectory [./sentiment_arcs/utils/]\\n')\n",
        "!ls $PATH_UTILS\n",
        "\n",
        "# More Specific than PATH for searching libraries\n",
        "# !echo $PYTHONPATH"
      ]
    },
    {
      "cell_type": "code",
      "execution_count": null,
      "metadata": {
        "id": "tvMuohQZ6ycz"
      },
      "outputs": [],
      "source": [
        "# Review Global Variables and set the first few\n",
        "\n",
        "import global_vars as global_vars\n",
        "\n",
        "global_vars.SUBDIR_SENTIMENTARCS = Path_to_SentimentArcs\n",
        "global_vars.Corpus_Genre = Corpus_Genre\n",
        "global_vars.Corpus_Type = Corpus_Type\n",
        "global_vars.Corpus_Number = Corpus_Number\n",
        "\n",
        "global_vars.SUBDIR_SENTIMENT_RAW = SUBDIR_SENTIMENT_RAW\n",
        "global_vars.PATH_SENTIMENT_RAW = PATH_SENTIMENT_RAW\n",
        "\n",
        "global_vars.SUBDIR_TEXT_CLEAN = SUBDIR_TEXT_CLEAN\n",
        "global_vars.PATH_TEXT_CLEAN = PATH_TEXT_CLEAN\n",
        "\n",
        "dir(global_vars)"
      ]
    },
    {
      "cell_type": "markdown",
      "metadata": {
        "id": "zeLft8mw7moD"
      },
      "source": [
        "## (each time) Custom Libraries & Define Globals"
      ]
    },
    {
      "cell_type": "code",
      "execution_count": null,
      "metadata": {
        "id": "Y2IRi-3z7moE"
      },
      "outputs": [],
      "source": [
        "# Initialize and clean for each iteration of notebook\n",
        "\n",
        "# dir(global_vars)\n",
        "\n",
        "global_vars.corpus_texts_dt = {}\n",
        "global_vars.corpus_titles_dt = {}"
      ]
    },
    {
      "cell_type": "code",
      "execution_count": null,
      "metadata": {
        "id": "9IU1IHzA7moE"
      },
      "outputs": [],
      "source": [
        "# Import SentimentArcs Utilities to define Directory Structure\n",
        "#   based the Selected Corpus Genre, Type and Number\n",
        "\n",
        "!pwd \n",
        "print('\\n')\n",
        "\n",
        "# from utils import sa_config # .sentiment_arcs_utils\n",
        "from utils import sa_config\n",
        "\n",
        "print('Objects in sa_config()')\n",
        "print(dir(sa_config))\n",
        "print('\\n')\n",
        "\n",
        "# Directory Structure for the Selected Corpus Genre, Type and Number\n",
        "sa_config.get_subdirs(Path_to_SentimentArcs, Corpus_Genre, Corpus_Type, Corpus_Number, 'none')\n"
      ]
    },
    {
      "cell_type": "code",
      "execution_count": null,
      "metadata": {
        "id": "AWZWepaO7moE"
      },
      "outputs": [],
      "source": [
        "# Call SentimentArcs Utility to define Global Variables\n",
        "\n",
        "sa_config.set_globals()\n",
        "\n",
        "# Verify sample global var set\n",
        "print(f'MIN_PARAG_LEN: {global_vars.MIN_PARAG_LEN}')\n",
        "print(f'STOPWORDS_ADD_EN: {global_vars.STOPWORDS_ADD_EN}')\n",
        "print(f'global_vars.TEST_WORDS_LS: {global_vars.global_vars.TEST_WORDS_LS}')\n",
        "print(f'SLANG_DT: {global_vars.SLANG_DT}')"
      ]
    },
    {
      "cell_type": "markdown",
      "metadata": {
        "id": "CRb36wyH7moE"
      },
      "source": [
        "## Configure Jupyter Notebook"
      ]
    },
    {
      "cell_type": "code",
      "execution_count": null,
      "metadata": {
        "id": "qjoIK5U_7moE"
      },
      "outputs": [],
      "source": [
        "# Configure Jupyter\n",
        "\n",
        "# To reload modules under development\n",
        "\n",
        "# Option (a)\n",
        "%load_ext autoreload\n",
        "%autoreload 2\n",
        "# Option (b)\n",
        "# import importlib\n",
        "# importlib.reload(functions.readfunctions)\n",
        "\n",
        "\n",
        "# Ignore warnings\n",
        "import warnings\n",
        "warnings.filterwarnings('ignore')\n",
        "\n",
        "# Enable multiple outputs from one code cell\n",
        "from IPython.core.interactiveshell import InteractiveShell\n",
        "InteractiveShell.ast_node_interactivity = \"all\"\n",
        "\n",
        "from IPython.display import display\n",
        "from IPython.display import Image\n",
        "from ipywidgets import widgets, interactive\n",
        "\n",
        "import logging\n",
        "logging.basicConfig(format='%(asctime)s : %(levelname)s : %(message)s', level=logging.INFO)"
      ]
    },
    {
      "cell_type": "markdown",
      "metadata": {
        "id": "BW6YDyHT7moF"
      },
      "source": [
        "## (each time) Read YAML Configuration for Corpus and Models "
      ]
    },
    {
      "cell_type": "code",
      "execution_count": null,
      "metadata": {
        "id": "mUveIcUOzYav"
      },
      "outputs": [],
      "source": [
        "# from utils import sa_config # .sentiment_arcs_utils\n",
        "\n",
        "import yaml\n",
        "\n",
        "from utils import read_yaml\n",
        "\n",
        "print('Objects in read_yaml()')\n",
        "print(dir(read_yaml))\n",
        "print('\\n')\n",
        "\n",
        "# Directory Structure for the Selected Corpus Genre, Type and Number\n",
        "read_yaml.read_corpus_yaml(Corpus_Genre, Corpus_Type, Corpus_Number)\n",
        "\n",
        "print('SentimentArcs Model Ensemble ------------------------------\\n')\n",
        "model_titles_ls = global_vars.models_titles_dt.keys()\n",
        "print('\\n'.join(model_titles_ls))\n",
        "\n",
        "\n",
        "print('\\n\\nCorpus Texts ------------------------------\\n')\n",
        "corpus_titles_ls = list(global_vars.corpus_titles_dt.keys())\n",
        "print('\\n'.join(corpus_titles_ls))\n",
        "\n",
        "\n",
        "print(f'\\n\\nThere are {len(model_titles_ls)} Models in the SentimentArcs Ensemble above.\\n')\n",
        "print(f'\\nThere are {len(corpus_titles_ls)} Texts in the Corpus above.\\n')\n",
        "print('\\n')\n",
        "\n",
        "global_vars.corpus_titles_dt"
      ]
    },
    {
      "cell_type": "markdown",
      "metadata": {
        "id": "-pnjdzeSInEY"
      },
      "source": [
        "## Install Libraries: Python"
      ]
    },
    {
      "cell_type": "code",
      "execution_count": null,
      "metadata": {
        "id": "XSkNucf3InEY"
      },
      "outputs": [],
      "source": [
        "import numpy as np\n",
        "import pandas as pd\n",
        "import matplotlib.pyplot as plt\n",
        "import seaborn as sns\n",
        "\n",
        "%matplotlib inline\n",
        "\n",
        "from glob import glob\n",
        "import copy\n",
        "import json # Installed above in YAML Configuration Section"
      ]
    },
    {
      "cell_type": "markdown",
      "metadata": {
        "id": "HvaOI_64InEY"
      },
      "source": [
        "## Setup Matplotlib Style\n",
        "\n",
        "* https://matplotlib.org/stable/tutorials/introductory/customizing.html"
      ]
    },
    {
      "cell_type": "code",
      "execution_count": null,
      "metadata": {
        "id": "S0q81NRhInEY"
      },
      "outputs": [],
      "source": [
        "# Configure Matplotlib\n",
        "\n",
        "# View available styles\n",
        "# plt.style.available\n",
        "\n",
        "# Verify in SentimentArcs Root Directory\n",
        "os.chdir(Path_to_SentimentArcs)\n",
        "\n",
        "%run -i './utils/config_matplotlib.py'\n",
        "\n",
        "config_matplotlib()\n",
        "\n",
        "print('Matplotlib Configuration ------------------------------')\n",
        "print('\\n  (Uncomment to view)')\n",
        "# plt.rcParams.keys()\n",
        "print('\\n  Edit ./utils/config_matplotlib.py to change')"
      ]
    },
    {
      "cell_type": "markdown",
      "metadata": {
        "id": "n2KDazsOInEY"
      },
      "source": [
        "## Setup Seaborn Style"
      ]
    },
    {
      "cell_type": "code",
      "execution_count": null,
      "metadata": {
        "id": "qMECX12r_CNo"
      },
      "outputs": [],
      "source": [
        "# Configure Seaborn\n",
        "\n",
        "# Verify in SentimentArcs Root Directory\n",
        "os.chdir(Path_to_SentimentArcs)\n",
        "\n",
        "%run -i './utils/config_seaborn.py'\n",
        "\n",
        "config_seaborn()\n",
        "\n",
        "print('Seaborn Configuration ------------------------------\\n')\n",
        "# print('\\n  Update ./utils/config_seaborn.py to display seaborn settings')\n",
        "\n",
        "\"\"\"\n",
        "# Seaborn: Set Context\n",
        "# sns.set_context(\"notebook\")\n",
        "\n",
        "# Seaborn: Set Theme (Scale of Font)\n",
        "sns.set_theme('paper')  # paper, notebook, talk, poster\n",
        "\n",
        "# Seaborn: Set Style\n",
        "# sns.set_style('ticks') # darkgrid, whitegrid, dark, white, and ticks\n",
        "plt.style.use('seaborn-whitegrid')\n",
        "\n",
        "# sns.set_palette('tab10')\n",
        "# sns.color_palette()\n",
        "\n",
        "# sns.set_palette('tab10')\n",
        "# sns.color_palette()\n",
        "\"\"\";"
      ]
    },
    {
      "cell_type": "code",
      "execution_count": null,
      "metadata": {
        "id": "hStqTbVlInEZ"
      },
      "outputs": [],
      "source": [
        "\"\"\"\n",
        "# Configure Seaborn\n",
        "\n",
        "# Verify in SentimentArcs Root Directory\n",
        "os.chdir(Path_to_SentimentArcs)\n",
        "\n",
        "%run -i './utils/config_seaborn.py'\n",
        "\n",
        "config_seaborn()\n",
        "\n",
        "print('Seaborn Configuration ------------------------------\\n')\n",
        "# print('\\n  Update ./utils/config_seaborn.py to display seaborn settings')\n",
        "# View previous seaborn configuration\n",
        "print('\\n Old Seaborn Configurtion Settings:\\n')\n",
        "sns.axes_style()\n",
        "print('\\n\\n')\n",
        "\n",
        "# Update and View new seaborn configuration\n",
        "print('\\n New Seaborn Configurtion Settings:\\n')\n",
        "# sns.set_style('white')\n",
        "sns.set_context('paper')\n",
        "sns.set_style('white')\n",
        "sns.set_palette('tab10')\n",
        "\n",
        "# Change defaults\n",
        "# sns.set(style='white', context='talk', palette='tab10')\n",
        "\"\"\";"
      ]
    },
    {
      "cell_type": "markdown",
      "metadata": {
        "id": "tweDF9wMInEZ"
      },
      "source": [
        "## Python Utility Functions"
      ]
    },
    {
      "cell_type": "markdown",
      "metadata": {
        "id": "gjmkC1FbAEpo"
      },
      "source": [
        "### (each time) Generate Convenient Data Lists"
      ]
    },
    {
      "cell_type": "code",
      "execution_count": null,
      "metadata": {
        "id": "TO08GFoGlP3y"
      },
      "outputs": [],
      "source": [
        "# Derive List of Texts in Corpus a)keys and b)full author and titles\n",
        "\n",
        "print('Dictionary: corpus_titles_dt')\n",
        "global_vars.corpus_titles_dt\n",
        "print('\\n')\n",
        "\n",
        "corpus_texts_ls = list(global_vars.corpus_titles_dt.keys())\n",
        "print(f'\\nCorpus Texts:')\n",
        "for akey in corpus_texts_ls:\n",
        "  print(f'  {akey}')\n",
        "print('\\n')\n",
        "\n",
        "print(f'\\nNatural Corpus Titles:')\n",
        "corpus_titles_ls = [x[0] for x in list(global_vars.corpus_titles_dt.values())]\n",
        "for akey in corpus_titles_ls:\n",
        "  print(f'  {akey}')\n"
      ]
    },
    {
      "cell_type": "code",
      "execution_count": null,
      "metadata": {
        "id": "rQNlQr4_Ckb1"
      },
      "outputs": [],
      "source": [
        "# Get Model Families of Ensemble\n",
        "\n",
        "from utils.get_model_families import get_ensemble_model_famalies\n",
        "\n",
        "global_vars.models_ensemble_dt = get_ensemble_model_famalies(global_vars.models_titles_dt)\n",
        "\n",
        "print('\\nTest: Lexicon Family of Models:')\n",
        "global_vars.models_ensemble_dt['lexicon']"
      ]
    },
    {
      "cell_type": "markdown",
      "metadata": {
        "id": "B3sXwZOq_-0d"
      },
      "source": [
        "### File Functions"
      ]
    },
    {
      "cell_type": "code",
      "execution_count": null,
      "metadata": {
        "id": "3JQBWKKcN2Eo"
      },
      "outputs": [],
      "source": [
        "# Verify in SentimentArcs Root Directory\n",
        "os.chdir(Path_to_SentimentArcs)\n",
        "\n",
        "%run -i './utils/file_utils.py'\n",
        "# from utils.file_utils import *\n",
        "\n",
        "# %run -i './utils/file_utils.py'\n",
        "\n",
        "# TODO: Not used? Delete?\n",
        "# get_fullpath(text_title_str, ftype='data_clean', fig_no='', first_note = '',last_note='', plot_ext='png', no_date=False)"
      ]
    },
    {
      "cell_type": "markdown",
      "metadata": {
        "id": "35PXD0AjJtpQ"
      },
      "source": [
        "# **[STEP 3] Read all Preprocessed Novels**"
      ]
    },
    {
      "cell_type": "code",
      "execution_count": null,
      "metadata": {
        "id": "Roq-2Ol8yH5c"
      },
      "outputs": [],
      "source": [
        "# Verify cwd and subdir of Cleaned Corpus Texts\n",
        "\n",
        "print('Current Working Directory:')\n",
        "!pwd\n",
        "\n",
        "print(f'\\nSubdir with all Cleaned Texts of Corpus:\\n  {SUBDIR_TEXT_CLEAN}')\n",
        "\n",
        "print(f'\\n\\nFilenames of Cleaned Texts:\\n')\n",
        "!ls -1 {Path_to_SentimentArcs}{PATH_TEXT_CLEAN}"
      ]
    },
    {
      "cell_type": "code",
      "execution_count": null,
      "metadata": {
        "id": "2ClL4-1Gqe7g"
      },
      "outputs": [],
      "source": [
        "# Create a List (preprocessed_ls) of all preprocessed text files\n",
        "\n",
        "# Verify in SentimentArcs Root Directory\n",
        "os.chdir(Path_to_SentimentArcs)\n",
        "\n",
        "try:\n",
        "    preprocessed_ls = glob(f'{PATH_TEXT_CLEAN}/*.csv')\n",
        "    preprocessed_ls = [x.split('/')[-1] for x in preprocessed_ls]\n",
        "    preprocessed_ls = [x.split('.')[0] for x in preprocessed_ls]\n",
        "except IndexError:\n",
        "    raise RuntimeError('No csv file found')\n",
        "\n",
        "print('\\n'.join(preprocessed_ls))\n",
        "print('\\n')\n",
        "print(f'Found {len(preprocessed_ls)} Preprocessed files in {SUBDIR_TEXT_CLEAN}')"
      ]
    },
    {
      "cell_type": "code",
      "execution_count": null,
      "metadata": {
        "id": "S4CqJQY9rNRw"
      },
      "outputs": [],
      "source": [
        "# Read all preprocessed text files into master DataFrame (corpus_dt)\n",
        "\n",
        "corpus_texts_dt = {}\n",
        "\n",
        "for i,atext in enumerate(preprocessed_ls):\n",
        "  print(f'Processing #{i}: {atext}...')\n",
        "  afile_fullpath = f'{PATH_TEXT_CLEAN}/{atext}.csv'\n",
        "  print(f'               {afile_fullpath}')\n",
        "  atext_df = pd.read_csv(afile_fullpath, index_col=[0])\n",
        "  corpus_texts_dt[atext] = atext_df\n",
        "\n",
        "# Verify the Text read into master Dictionary of DataFrames\n",
        "print('\\n')\n",
        "corpus_texts_dt.keys()\n",
        "print('\\n')\n",
        "print(f'There were {len(corpus_texts_dt)} preprocessed Text read into the Dict corpus_texts_dt')"
      ]
    },
    {
      "cell_type": "code",
      "execution_count": null,
      "metadata": {
        "id": "0JI2z5wCz8zz"
      },
      "outputs": [],
      "source": [
        "# Check if there are any Null strings in the text_clean columns\n",
        "\n",
        "for i, atext in enumerate(list(corpus_texts_dt.keys())):\n",
        "  print(f'\\nText #{i}: {atext}')\n",
        "  nan_ct = corpus_texts_dt[atext].text_clean.isna().sum()\n",
        "  if nan_ct > 0:\n",
        "    print(f'      {nan_ct} Null strings in the text_clean column')"
      ]
    },
    {
      "cell_type": "code",
      "execution_count": null,
      "metadata": {
        "id": "mgLyDNrYzTuF"
      },
      "outputs": [],
      "source": [
        "# Fill in all the Null value of text_clean with placeholder 'empty_string'\n",
        "\n",
        "for i, atext in enumerate(list(corpus_texts_dt.keys())):\n",
        "  # print(f'Novel #{i}: {atext}')\n",
        "  # Fill all text_clean == Null with 'empty_string' so sentimentr::sentiment doesn't break\n",
        "  corpus_texts_dt[atext][corpus_texts_dt[atext].text_clean.isna()] = 'empty_string'"
      ]
    },
    {
      "cell_type": "code",
      "execution_count": null,
      "metadata": {
        "id": "O7gE08b_rNPH"
      },
      "outputs": [],
      "source": [
        "# Verify DataFrame of first Text in Corpus Dictionary\n",
        "\n",
        "corpus_texts_dt[corpus_texts_ls[0]].head()"
      ]
    },
    {
      "cell_type": "markdown",
      "metadata": {
        "id": "GuoJERbI0wEJ"
      },
      "source": [
        "# **[STEP 4] Get Sentiments**"
      ]
    },
    {
      "cell_type": "markdown",
      "metadata": {
        "id": "Ov1cUBUm6HJ4"
      },
      "source": [
        "## **Lexicons**\n",
        "\n",
        "* https://github.com/trinker/lexicon/tree/master/data"
      ]
    },
    {
      "cell_type": "code",
      "execution_count": null,
      "metadata": {
        "colab": {
          "background_save": true
        },
        "id": "JnE4x26nblZ_"
      },
      "outputs": [],
      "source": [
        "# PyReadR enables Python to read R datafiles (e.g. *.rda)\n",
        "\n",
        "!pip install pyreadr\n",
        "\n",
        "import pyreadr"
      ]
    },
    {
      "cell_type": "code",
      "source": [
        "# Global Dict of all Lexicon Dictionaries\n",
        "\n",
        "lexicons_dt = {}"
      ],
      "metadata": {
        "id": "1UoM390CcCsC"
      },
      "execution_count": null,
      "outputs": []
    },
    {
      "cell_type": "code",
      "execution_count": null,
      "metadata": {
        "colab": {
          "background_save": true
        },
        "id": "ZQfDHsxGeTmy"
      },
      "outputs": [],
      "source": [
        "def get_lexsent_sentiment(asent_str, lexicon_dt):\n",
        "  '''\n",
        "  Given a Sentence in string form and a Lexicon Dictionary\n",
        "  Return the Sentiment of the Sentence = Sum(Sentiment(all words))\n",
        "  '''\n",
        "\n",
        "  sent_sentiment = 0\n",
        "  word_ls = asent_str.split()\n",
        "  for aword in word_ls:\n",
        "    word_sentiment = lexicon_dt.get(aword)\n",
        "    if word_sentiment != None:\n",
        "      sent_sentiment += float(word_sentiment)\n",
        "\n",
        "  return sent_sentiment"
      ]
    },
    {
      "cell_type": "code",
      "execution_count": null,
      "metadata": {
        "id": "3MRV23rqjTvR"
      },
      "outputs": [],
      "source": [
        "\"\"\"\n",
        "def lexicon_sentiment(lexicon_dt, text_str):\n",
        "  '''\n",
        "  Given a lexicon dict[word]=sentiment and a string\n",
        "  Return a sentiment ('pos'|'neg') and a polarity (-1.0 to 1.0)\n",
        "  '''\n",
        "\n",
        "  word_ls = text_str.split()\n",
        "  text_polarity = 0\n",
        "\n",
        "  for aword in word_ls:\n",
        "    word_sentiment = lexicon_dt.get(aword)\n",
        "    if word_sentiment != None: #lexicon_dt.get(aword) != None:\n",
        "      # print(f'Word: {aword} Polarity: {word_sentiment}')\n",
        "      text_polarity += word_sentiment # lexicon_dt[aword]\n",
        "\n",
        "  if text_polarity > 0.0:\n",
        "    text_sentiment = 'pos'\n",
        "  else:\n",
        "    text_sentiment = 'neg'\n",
        "  \n",
        "  # Return tuple of polarity ('positive'|'negative') and sentiment float value (-1.0 to 1.0)\n",
        "  return text_sentiment, round(text_polarity, 4)\n",
        "\n",
        "# Test\n",
        "test_str = \"I love enjoying the great outdoors!\"\n",
        "test_tp = lexicon_sentiment(lexicon_jockersrinker_dt, test_str)\n",
        "print(f'The Sentence: {test_str}\\n\\n  Sentiment: {test_tp[0]}\\n\\n  Polarity:  {test_tp[1]}')\n",
        "\n",
        "\"\"\";"
      ]
    },
    {
      "cell_type": "code",
      "execution_count": null,
      "metadata": {
        "id": "A8cIYM2V-zHG"
      },
      "outputs": [],
      "source": [
        "# TODO: UNUSED?\n",
        "\n",
        "# Calculate Pattern Sentiment [0,1,2]\n",
        "\"\"\"\n",
        "def pattern_discrete2continous_sentiment(text):\n",
        "  '''\n",
        "  Given a plain text string, give it to\n",
        "    Stanford Stanza (OpenNLP) to calculate sentiment for each word on a 3 point scale 0-2\n",
        "  Return a sentiment value for the entire sentence (sum of word sentiments/log(len of sentence)) \n",
        "    that approximates a normal distribution for all values\n",
        "    In order to get more fine grained measure of overall Sentence sentiment\n",
        "    Sentiment values will be Normalized/Standardized so absolute precision is not required\n",
        "  '''\n",
        "  text_sentiment_total = 0.\n",
        "  text_ls = text.split()\n",
        "  text_len = len(text_ls)\n",
        "  for aword in text_ls:\n",
        "    text_sentiment_total += pattern_sa(str(aword))[0]\n",
        "  text_sentiment_norm = text_sentiment_total/(np.log(text_len)+0.01)\n",
        "\n",
        "  return text_sentiment_norm\n",
        "\"\"\";"
      ]
    },
    {
      "cell_type": "markdown",
      "metadata": {
        "id": "KZe-VOc16dYh"
      },
      "source": [
        "### **Jockers-Rinker**"
      ]
    },
    {
      "cell_type": "code",
      "execution_count": null,
      "metadata": {
        "id": "5Ww2IOTXetbV"
      },
      "outputs": [],
      "source": [
        "# Get Lexicon from SentimentR github repo\n",
        "\n",
        "lexicon_name = 'jockers_rinker'\n",
        "lexicon_dense = ''.join(lexicon_name.split('_'))\n",
        "lexicon_df = pd.DataFrame()\n",
        "\n",
        "model_name = 'pysentimentr_jockersrinker'\n",
        "model_type = 'Lexicon'\n",
        "\n",
        "url = f\"https://github.com/trinker/lexicon/blob/master/data/hash_sentiment_{lexicon_name}.rda?raw=true\"\n",
        "dst_path = f\"{lexicon_dense}.rda\"\n",
        "dst_path_again = pyreadr.download_file(url, dst_path)\n",
        "res = pyreadr.read_r(dst_path)\n",
        "# print(f'type(res): {type(res)}\\n')\n",
        "# res\n",
        "\n",
        "# Convert to DataFrame\n",
        "lexicon_df = res[f'hash_sentiment_{lexicon_name}']\n",
        "# lexicon_df.head()\n",
        "lexicon_df.info()\n",
        "print('\\n')\n",
        "\n",
        "# Reshape into Dictionary[word] = sentiment\n",
        "lexicon_df.set_index('x', inplace=True)\n",
        "lexicons_dt[lexicon_name] = lexicon_df.to_dict()['y']\n",
        "\n",
        "# Test Words\n",
        "print(f'Testing {lexicon_name} lexicon for WORDS Sentiment')\n",
        "print('--------------------------------------------------')\n",
        "for i, atest_word in enumerate(global_vars.TEST_WORDS_LS):\n",
        "\n",
        "  if (lexicons_dt[lexicon_name].get(atest_word.lower()) is None):\n",
        "    # print(f'ERROR: {atest_word} not found in lexicon')\n",
        "    word_sentiment_fl = 'ERROR'\n",
        "    print(f'[{word_sentiment_fl: ^8}]: {atest_word} [NOT IN LEXICON]\\n')\n",
        "    continue\n",
        "  else:\n",
        "    word_sentiment_fl = lexicons_dt[lexicon_name].get(atest_word.lower())\n",
        "    print(f'[{word_sentiment_fl: ^8}]: {atest_word}\\n')\n",
        "\n",
        "\n",
        "# Test Sentences\n",
        "print(f'\\nTesting {lexicon_name} lexicon for SENTENCES Sentiment')\n",
        "print('--------------------------------------------------')\n",
        "for i, atest_str in enumerate(global_vars.TEST_SENTENCES_LS):\n",
        "\n",
        "  str_sentiment_fl = get_lexsent_sentiment(atest_str, lexicons_dt[lexicon_name])\n",
        "  print(f'[{str_sentiment_fl: ^8}]: {atest_str}\\n')"
      ]
    },
    {
      "cell_type": "code",
      "execution_count": null,
      "metadata": {
        "id": "uriyktG9jIyu"
      },
      "outputs": [],
      "source": [
        "# Compute Sentiments based upon SentimentR Lexicon\n",
        "\n",
        "for i, atext in enumerate(corpus_texts_dt.keys()):\n",
        "  print(f\"Processing #{i}: {atext}\")\n",
        "\n",
        "  corpus_texts_dt[atext][model_name] = corpus_texts_dt[atext]['text_clean'].apply(lambda x: get_lexsent_sentiment(x, lexicons_dt[lexicon_name]))"
      ]
    },
    {
      "cell_type": "code",
      "execution_count": null,
      "metadata": {
        "id": "XG3o2yV0jgUc"
      },
      "outputs": [],
      "source": [
        "corpus_texts_dt[corpus_texts_ls[0]].head()"
      ]
    },
    {
      "cell_type": "code",
      "execution_count": null,
      "metadata": {
        "id": "D9bCl3yjz5Oy"
      },
      "outputs": [],
      "source": [
        "# Verfiy Plausible Sentiment Values via Plot\n",
        "\n",
        "text_indx = 0\n",
        "\n",
        "text_title_str = corpus_texts_ls[text_indx]\n",
        "# lexicon_name = 'jockers_rinker'\n",
        "lexicon_dense = ''.join(lexicon_name.split('_'))\n",
        "\n",
        "win_10per = int(0.10*corpus_texts_dt[text_title_str].shape[0])\n",
        "plot_title_str = f\"{global_vars.corpus_titles_dt[text_title_str][0]}\\nSentiment Analysis\\n{model_type} Model: {lexicon_name}\"\n",
        "corpus_texts_dt[text_title_str][model_name].rolling(win_10per, center=True, min_periods=0).mean().plot(title=plot_title_str)\n",
        "plt.grid(True)\n",
        "plt.show();"
      ]
    },
    {
      "cell_type": "markdown",
      "metadata": {
        "id": "wdP1zLpY6lm_"
      },
      "source": [
        "### **HuLiu (aka Bing)**"
      ]
    },
    {
      "cell_type": "code",
      "execution_count": null,
      "metadata": {
        "id": "vn7EdnHJkDDT"
      },
      "outputs": [],
      "source": [
        "# Get Lexicon from SentimentR github repo\n",
        "\n",
        "lexicon_name = 'huliu'\n",
        "lexicon_dense = ''.join(lexicon_name.split('_'))\n",
        "lexicon_df = pd.DataFrame()\n",
        "\n",
        "model_name = 'pysentimentr_huliu'\n",
        "model_type = 'Lexicon'\n",
        "\n",
        "url = \"https://github.com/trinker/lexicon/blob/master/data/hash_sentiment_huliu.rda?raw=true\"\n",
        "dst_path = f\"{lexicon_dense}.rda\"\n",
        "dst_path_again = pyreadr.download_file(url, dst_path)\n",
        "res = pyreadr.read_r(dst_path)\n",
        "# print(f'type(res): {type(res)}\\n')\n",
        "# res\n",
        "\n",
        "# Convert to DataFrame\n",
        "lexicon_df = res[f'hash_sentiment_{lexicon_name}']\n",
        "# lexicon_df.head()\n",
        "lexicon_df.info()\n",
        "print('\\n')\n",
        "\n",
        "# Reshape into Dictionary[word] = sentiment\n",
        "lexicon_df.set_index('x', inplace=True)\n",
        "lexicons_dt[lexicon_name] = lexicon_df.to_dict()['y']\n",
        "\n",
        "# Test Words\n",
        "print(f'Testing {lexicon_name} lexicon for WORDS Sentiment')\n",
        "print('--------------------------------------------------')\n",
        "for i, atest_word in enumerate(global_vars.TEST_WORDS_LS):\n",
        "\n",
        "  if (lexicons_dt[lexicon_name].get(atest_word.lower()) is None):\n",
        "    # print(f'ERROR: {atest_word} not found in lexicon')\n",
        "    word_sentiment_fl = 'ERROR'\n",
        "    print(f'[{word_sentiment_fl: ^8}]: {atest_word} [NOT IN LEXICON]\\n')\n",
        "    continue\n",
        "  else:\n",
        "    word_sentiment_fl = lexicons_dt[lexicon_name].get(atest_word.lower())\n",
        "    print(f'[{word_sentiment_fl: ^8}]: {atest_word}\\n')\n",
        "\n",
        "\n",
        "# Test Sentences\n",
        "print(f'\\nTesting {lexicon_name} lexicon for SENTENCES Sentiment')\n",
        "print('--------------------------------------------------')\n",
        "for i, atest_str in enumerate(global_vars.TEST_SENTENCES_LS):\n",
        "\n",
        "  str_sentiment_fl = get_lexsent_sentiment(atest_str, lexicons_dt[lexicon_name])\n",
        "  print(f'[{str_sentiment_fl: ^8}]: {atest_str}\\n')"
      ]
    },
    {
      "cell_type": "code",
      "execution_count": null,
      "metadata": {
        "id": "tgkD8_YRkDDV"
      },
      "outputs": [],
      "source": [
        "# Compute Sentiments based upon SentimentR Lexicon\n",
        "\n",
        "for i, atext in enumerate(corpus_texts_dt.keys()):\n",
        "  print(f\"Processing #{i}: {atext}\")\n",
        "\n",
        "  corpus_texts_dt[atext][model_name] = corpus_texts_dt[atext]['text_clean'].apply(lambda x: get_lexsent_sentiment(x, lexicons_dt[lexicon_name]))"
      ]
    },
    {
      "cell_type": "code",
      "execution_count": null,
      "metadata": {
        "id": "h54Q_R4fkDDX"
      },
      "outputs": [],
      "source": [
        "corpus_texts_dt[corpus_texts_ls[0]].head()"
      ]
    },
    {
      "cell_type": "code",
      "execution_count": null,
      "metadata": {
        "id": "CG2hYqXckDDY"
      },
      "outputs": [],
      "source": [
        "# Verfiy Plausible Sentiment Values via Plot\n",
        "\n",
        "text_indx = 0\n",
        "\n",
        "text_title_str = corpus_texts_ls[text_indx]\n",
        "# lexicon_name = 'jockers_rinker'\n",
        "lexicon_dense = ''.join(lexicon_name.split('_'))\n",
        "\n",
        "win_10per = int(0.10*corpus_texts_dt[text_title_str].shape[0])\n",
        "plot_title_str = f\"{global_vars.corpus_titles_dt[text_title_str][0]}\\nSentiment Analysis\\n{model_type} Model: {lexicon_name}\"\n",
        "corpus_texts_dt[text_title_str][model_name].rolling(win_10per, center=True, min_periods=0).mean().plot(title=plot_title_str)\n",
        "plt.grid(True)\n",
        "plt.show();"
      ]
    },
    {
      "cell_type": "markdown",
      "metadata": {
        "id": "ZXHUQV-f63j_"
      },
      "source": [
        "### **NRC**"
      ]
    },
    {
      "cell_type": "code",
      "execution_count": null,
      "metadata": {
        "id": "5mCtNSbmoQ2A"
      },
      "outputs": [],
      "source": [
        "# Get Lexicon from SentimentR github repo\n",
        "\n",
        "lexicon_name = 'nrc'\n",
        "lexicon_dense = ''.join(lexicon_name.split('_'))\n",
        "lexicon_df = pd.DataFrame()\n",
        "\n",
        "model_name = 'pysentimentr_nrc'\n",
        "model_type = 'Lexicon'\n",
        "\n",
        "url = \"https://github.com/trinker/lexicon/blob/master/data/hash_sentiment_nrc.rda?raw=true\"\n",
        "dst_path = f\"{lexicon_dense}.rda\"\n",
        "dst_path_again = pyreadr.download_file(url, dst_path)\n",
        "res = pyreadr.read_r(dst_path)\n",
        "# print(f'type(res): {type(res)}\\n')\n",
        "# res\n",
        "\n",
        "# Convert to DataFrame\n",
        "lexicon_df = res[f'hash_sentiment_{lexicon_name}']\n",
        "# lexicon_df.head()\n",
        "lexicon_df.info()\n",
        "print('\\n')\n",
        "\n",
        "# Reshape into Dictionary[word] = sentiment\n",
        "lexicon_df.set_index('x', inplace=True)\n",
        "lexicons_dt[lexicon_name] = lexicon_df.to_dict()['y']\n",
        "\n",
        "# Test Words\n",
        "print(f'Testing {lexicon_name} lexicon for WORDS Sentiment')\n",
        "print('--------------------------------------------------')\n",
        "for i, atest_word in enumerate(global_vars.TEST_WORDS_LS):\n",
        "\n",
        "  if (lexicons_dt[lexicon_name].get(atest_word.lower()) is None):\n",
        "    # print(f'ERROR: {atest_word} not found in lexicon')\n",
        "    word_sentiment_fl = 'ERROR'\n",
        "    print(f'[{word_sentiment_fl: ^8}]: {atest_word} [NOT IN LEXICON]\\n')\n",
        "    continue\n",
        "  else:\n",
        "    word_sentiment_fl = lexicons_dt[lexicon_name].get(atest_word.lower())\n",
        "    print(f'[{word_sentiment_fl: ^8}]: {atest_word}\\n')\n",
        "\n",
        "\n",
        "# Test Sentences\n",
        "print(f'\\nTesting {lexicon_name} lexicon for SENTENCES Sentiment')\n",
        "print('--------------------------------------------------')\n",
        "for i, atest_str in enumerate(global_vars.TEST_SENTENCES_LS):\n",
        "\n",
        "  str_sentiment_fl = get_lexsent_sentiment(atest_str, lexicons_dt[lexicon_name])\n",
        "  print(f'[{str_sentiment_fl: ^8}]: {atest_str}\\n')"
      ]
    },
    {
      "cell_type": "code",
      "execution_count": null,
      "metadata": {
        "id": "bRVTs8aZoQ2C"
      },
      "outputs": [],
      "source": [
        "# Compute Sentiments based upon SentimentR Lexicon\n",
        "\n",
        "for i, atext in enumerate(corpus_texts_dt.keys()):\n",
        "  print(f\"Processing #{i}: {atext}\")\n",
        "\n",
        "  corpus_texts_dt[atext][model_name] = corpus_texts_dt[atext]['text_clean'].apply(lambda x: get_lexsent_sentiment(x, lexicons_dt[lexicon_name]))"
      ]
    },
    {
      "cell_type": "code",
      "execution_count": null,
      "metadata": {
        "id": "LyMa3VZyoQ2G"
      },
      "outputs": [],
      "source": [
        "corpus_texts_dt[corpus_texts_ls[0]].head()"
      ]
    },
    {
      "cell_type": "code",
      "execution_count": null,
      "metadata": {
        "id": "mn_VpRGJoQ2I"
      },
      "outputs": [],
      "source": [
        "# Plot New Lexicon Values\n",
        "\n",
        "text_indx = 0\n",
        "\n",
        "text_title_str = corpus_texts_ls[text_indx]\n",
        "# lexicon_name = 'jockers_rinker'\n",
        "lexicon_dense = ''.join(lexicon_name.split('_'))\n",
        "\n",
        "win_10per = int(0.10*corpus_texts_dt[text_title_str].shape[0])\n",
        "plot_title_str = f\"{global_vars.corpus_titles_dt[text_title_str][0]}\\nSentiment Analysis\\n{model_type} Model: {lexicon_name}\"\n",
        "corpus_texts_dt[text_title_str][model_name].rolling(win_10per, center=True, min_periods=0).mean().plot(title=plot_title_str)\n",
        "plt.grid(True)\n",
        "plt.show();"
      ]
    },
    {
      "cell_type": "markdown",
      "metadata": {
        "id": "1_TKBGnF6ooO"
      },
      "source": [
        "### **SentiWord**\n",
        "\n",
        "* https://www.sentic.net/sentic-patterns.pdf\n",
        "* https://www.quora.com/Sentiment-Analysis-How-does-CLiPS-Pattern-calculate-the-polarity-of-a-sentence-What-is-the-maths-involved-in-it \n",
        "* https://github.com/clips/pattern/wiki/pattern-en#sentiment\n"
      ]
    },
    {
      "cell_type": "code",
      "execution_count": null,
      "metadata": {
        "id": "lMMKo1ehoiWp"
      },
      "outputs": [],
      "source": [
        "# Get Lexicon from SentimentR github repo\n",
        "\n",
        "lexicon_name = 'sentiword'\n",
        "lexicon_dense = ''.join(lexicon_name.split('_'))\n",
        "lexicon_df = pd.DataFrame()\n",
        "\n",
        "model_name = 'pysentimentr_sentiword'\n",
        "model_type = 'Lexicon'\n",
        "\n",
        "url = \"https://github.com/trinker/lexicon/blob/master/data/hash_sentiment_sentiword.rda?raw=true\"\n",
        "dst_path = f\"{lexicon_dense}.rda\"\n",
        "dst_path_again = pyreadr.download_file(url, dst_path)\n",
        "res = pyreadr.read_r(dst_path)\n",
        "# print(f'type(res): {type(res)}\\n')\n",
        "# res\n",
        "\n",
        "# Convert to DataFrame\n",
        "lexicon_df = res[f'hash_sentiment_{lexicon_name}']\n",
        "# lexicon_df.head()\n",
        "lexicon_df.info()\n",
        "print('\\n')\n",
        "\n",
        "# Reshape into Dictionary[word] = sentiment\n",
        "lexicon_df.set_index('x', inplace=True)\n",
        "lexicons_dt[lexicon_name] = lexicon_df.to_dict()['y']\n",
        "\n",
        "# Test Words\n",
        "print(f'Testing {lexicon_name} lexicon for WORDS Sentiment')\n",
        "print('--------------------------------------------------')\n",
        "for i, aword_str in enumerate(global_vars.TEST_WORDS_LS):\n",
        "\n",
        "  if (lexicons_dt[lexicon_name].get(aword_str.lower()) is None):\n",
        "    # print(f'ERROR: {aword_str} not found in lexicon')\n",
        "    word_sentiment_fl = 'ERROR'\n",
        "    print(f'[{word_sentiment_fl: ^8}]: {aword_str} [NOT IN LEXICON]\\n')\n",
        "    continue\n",
        "  else:\n",
        "    word_sentiment_fl = lexicons_dt[lexicon_name].get(aword_str.lower())\n",
        "    print(f'[{word_sentiment_fl: ^8}]: {aword_str}\\n')\n",
        "\n",
        "\n",
        "# Test Sentences\n",
        "print(f'\\nTesting {lexicon_name} lexicon for SENTENCES Sentiment')\n",
        "print('--------------------------------------------------')\n",
        "for i, asent_str in enumerate(global_vars.TEST_SENTENCES_LS):\n",
        "\n",
        "  str_sentiment_fl = get_lexsent_sentiment(asent_str, lexicons_dt[lexicon_name])\n",
        "  print(f'[{str_sentiment_fl: ^8}]: {asent_str}\\n')"
      ]
    },
    {
      "cell_type": "code",
      "execution_count": null,
      "metadata": {
        "id": "WLWd8zF5oiWv"
      },
      "outputs": [],
      "source": [
        "# Compute Sentiments based upon SentimentR Lexicon\n",
        "\n",
        "for i, atext in enumerate(corpus_texts_dt.keys()):\n",
        "  print(f\"Processing #{i}: {atext}\")\n",
        "\n",
        "  corpus_texts_dt[atext][model_name] = corpus_texts_dt[atext]['text_clean'].apply(lambda x: get_lexsent_sentiment(x, lexicons_dt[lexicon_name]))"
      ]
    },
    {
      "cell_type": "code",
      "execution_count": null,
      "metadata": {
        "id": "zCa0SKpzoiWz"
      },
      "outputs": [],
      "source": [
        "corpus_texts_dt[corpus_texts_ls[0]].head()"
      ]
    },
    {
      "cell_type": "code",
      "execution_count": null,
      "metadata": {
        "id": "qaZle71ToiW0"
      },
      "outputs": [],
      "source": [
        "# Verfiy Plausible Sentiment Values via Plot\n",
        "\n",
        "text_indx = 0\n",
        "\n",
        "text_title_str = corpus_texts_ls[text_indx]\n",
        "# lexicon_name = 'jockers_rinker'\n",
        "lexicon_dense = ''.join(lexicon_name.split('_'))\n",
        "\n",
        "win_10per = int(0.10*corpus_texts_dt[text_title_str].shape[0])\n",
        "plot_title_str = f\"{global_vars.corpus_titles_dt[text_title_str][0]}\\nSentiment Analysis\\n{model_type} Model: {lexicon_name}\"\n",
        "corpus_texts_dt[text_title_str][model_name].rolling(win_10per, center=True, min_periods=0).mean().plot(title=plot_title_str)\n",
        "plt.grid(True)\n",
        "plt.show();"
      ]
    },
    {
      "cell_type": "markdown",
      "metadata": {
        "id": "igCCPduG6vjZ"
      },
      "source": [
        "### **SenticNet**"
      ]
    },
    {
      "cell_type": "code",
      "execution_count": null,
      "metadata": {
        "id": "1NtFDg-dozaZ"
      },
      "outputs": [],
      "source": [
        "# Get Lexicon from SentimentR github repo\n",
        "\n",
        "lexicon_name = 'senticnet'\n",
        "lexicon_dense = ''.join(lexicon_name.split('_'))\n",
        "lexicon_df = pd.DataFrame()\n",
        "\n",
        "model_name = 'pysentimentr_senticnet'\n",
        "model_type = 'Lexicon'\n",
        "\n",
        "url = \"https://github.com/trinker/lexicon/blob/master/data/hash_sentiment_senticnet.rda?raw=true\"\n",
        "dst_path = f\"{lexicon_dense}.rda\"\n",
        "dst_path_again = pyreadr.download_file(url, dst_path)\n",
        "res = pyreadr.read_r(dst_path)\n",
        "# print(f'type(res): {type(res)}\\n')\n",
        "# res\n",
        "\n",
        "# Convert to DataFrame\n",
        "lexicon_df = res[f'hash_sentiment_{lexicon_name}']\n",
        "# lexicon_df.head()\n",
        "lexicon_df.info()\n",
        "print('\\n')\n",
        "\n",
        "# Reshape into Dictionary[word] = sentiment\n",
        "lexicon_df.set_index('x', inplace=True)\n",
        "lexicons_dt[lexicon_name] = lexicon_df.to_dict()['y']\n",
        "\n",
        "# Test Words\n",
        "print(f'Testing {lexicon_name} lexicon for WORDS Sentiment')\n",
        "print('--------------------------------------------------')\n",
        "for i, atest_word in enumerate(global_vars.TEST_WORDS_LS):\n",
        "\n",
        "  if (lexicons_dt[lexicon_name].get(atest_word.lower()) is None):\n",
        "    # print(f'ERROR: {atest_word} not found in lexicon')\n",
        "    word_sentiment_fl = 'ERROR'\n",
        "    print(f'[{word_sentiment_fl: ^8}]: {atest_word} [NOT IN LEXICON]\\n')\n",
        "    continue\n",
        "  else:\n",
        "    word_sentiment_fl = lexicons_dt[lexicon_name].get(atest_word.lower())\n",
        "    print(f'[{word_sentiment_fl: ^8}]: {atest_word}\\n')\n",
        "\n",
        "\n",
        "# Test Sentences\n",
        "print(f'\\nTesting {lexicon_name} lexicon for SENTENCES Sentiment')\n",
        "print('--------------------------------------------------')\n",
        "for i, atest_str in enumerate(global_vars.TEST_SENTENCES_LS):\n",
        "\n",
        "  str_sentiment_fl = get_lexsent_sentiment(atest_str, lexicons_dt[lexicon_name])\n",
        "  print(f'[{str_sentiment_fl: ^8}]: {atest_str}\\n')"
      ]
    },
    {
      "cell_type": "code",
      "execution_count": null,
      "metadata": {
        "id": "X8PDMHBzozaf"
      },
      "outputs": [],
      "source": [
        "# Compute Sentiments based upon SentimentR Lexicon\n",
        "\n",
        "for i, atext in enumerate(corpus_texts_dt.keys()):\n",
        "  print(f\"Processing #{i}: {atext}\")\n",
        "\n",
        "  corpus_texts_dt[atext][model_name] = corpus_texts_dt[atext]['text_clean'].apply(lambda x: get_lexsent_sentiment(x, lexicons_dt[lexicon_name]))"
      ]
    },
    {
      "cell_type": "code",
      "execution_count": null,
      "metadata": {
        "id": "uuLUHJunozah"
      },
      "outputs": [],
      "source": [
        "corpus_texts_dt[corpus_texts_ls[0]].head()"
      ]
    },
    {
      "cell_type": "code",
      "execution_count": null,
      "metadata": {
        "id": "_iFjMRiqozai"
      },
      "outputs": [],
      "source": [
        "# Plot New Lexicon Values\n",
        "\n",
        "text_indx = 0\n",
        "\n",
        "text_title_str = corpus_texts_ls[text_indx]\n",
        "# lexicon_name = 'jockers_rinker'\n",
        "lexicon_dense = ''.join(lexicon_name.split('_'))\n",
        "\n",
        "win_10per = int(0.10*corpus_texts_dt[text_title_str].shape[0])\n",
        "plot_title_str = f\"{global_vars.corpus_titles_dt[text_title_str][0]}\\nSentiment Analysis\\n{model_type} Model: {lexicon_name}\"\n",
        "corpus_texts_dt[text_title_str][model_name].rolling(win_10per, center=True, min_periods=0).mean().plot(title=plot_title_str)\n",
        "plt.grid(True)\n",
        "plt.show();"
      ]
    },
    {
      "cell_type": "markdown",
      "metadata": {
        "id": "D7QotExQ6xBB"
      },
      "source": [
        "### **Loughran-McDonald**"
      ]
    },
    {
      "cell_type": "code",
      "execution_count": null,
      "metadata": {
        "id": "IXTS5DCYpHHE"
      },
      "outputs": [],
      "source": [
        "# Get Lexicon from SentimentR github repo\n",
        "\n",
        "lexicon_name = 'loughran_mcdonald'\n",
        "lexicon_dense = ''.join(lexicon_name.split('_'))\n",
        "lexicon_df = pd.DataFrame()\n",
        "\n",
        "model_name = 'pysentimentr_lmcd'\n",
        "model_type = 'Lexicon'\n",
        "\n",
        "url = \"https://github.com/trinker/lexicon/blob/master/data/hash_sentiment_loughran_mcdonald.rda?raw=true\"\n",
        "dst_path = f\"{lexicon_dense}.rda\"\n",
        "dst_path_again = pyreadr.download_file(url, dst_path)\n",
        "res = pyreadr.read_r(dst_path)\n",
        "# print(f'type(res): {type(res)}\\n')\n",
        "# res\n",
        "\n",
        "# Convert to DataFrame\n",
        "lexicon_df = res[f'hash_sentiment_{lexicon_name}']\n",
        "# lexicon_df.head()\n",
        "lexicon_df.info()\n",
        "print('\\n')\n",
        "\n",
        "# Reshape into Dictionary[word] = sentiment\n",
        "lexicon_df.set_index('x', inplace=True)\n",
        "lexicons_dt[lexicon_name] = lexicon_df.to_dict()['y']\n",
        "\n",
        "# Test Words\n",
        "print(f'Testing {lexicon_name} lexicon for WORDS Sentiment')\n",
        "print('--------------------------------------------------')\n",
        "for i, atest_word in enumerate(global_vars.TEST_WORDS_LS):\n",
        "\n",
        "  if (lexicons_dt[lexicon_name].get(atest_word.lower()) is None):\n",
        "    # print(f'ERROR: {atest_word} not found in lexicon')\n",
        "    word_sentiment_fl = 'ERROR'\n",
        "    print(f'[{word_sentiment_fl: ^8}]: {atest_word} [NOT IN LEXICON]\\n')\n",
        "    continue\n",
        "  else:\n",
        "    word_sentiment_fl = lexicons_dt[lexicon_name].get(atest_word.lower())\n",
        "    print(f'[{word_sentiment_fl: ^8}]: {atest_word}\\n')\n",
        "\n",
        "\n",
        "# Test Sentences\n",
        "print(f'\\nTesting {lexicon_name} lexicon for SENTENCES Sentiment')\n",
        "print('--------------------------------------------------')\n",
        "for i, atest_str in enumerate(global_vars.TEST_SENTENCES_LS):\n",
        "\n",
        "  str_sentiment_fl = get_lexsent_sentiment(atest_str, lexicons_dt[lexicon_name])\n",
        "  print(f'[{str_sentiment_fl: ^8}]: {atest_str}\\n')"
      ]
    },
    {
      "cell_type": "code",
      "execution_count": null,
      "metadata": {
        "id": "kuPqJG8lpHHH"
      },
      "outputs": [],
      "source": [
        "# Compute Sentiments based upon SentimentR Lexicon\n",
        "\n",
        "for i, atext in enumerate(corpus_texts_dt.keys()):\n",
        "  print(f\"Processing #{i}: {atext}\")\n",
        "\n",
        "  corpus_texts_dt[atext][model_name] = corpus_texts_dt[atext]['text_clean'].apply(lambda x: get_lexsent_sentiment(x, lexicons_dt[lexicon_name]))"
      ]
    },
    {
      "cell_type": "code",
      "execution_count": null,
      "metadata": {
        "id": "E2JVdy4JpHHJ"
      },
      "outputs": [],
      "source": [
        "corpus_texts_dt[corpus_texts_ls[0]].head()"
      ]
    },
    {
      "cell_type": "code",
      "execution_count": null,
      "metadata": {
        "id": "XzslktMQpHHK"
      },
      "outputs": [],
      "source": [
        "# Verfiy Plausible Sentiment Values via Plot\n",
        "\n",
        "text_indx = 0\n",
        "\n",
        "text_title_str = corpus_texts_ls[text_indx]\n",
        "# lexicon_name = 'jockers_rinker'\n",
        "lexicon_dense = ''.join(lexicon_name.split('_'))\n",
        "\n",
        "win_10per = int(0.10*corpus_texts_dt[text_title_str].shape[0])\n",
        "plot_title_str = f\"{global_vars.corpus_titles_dt[text_title_str][0]}\\nSentiment Analysis\\n{model_type} Model: {lexicon_name}\"\n",
        "corpus_texts_dt[text_title_str][model_name].rolling(win_10per, center=True, min_periods=0).mean().plot(title=plot_title_str)\n",
        "plt.grid(True)\n",
        "plt.show();"
      ]
    },
    {
      "cell_type": "markdown",
      "metadata": {
        "id": "4EdTcDNj67cK"
      },
      "source": [
        "### **(FUTURE) MPQA**\n",
        "\n",
        "* https://mpqa.cs.pitt.edu/"
      ]
    },
    {
      "cell_type": "code",
      "execution_count": null,
      "metadata": {
        "id": "B9rae5Dm7AiG"
      },
      "outputs": [],
      "source": [
        "# !wget https://mpqa.cs.pitt.edu/corpora/mpqa_corpus/mpqa_corpus_3_0"
      ]
    },
    {
      "cell_type": "code",
      "execution_count": null,
      "metadata": {
        "id": "-vY4Wgq6vrZ5"
      },
      "outputs": [],
      "source": [
        "# !ls -altr\n",
        "# !head -n 10 mpqa_corpus_3_0"
      ]
    },
    {
      "cell_type": "markdown",
      "metadata": {
        "id": "5BIT9nhu69u_"
      },
      "source": [
        "### **(FUTURE) LIWC**\n",
        "\n",
        "* https://github.com/search?q=LIWC\n",
        "* https://github.com/search?q=LIWC"
      ]
    },
    {
      "cell_type": "markdown",
      "metadata": {
        "id": "b9mEYM-p6kL5"
      },
      "source": [
        "### **AFINN**"
      ]
    },
    {
      "cell_type": "code",
      "execution_count": null,
      "metadata": {
        "id": "kO2VyxeN6f15"
      },
      "outputs": [],
      "source": [
        "!pip install afinn"
      ]
    },
    {
      "cell_type": "code",
      "execution_count": null,
      "metadata": {
        "id": "bRF2b7BnwVC9"
      },
      "outputs": [],
      "source": [
        "from afinn import Afinn\n",
        "afinn = Afinn(language='en')\n",
        "\n",
        "lexicon_name = 'AFINN'\n",
        "lexicon_dense = ''.join(lexicon_name.split('_'))\n",
        "lexicon_df = pd.DataFrame()\n",
        "\n",
        "model_name = 'afinn'\n",
        "model_type = 'Lexicon'"
      ]
    },
    {
      "cell_type": "code",
      "execution_count": null,
      "metadata": {
        "id": "yJ_4xTVEpo-Z"
      },
      "outputs": [],
      "source": [
        "# Test Words\n",
        "print(f'Testing {lexicon_name} lexicon for WORDS Sentiment')\n",
        "print('--------------------------------------------------')\n",
        "for i, aword_str in enumerate(global_vars.TEST_WORDS_LS):\n",
        "\n",
        "  word_sentiment_fl = afinn.score(aword_str.lower())\n",
        "  print(f'[{word_sentiment_fl: ^8}]: {aword_str}\\n')\n",
        "\n",
        "\n",
        "# Test Sentences\n",
        "print(f'\\nTesting {lexicon_name} lexicon for SENTENCES Sentiment')\n",
        "print('--------------------------------------------------')\n",
        "for i, asent_str in enumerate(global_vars.TEST_SENTENCES_LS):\n",
        "\n",
        "  words_ls = asent_str.split()\n",
        "  sent_sentiment_fl = 0.0\n",
        "\n",
        "  for j, atest_word in enumerate(words_ls):\n",
        "    sent_sentiment_fl += afinn.score(atest_word.lower())\n",
        "\n",
        "  print(f'[{sent_sentiment_fl: ^8}]: {asent_str}\\n')"
      ]
    },
    {
      "cell_type": "code",
      "execution_count": null,
      "metadata": {
        "id": "ZYpUFHOlqt1Z"
      },
      "outputs": [],
      "source": [
        "# Compute Sentiments based upon SentimentR Lexicon\n",
        "\n",
        "for i, atext in enumerate(corpus_texts_dt.keys()):\n",
        "  print(f\"Processing #{i}: {atext}\")\n",
        "\n",
        "  corpus_texts_dt[atext][model_name] = corpus_texts_dt[atext]['text_clean'].apply(lambda x: afinn.score(x.lower()))"
      ]
    },
    {
      "cell_type": "code",
      "execution_count": null,
      "metadata": {
        "id": "iZ8NMFgwrNPu"
      },
      "outputs": [],
      "source": [
        "corpus_texts_dt[corpus_texts_ls[0]].head()"
      ]
    },
    {
      "cell_type": "code",
      "execution_count": null,
      "metadata": {
        "id": "bC5I-fYErNPw"
      },
      "outputs": [],
      "source": [
        "# Verfiy Plausible Sentiment Values via Plot\n",
        "\n",
        "text_indx = 0\n",
        "\n",
        "text_title_str = corpus_texts_ls[text_indx]\n",
        "# lexicon_name = 'jockers_rinker'\n",
        "lexicon_dense = ''.join(lexicon_name.split('_'))\n",
        "\n",
        "win_10per = int(0.10*corpus_texts_dt[text_title_str].shape[0])\n",
        "plot_title_str = f\"{global_vars.corpus_titles_dt[text_title_str][0]}\\nSentiment Analysis\\n{model_type} Model: {lexicon_name}\"\n",
        "corpus_texts_dt[text_title_str][model_name].rolling(win_10per, center=True, min_periods=0).mean().plot(title=plot_title_str)\n",
        "plt.grid(True)\n",
        "plt.show();"
      ]
    },
    {
      "cell_type": "markdown",
      "metadata": {
        "id": "Q7s_OD2J_QHA"
      },
      "source": [
        "### **Save Checkpoint**"
      ]
    },
    {
      "cell_type": "code",
      "execution_count": null,
      "metadata": {
        "id": "Durdojkm7zl5"
      },
      "outputs": [],
      "source": [
        "# Verify in SentimentArcs Root Directory\n",
        "#   and destination Subdir for Raw Sentiment Values\n",
        "\n",
        "!pwd\n",
        "print('\\n')\n",
        "\n",
        "print(f'SUBDIR_SENTIMENT_RAW: {SUBDIR_SENTIMENT_RAW}\\n\\n')\n",
        "\n",
        "print('Existing Sentiment Datafiles in Destination Subdir:\\n')\n",
        "\n",
        "subdir_path = f'./sentiment_raw/{SUBDIR_SENTIMENT_RAW}'\n",
        "!ls $subdir_path"
      ]
    },
    {
      "cell_type": "code",
      "execution_count": null,
      "metadata": {
        "id": "EbiBAtrg9lJe"
      },
      "outputs": [],
      "source": [
        "# Verify Saving Corpus\n",
        "\n",
        "print(f'Saving Corpus_Genre: {Corpus_Genre}')\n",
        "print(f'        Corpus_Type: {Corpus_Type}')\n",
        "print(f'      Corpus_Number: {Corpus_Number}')\n",
        "\n",
        "print(f'\\nThese Text Titles:\\n')\n",
        "corpus_texts_dt.keys()"
      ]
    },
    {
      "cell_type": "code",
      "execution_count": null,
      "metadata": {
        "id": "0-Kzyc3FEZ71"
      },
      "outputs": [],
      "source": [
        "# Save sentiment values to subdir_sentiments\n",
        "\n",
        "if Corpus_Type == 'new':\n",
        "  save_filename = f'sentiment_raw_{Corpus_Genre}_{Corpus_Type}_corpus{Corpus_Number}_all_7lex.json'\n",
        "  print(f'Saving to:\\n  {save_filename}')\n",
        "elif Corpus_Type == 'reference':\n",
        "  save_filename = f'sentiment_raw_{Corpus_Genre}_{Corpus_Type}_all_7lex.json'\n",
        "  print(f'Saving file:\\n  {save_filename}')\n",
        "else:\n",
        "  save_filename = ''\n",
        "  print(f'ERROR: Illegal value for Corpus_Type: {Corpus_Type}')\n",
        "\n",
        "if len(save_filename) > 0:\n",
        "  print(f'Writing to subdir:\\n  {subdir_path}')\n",
        "  write_dict_dfs(corpus_texts_dt, out_file=save_filename, out_dir=subdir_path)"
      ]
    },
    {
      "cell_type": "code",
      "source": [
        "# Verify Dictionary was saved correctly \n",
        "\n",
        "!ls -altr $subdir_path"
      ],
      "metadata": {
        "id": "KthWAoxYiyd0"
      },
      "execution_count": null,
      "outputs": []
    },
    {
      "cell_type": "code",
      "execution_count": null,
      "metadata": {
        "id": "WTjSK5KX-BQm"
      },
      "outputs": [],
      "source": [
        "# Verify Dictionary was saved correctly by reading back the *.json datafile\n",
        "\n",
        "test_dt = read_dict_dfs(in_file=save_filename, in_dir=subdir_path)\n",
        "test_dt.keys()\n",
        "print('\\n')\n",
        "test_dt[corpus_texts_ls[0]].info()"
      ]
    },
    {
      "cell_type": "markdown",
      "metadata": {
        "id": "kSACJ2N06MNf"
      },
      "source": [
        "## **Lexicons + Heuristics**"
      ]
    },
    {
      "cell_type": "markdown",
      "metadata": {
        "id": "XQXGPyAT7CMk"
      },
      "source": [
        "### **VADER**"
      ]
    },
    {
      "cell_type": "code",
      "execution_count": null,
      "metadata": {
        "id": "FIt-cGAMPiv0"
      },
      "outputs": [],
      "source": [
        "!pip install vaderSentiment"
      ]
    },
    {
      "cell_type": "code",
      "execution_count": null,
      "metadata": {
        "id": "GCb8sbP16Gz0"
      },
      "outputs": [],
      "source": [
        "from vaderSentiment.vaderSentiment import SentimentIntensityAnalyzer\n",
        "\n",
        "vader_analyzer = SentimentIntensityAnalyzer()\n",
        "\n",
        "lexicon_name = 'VADER'\n",
        "lexicon_dense = ''.join(lexicon_name.split('_'))\n",
        "lexicon_df = pd.DataFrame()\n",
        "\n",
        "model_name = 'vader'\n",
        "model_type = 'Heuristic'\n",
        "\n",
        "test_str = \"The food was great!\"\n",
        "\n",
        "vs = vader_analyzer.polarity_scores(test_str)\n",
        "print(\"{:-<65} {}\".format(test_str, str(vs)))"
      ]
    },
    {
      "cell_type": "code",
      "execution_count": null,
      "metadata": {
        "id": "brIvCNIAty6Y"
      },
      "outputs": [],
      "source": [
        "def sent2vader_comp(asent_str):\n",
        "  '''\n",
        "  Given a Sentence as a text string\n",
        "  Return a Sentiment = sum(VADER sentiments for each word)\n",
        "  '''\n",
        "\n",
        "  words_ls = asent_str.split()\n",
        "  sent_sentiment_fl = 0.0\n",
        "\n",
        "  for j, atest_word in enumerate(words_ls):\n",
        "    sent_sentiment_fl += vader_analyzer.polarity_scores(atest_word.lower())['compound']\n",
        "\n",
        "  return sent_sentiment_fl\n"
      ]
    },
    {
      "cell_type": "code",
      "execution_count": null,
      "metadata": {
        "id": "Mk62GVwHsIR6"
      },
      "outputs": [],
      "source": [
        "# Test Words\n",
        "print(f'Testing {lexicon_name} lexicon for WORDS Sentiment')\n",
        "print('--------------------------------------------------')\n",
        "for i, aword_str in enumerate(global_vars.TEST_WORDS_LS):\n",
        "\n",
        "  # print(f'Looking up VADER sentiment for {aword_str}')\n",
        "  word_sentiment_fl = vader_analyzer.polarity_scores(aword_str.lower())['compound']\n",
        "  print(f'[{word_sentiment_fl: ^8.3f}]: {aword_str}\\n')\n",
        "\n",
        "\n",
        "# Test Sentences\n",
        "print(f'\\nTesting {lexicon_name} lexicon for SENTENCES Sentiment')\n",
        "print('--------------------------------------------------')\n",
        "for i, asent_str in enumerate(global_vars.TEST_SENTENCES_LS):\n",
        "\n",
        "  sent_sentiment_fl = sent2vader_comp(asent_str)\n",
        "  print(f'[{sent_sentiment_fl: ^8.3f}]: {asent_str}\\n')\n"
      ]
    },
    {
      "cell_type": "code",
      "execution_count": null,
      "metadata": {
        "id": "JyLw15CUtrnI"
      },
      "outputs": [],
      "source": [
        "# Compute Sentiments based upon SentimentR Lexicon\n",
        "\n",
        "for i, atext in enumerate(corpus_texts_dt.keys()):\n",
        "  print(f\"Processing #{i}: {atext}\")\n",
        "\n",
        "  corpus_texts_dt[atext][model_name] = corpus_texts_dt[atext]['text_clean'].apply(lambda x: sent2vader_comp(x.lower()))"
      ]
    },
    {
      "cell_type": "code",
      "execution_count": null,
      "metadata": {
        "id": "QvxCFDrgtrnM"
      },
      "outputs": [],
      "source": [
        "corpus_texts_dt[corpus_texts_ls[0]].head()"
      ]
    },
    {
      "cell_type": "code",
      "execution_count": null,
      "metadata": {
        "id": "f_eKXyCTtrnQ"
      },
      "outputs": [],
      "source": [
        "# Verfiy Plausible Sentiment Values via Plot\n",
        "\n",
        "text_indx = 0\n",
        "\n",
        "text_title_str = corpus_texts_ls[text_indx]\n",
        "# lexicon_name = 'jockers_rinker'\n",
        "lexicon_dense = ''.join(lexicon_name.split('_'))\n",
        "\n",
        "win_10per = int(0.10*corpus_texts_dt[text_title_str].shape[0])\n",
        "plot_title_str = f\"{global_vars.corpus_titles_dt[text_title_str][0]}\\nSentiment Analysis\\n{model_type} Model: {lexicon_name}\"\n",
        "corpus_texts_dt[text_title_str][model_name].rolling(win_10per, center=True, min_periods=0).mean().plot(title=plot_title_str)\n",
        "plt.grid(True)\n",
        "plt.show();"
      ]
    },
    {
      "cell_type": "markdown",
      "metadata": {
        "id": "rH0_9K_x7L1E"
      },
      "source": [
        "## **Embeddings**\n",
        "\n",
        "* https://neptune.ai/blog/document-classification-small-datasets\n",
        "* https://neptune.ai/blog/sentiment-analysis-python-textblob-vs-vader-vs-flair (TB,VADER,Flair)"
      ]
    },
    {
      "cell_type": "markdown",
      "metadata": {
        "id": "EJsKKRNT3jfI"
      },
      "source": [
        "### **(FUTURE) FastText**\n",
        "\n",
        "* https://github.com/facebookresearch/fastText\n",
        "* https://medium.com/@lope.ai/sentiment-analysis-example-using-fasttext-6b1b4d334c53\n",
        "* https://colab.research.google.com/drive/1bb2OWQcDDolESwhkATD0el0RvF33fenZ#scrollTo=X5PWbhOzZ3ze\n",
        "* https://fasttext.cc/docs/en/english-vectors.html (embeddings)\n",
        "* https://github.com/RaRe-Technologies/gensim/blob/37e49971efa74310b300468a5b3cf531319c6536/docs/notebooks/Word2Vec_FastText_Comparison.ipynb\n",
        "* https://www.analyticsvidhya.com/blog/2017/07/word-representations-text-classification-using-fasttext-nlp-facebook/\n",
        "* https://github.com/jatinmandav/Neural-Networks/tree/master/Sentiment-Analysis (Universal Sentence Encoder 77%, fastText 69%, word2vec 69%)\n",
        "* https://github.com/search?q=fasttext+sentiment\n",
        "\n",
        "Code:\n",
        "* https://github.com/charlesmalafosse/FastText-sentiment-analysis-for-tweets/blob/master/betsentiment_sentiment_analysis_fasttext.py (tweets)\n",
        "* https://gist.github.com/hiteshn97/8f222a2773e11d6921b937abaa21ab75 (fastText,  keras)"
      ]
    },
    {
      "cell_type": "code",
      "execution_count": null,
      "metadata": {
        "colab": {
          "background_save": true
        },
        "id": "ueVJ4OdG3jMV"
      },
      "outputs": [],
      "source": [
        "!wget https://github.com/facebookresearch/fastText/archive/v0.9.2.zip\n",
        "!unzip v0.9.2.zip\n",
        "%cd fastText-0.9.2\n",
        "!make"
      ]
    },
    {
      "cell_type": "code",
      "execution_count": null,
      "metadata": {
        "id": "yOivPfK_4RAs"
      },
      "outputs": [],
      "source": [
        "!ls"
      ]
    },
    {
      "cell_type": "code",
      "execution_count": null,
      "metadata": {
        "id": "uWrTkxMS4aT7"
      },
      "outputs": [],
      "source": [
        "!ls ../"
      ]
    },
    {
      "cell_type": "code",
      "execution_count": null,
      "metadata": {
        "id": "3BJ2LBlT365R"
      },
      "outputs": [],
      "source": [
        "%%time\n",
        "\n",
        "train = open('tweets.train','w')  \n",
        "test = open('tweets.valid','w')  \n",
        "# with open('../sentiment140.1600000.csv', mode='r', encoding = \"ISO-8859-1\") as csv_file:  \n",
        "with open('../sentiment140.csv', mode='r', encoding = \"ISO-8859-1\") as csv_file:  \n",
        "    csv_reader = csv.DictReader(csv_file, fieldnames=['target', 'id', 'date', 'flag', 'user', 'text'])\n",
        "    line = 0\n",
        "    for row in csv_reader:\n",
        "        # Clean the training data\n",
        "        # First we lower case the text\n",
        "        text = row[\"text\"].lower()\n",
        "        # remove links\n",
        "        text = re.sub('((www\\.[^\\s]+)|(https?://[^\\s]+))','',text)\n",
        "        #Remove usernames\n",
        "        text = re.sub('@[^\\s]+','', text)\n",
        "        # replace hashtags by just words\n",
        "        text = re.sub(r'#([^\\s]+)', r'\\1', text)\n",
        "        #correct all multiple white spaces to a single white space\n",
        "        text = re.sub('[\\s]+', ' ', text)\n",
        "        # Additional clean up : removing words less than 3 chars, and remove space at the beginning and teh end\n",
        "        text = re.sub(r'\\W*\\b\\w{1,3}\\b', '', text)\n",
        "        text = text.strip()\n",
        "        line = line + 1\n",
        "        # Split data into train and validation\n",
        "        if line%16 == 0:\n",
        "            print(f'__label__{row[\"target\"]} {text}', file=test)\n",
        "        else:\n",
        "            print(f'__label__{row[\"target\"]} {text}', file=train)"
      ]
    },
    {
      "cell_type": "code",
      "execution_count": null,
      "metadata": {
        "id": "oyqYDJNp4t_0"
      },
      "outputs": [],
      "source": [
        "%%time\n",
        "\n",
        "!./fasttext supervised -input tweets.train -output model_tweet\n",
        "# !./fasttext supervised -input tweets.train -output model_tweet -epoch 30 -lr 0.1\n",
        "# !./fasttext supervised -input tweets.train -output model_tweet -dim 300 -label __label__ -pretrainedVecctors wiki.ar.vec # Arabic for Netflix"
      ]
    },
    {
      "cell_type": "code",
      "execution_count": null,
      "metadata": {
        "id": "8W2OKSnx4t4y"
      },
      "outputs": [],
      "source": [
        "%%time\n",
        "\n",
        "!./fasttext test model_tweet.bin tweets.valid"
      ]
    },
    {
      "cell_type": "code",
      "execution_count": null,
      "metadata": {
        "id": "CPELBLRrV2_-"
      },
      "outputs": [],
      "source": [
        ""
      ]
    },
    {
      "cell_type": "code",
      "execution_count": null,
      "metadata": {
        "id": "29mKvcVm5iu7"
      },
      "outputs": [],
      "source": [
        "!pip install fasttext"
      ]
    },
    {
      "cell_type": "code",
      "execution_count": null,
      "metadata": {
        "id": "G78xUCbg4tzL"
      },
      "outputs": [],
      "source": [
        "from fasttext import load_model"
      ]
    },
    {
      "cell_type": "code",
      "execution_count": null,
      "metadata": {
        "id": "pwEoQbMu5gIb"
      },
      "outputs": [],
      "source": [
        "classifier = load_model('model_tweet.bin')"
      ]
    },
    {
      "cell_type": "code",
      "execution_count": null,
      "metadata": {
        "id": "wJyjaQ925gC3"
      },
      "outputs": [],
      "source": [
        "text_ls = ['Ugghhh... Not happy at all! sorry', 'Happyyyyyyy', 'OH yeah! lets rock.']\n",
        "labels = classifier.predict(text_ls)\n",
        "print(labels)"
      ]
    },
    {
      "cell_type": "code",
      "execution_count": null,
      "metadata": {
        "id": "Hz-EMuLT7n8-"
      },
      "outputs": [],
      "source": [
        "with open('test.txt','w') as fp:\n",
        "  fp.write(\"\\n\".join(text_ls))"
      ]
    },
    {
      "cell_type": "code",
      "execution_count": null,
      "metadata": {
        "id": "qEXO_n957Aq-"
      },
      "outputs": [],
      "source": [
        "!cat test.txt"
      ]
    },
    {
      "cell_type": "code",
      "execution_count": null,
      "metadata": {
        "id": "fsnuxOT68MaA"
      },
      "outputs": [],
      "source": [
        "!./fasttext predict model_tweet.bin test.txt"
      ]
    },
    {
      "cell_type": "code",
      "execution_count": null,
      "metadata": {
        "id": "G43FzjuP6tGs"
      },
      "outputs": [],
      "source": [
        "!./fasttext predict-prob model_tweet.bin test.txt"
      ]
    },
    {
      "cell_type": "code",
      "execution_count": null,
      "metadata": {
        "id": "zirGXVaF6OH8"
      },
      "outputs": [],
      "source": [
        "!ls"
      ]
    },
    {
      "cell_type": "code",
      "execution_count": null,
      "metadata": {
        "id": "gBVa-CKW6SQP"
      },
      "outputs": [],
      "source": [
        "!ls ../"
      ]
    },
    {
      "cell_type": "code",
      "execution_count": null,
      "metadata": {
        "id": "IYhVWbJ_6HKC"
      },
      "outputs": [],
      "source": [
        "!head -n 10 tweets.train\n",
        "\n",
        "!cat tweets.train | wc -l"
      ]
    },
    {
      "cell_type": "code",
      "execution_count": null,
      "metadata": {
        "id": "eOLyKOgR82Az"
      },
      "outputs": [],
      "source": [
        "# Load Different Embeddings\n",
        "\n",
        "!wget https://dl.fbaipublicfiles.com/fasttext/vectors-english/crawl-300d-2M-subword.zip"
      ]
    },
    {
      "cell_type": "code",
      "execution_count": null,
      "metadata": {
        "id": "WQa8KVjB-3fS"
      },
      "outputs": [],
      "source": [
        "!ls"
      ]
    },
    {
      "cell_type": "code",
      "execution_count": null,
      "metadata": {
        "id": "O1dE0ZqO8158"
      },
      "outputs": [],
      "source": [
        "!unzip crawl-300d-2M-subword.zip"
      ]
    },
    {
      "cell_type": "code",
      "execution_count": null,
      "metadata": {
        "id": "FYZCsiQx-nvE"
      },
      "outputs": [],
      "source": [
        "!ls "
      ]
    },
    {
      "cell_type": "code",
      "execution_count": null,
      "metadata": {
        "id": "aKiZtpQe81wZ"
      },
      "outputs": [],
      "source": [
        "import io\n",
        "\n",
        "fname = 'crawl-300d-2M-subword.vec'\n",
        "\n",
        "def load_vectors(fname):\n",
        "    fin = io.open(fname, 'r', encoding='utf-8', newline='\\n', errors='ignore')\n",
        "    n, d = map(int, fin.readline().split())\n",
        "    data = {}\n",
        "    for line in fin:\n",
        "        tokens = line.rstrip().split(' ')\n",
        "        data[tokens[0]] = map(float, tokens[1:])\n",
        "    return data\n",
        "\n",
        "load_vectors(fname)"
      ]
    },
    {
      "cell_type": "code",
      "execution_count": null,
      "metadata": {
        "id": "vFYH2ctz9Zls"
      },
      "outputs": [],
      "source": [
        ""
      ]
    },
    {
      "cell_type": "code",
      "execution_count": null,
      "metadata": {
        "id": "vmQFnTNn6HEN"
      },
      "outputs": [],
      "source": [
        "%cd .."
      ]
    },
    {
      "cell_type": "markdown",
      "metadata": {
        "id": "GRGZrCnB7NnW"
      },
      "source": [
        "### **TextBlob**"
      ]
    },
    {
      "cell_type": "code",
      "execution_count": null,
      "metadata": {
        "id": "mmg-Ru7jltY1"
      },
      "outputs": [],
      "source": [
        "from textblob import TextBlob\n",
        "\n",
        "lexicon_name = 'TextBlob'\n",
        "lexicon_dense = ''.join(lexicon_name.split('_'))\n",
        "lexicon_df = pd.DataFrame()\n",
        "\n",
        "model_name = 'textblob'\n",
        "model_type = 'Heuristic'\n"
      ]
    },
    {
      "cell_type": "code",
      "execution_count": null,
      "metadata": {
        "id": "7IsU2pbvwfxa"
      },
      "outputs": [],
      "source": [
        "def sent2textblob(asent_str):\n",
        "  '''\n",
        "  Given a Sentence as a text string\n",
        "  Return a Sentiment = sum(TextBlob sentiments for each word)\n",
        "  '''\n",
        "\n",
        "  words_ls = asent_str.split()\n",
        "  sent_sentiment_fl = 0.0\n",
        "\n",
        "  for j, atest_word in enumerate(words_ls):\n",
        "    sent_sentiment_fl += TextBlob(atest_word.lower()).sentiment.polarity\n",
        "\n",
        "  return sent_sentiment_fl\n"
      ]
    },
    {
      "cell_type": "code",
      "execution_count": null,
      "metadata": {
        "id": "b0CI3lnbwIh5"
      },
      "outputs": [],
      "source": [
        "# Test Words\n",
        "print(f'Testing {lexicon_name} lexicon for WORDS Sentiment')\n",
        "print('--------------------------------------------------')\n",
        "for i, aword_str in enumerate(global_vars.TEST_WORDS_LS):\n",
        "\n",
        "  # print(f'Looking up VADER sentiment for {aword_str}')\n",
        "  word_sentiment_fl = TextBlob(aword_str.lower()).sentiment.polarity\n",
        "  print(f'[{word_sentiment_fl: ^8.3f}]: {aword_str}\\n')\n",
        "\n",
        "\n",
        "# Test Sentences\n",
        "print(f'\\nTesting {lexicon_name} lexicon for SENTENCES Sentiment')\n",
        "print('--------------------------------------------------')\n",
        "for i, asent_str in enumerate(global_vars.TEST_SENTENCES_LS):\n",
        "\n",
        "  sent_sentiment_fl = sent2textblob(asent_str)\n",
        "  print(f'[{sent_sentiment_fl: ^8.3f}]: {asent_str}\\n')\n"
      ]
    },
    {
      "cell_type": "code",
      "execution_count": null,
      "metadata": {
        "id": "bDYKKgkZwIh7"
      },
      "outputs": [],
      "source": [
        "# Compute Sentiments based upon SentimentR Lexicon\n",
        "\n",
        "for i, atext in enumerate(corpus_texts_dt.keys()):\n",
        "  print(f\"Processing #{i}: {atext}\")\n",
        "\n",
        "  corpus_texts_dt[atext][model_name] = corpus_texts_dt[atext]['text_clean'].apply(lambda x: sent2textblob(x.lower()))"
      ]
    },
    {
      "cell_type": "code",
      "execution_count": null,
      "metadata": {
        "id": "qJnbDLrVwIiI"
      },
      "outputs": [],
      "source": [
        "corpus_texts_dt[corpus_texts_ls[0]].head()"
      ]
    },
    {
      "cell_type": "code",
      "execution_count": null,
      "metadata": {
        "id": "ytrRoVcuwIiK"
      },
      "outputs": [],
      "source": [
        "# Verfiy Plausible Sentiment Values via Plot\n",
        "\n",
        "text_indx = 0\n",
        "\n",
        "text_title_str = corpus_texts_ls[text_indx]\n",
        "# lexicon_name = 'jockers_rinker'\n",
        "lexicon_dense = ''.join(lexicon_name.split('_'))\n",
        "\n",
        "win_10per = int(0.10*corpus_texts_dt[text_title_str].shape[0])\n",
        "plot_title_str = f\"{global_vars.corpus_titles_dt[text_title_str][0]}\\nSentiment Analysis\\n{model_type} Model: {lexicon_name}\"\n",
        "corpus_texts_dt[text_title_str][model_name].rolling(win_10per, center=True, min_periods=0).mean().plot(title=plot_title_str)\n",
        "plt.grid(True)\n",
        "plt.show();"
      ]
    },
    {
      "cell_type": "markdown",
      "metadata": {
        "id": "uRJH_w_ZxaQr"
      },
      "source": [
        "### **Save Checkpoint**"
      ]
    },
    {
      "cell_type": "code",
      "execution_count": null,
      "metadata": {
        "id": "C9vCT6IxxaQw"
      },
      "outputs": [],
      "source": [
        "# Verify in SentimentArcs Root Directory\n",
        "#   and destination Subdir for Raw Sentiment Values\n",
        "\n",
        "!pwd\n",
        "print('\\n')\n",
        "\n",
        "print(f'SUBDIR_SENTIMENT_RAW: {SUBDIR_SENTIMENT_RAW}\\n\\n')\n",
        "\n",
        "print('Existing Sentiment Datafiles in Destination Subdir:\\n')\n",
        "\n",
        "subdir_path = f'./sentiment_raw/{SUBDIR_SENTIMENT_RAW}'\n",
        "!ls $subdir_path"
      ]
    },
    {
      "cell_type": "code",
      "execution_count": null,
      "metadata": {
        "id": "Wci0xXBSh00b"
      },
      "outputs": [],
      "source": [
        "# Verify Saving Corpus\n",
        "\n",
        "print(f'Saving Corpus_Genre: {Corpus_Genre}')\n",
        "print(f'        Corpus_Type: {Corpus_Type}')\n",
        "print(f'      Corpus_Number: {Corpus_Number}')\n",
        "\n",
        "print(f'\\nThese Text Titles:\\n')\n",
        "corpus_texts_dt.keys()"
      ]
    },
    {
      "cell_type": "code",
      "execution_count": null,
      "metadata": {
        "id": "yW8JRN7Xh00k"
      },
      "outputs": [],
      "source": [
        "# Save sentiment values to subdir_sentiments\n",
        "\n",
        "if Corpus_Type == 'new':\n",
        "  save_filename = f'sentiment_raw_{Corpus_Genre}_{Corpus_Type}_corpus{Corpus_Number}_all_7lex1heu1emb.json'\n",
        "  print(f'Saving to:\\n  {save_filename}')\n",
        "elif Corpus_Type == 'reference':\n",
        "  save_filename = f'sentiment_raw_{Corpus_Genre}_{Corpus_Type}_all_7lex1heu1emb.json'\n",
        "  print(f'Saving file:\\n  {save_filename}')\n",
        "else:\n",
        "  save_filename = ''\n",
        "  print(f'ERROR: Illegal value for Corpus_Type: {Corpus_Type}')\n",
        "\n",
        "if len(save_filename) > 0:\n",
        "  print(f'Writing to subdir:\\n  {subdir_path}')\n",
        "  write_dict_dfs(corpus_texts_dt, out_file=save_filename, out_dir=subdir_path)"
      ]
    },
    {
      "cell_type": "code",
      "execution_count": null,
      "metadata": {
        "id": "UXZJY-4lxaQ9"
      },
      "outputs": [],
      "source": [
        "# Verify Dictionary was saved correctly \n",
        "\n",
        "!ls -altr $subdir_path"
      ]
    },
    {
      "cell_type": "markdown",
      "metadata": {
        "id": "b1YbJ36B77Jy"
      },
      "source": [
        "## **Linguistic Models**"
      ]
    },
    {
      "cell_type": "markdown",
      "metadata": {
        "id": "D0cBuDeT8ABx"
      },
      "source": [
        "### **Pattern**\n",
        "\n",
        "* https://github.com/clips/pattern/blob/master/examples/03-en/07-sentiment.py\n",
        "\n",
        "* https://github.com/clips/pattern/wiki/pattern-en#sentiment"
      ]
    },
    {
      "cell_type": "code",
      "execution_count": 200,
      "metadata": {
        "id": "cW0EnGst74Cm",
        "colab": {
          "base_uri": "https://localhost:8080/"
        },
        "outputId": "bb88ca87-cd42-4803-eded-e993b74a3bf9"
      },
      "outputs": [
        {
          "output_type": "stream",
          "name": "stdout",
          "text": [
            "Collecting pattern\n",
            "  Downloading Pattern-3.6.0.tar.gz (22.2 MB)\n",
            "\u001b[K     |████████████████████████████████| 22.2 MB 1.4 MB/s \n",
            "\u001b[?25hRequirement already satisfied: future in /usr/local/lib/python3.7/dist-packages (from pattern) (0.16.0)\n",
            "Collecting backports.csv\n",
            "  Downloading backports.csv-1.0.7-py2.py3-none-any.whl (12 kB)\n",
            "Collecting mysqlclient\n",
            "  Downloading mysqlclient-2.1.0.tar.gz (87 kB)\n",
            "\u001b[K     |████████████████████████████████| 87 kB 8.3 MB/s \n",
            "\u001b[?25hRequirement already satisfied: beautifulsoup4 in /usr/local/lib/python3.7/dist-packages (from pattern) (4.6.3)\n",
            "Requirement already satisfied: lxml in /usr/local/lib/python3.7/dist-packages (from pattern) (4.2.6)\n",
            "Collecting feedparser\n",
            "  Downloading feedparser-6.0.8-py3-none-any.whl (81 kB)\n",
            "\u001b[K     |████████████████████████████████| 81 kB 11.3 MB/s \n",
            "\u001b[?25hCollecting pdfminer.six\n",
            "  Downloading pdfminer.six-20220319-py3-none-any.whl (5.6 MB)\n",
            "\u001b[K     |████████████████████████████████| 5.6 MB 51.7 MB/s \n",
            "\u001b[?25hRequirement already satisfied: numpy in /usr/local/lib/python3.7/dist-packages (from pattern) (1.21.6)\n",
            "Requirement already satisfied: scipy in /usr/local/lib/python3.7/dist-packages (from pattern) (1.4.1)\n",
            "Requirement already satisfied: nltk in /usr/local/lib/python3.7/dist-packages (from pattern) (3.2.5)\n",
            "Collecting python-docx\n",
            "  Downloading python-docx-0.8.11.tar.gz (5.6 MB)\n",
            "\u001b[K     |████████████████████████████████| 5.6 MB 54.3 MB/s \n",
            "\u001b[?25hCollecting cherrypy\n",
            "  Downloading CherryPy-18.6.1-py2.py3-none-any.whl (419 kB)\n",
            "\u001b[K     |████████████████████████████████| 419 kB 58.8 MB/s \n",
            "\u001b[?25hRequirement already satisfied: requests in /usr/local/lib/python3.7/dist-packages (from pattern) (2.23.0)\n",
            "Collecting zc.lockfile\n",
            "  Downloading zc.lockfile-2.0-py2.py3-none-any.whl (9.7 kB)\n",
            "Collecting jaraco.collections\n",
            "  Downloading jaraco.collections-3.5.1-py3-none-any.whl (10 kB)\n",
            "Requirement already satisfied: more-itertools in /usr/local/lib/python3.7/dist-packages (from cherrypy->pattern) (8.12.0)\n",
            "Collecting cheroot>=8.2.1\n",
            "  Downloading cheroot-8.6.0-py2.py3-none-any.whl (104 kB)\n",
            "\u001b[K     |████████████████████████████████| 104 kB 64.8 MB/s \n",
            "\u001b[?25hCollecting portend>=2.1.1\n",
            "  Downloading portend-3.1.0-py3-none-any.whl (5.3 kB)\n",
            "Collecting jaraco.functools\n",
            "  Downloading jaraco.functools-3.5.0-py3-none-any.whl (7.0 kB)\n",
            "Requirement already satisfied: six>=1.11.0 in /usr/local/lib/python3.7/dist-packages (from cheroot>=8.2.1->cherrypy->pattern) (1.15.0)\n",
            "Collecting tempora>=1.8\n",
            "  Downloading tempora-5.0.1-py3-none-any.whl (15 kB)\n",
            "Requirement already satisfied: pytz in /usr/local/lib/python3.7/dist-packages (from tempora>=1.8->portend>=2.1.1->cherrypy->pattern) (2022.1)\n",
            "Collecting sgmllib3k\n",
            "  Downloading sgmllib3k-1.0.0.tar.gz (5.8 kB)\n",
            "Collecting jaraco.classes\n",
            "  Downloading jaraco.classes-3.2.1-py3-none-any.whl (5.6 kB)\n",
            "Collecting jaraco.text\n",
            "  Downloading jaraco.text-3.7.0-py3-none-any.whl (8.6 kB)\n",
            "Requirement already satisfied: importlib-resources in /usr/local/lib/python3.7/dist-packages (from jaraco.text->jaraco.collections->cherrypy->pattern) (5.7.0)\n",
            "Collecting jaraco.context>=4.1\n",
            "  Downloading jaraco.context-4.1.1-py3-none-any.whl (4.4 kB)\n",
            "Requirement already satisfied: zipp>=3.1.0 in /usr/local/lib/python3.7/dist-packages (from importlib-resources->jaraco.text->jaraco.collections->cherrypy->pattern) (3.8.0)\n",
            "Collecting cryptography\n",
            "  Downloading cryptography-36.0.2-cp36-abi3-manylinux_2_24_x86_64.whl (3.6 MB)\n",
            "\u001b[K     |████████████████████████████████| 3.6 MB 52.0 MB/s \n",
            "\u001b[?25hRequirement already satisfied: chardet in /usr/local/lib/python3.7/dist-packages (from pdfminer.six->pattern) (3.0.4)\n",
            "Requirement already satisfied: cffi>=1.12 in /usr/local/lib/python3.7/dist-packages (from cryptography->pdfminer.six->pattern) (1.15.0)\n",
            "Requirement already satisfied: pycparser in /usr/local/lib/python3.7/dist-packages (from cffi>=1.12->cryptography->pdfminer.six->pattern) (2.21)\n",
            "Requirement already satisfied: certifi>=2017.4.17 in /usr/local/lib/python3.7/dist-packages (from requests->pattern) (2021.10.8)\n",
            "Requirement already satisfied: urllib3!=1.25.0,!=1.25.1,<1.26,>=1.21.1 in /usr/local/lib/python3.7/dist-packages (from requests->pattern) (1.24.3)\n",
            "Requirement already satisfied: idna<3,>=2.5 in /usr/local/lib/python3.7/dist-packages (from requests->pattern) (2.10)\n",
            "Requirement already satisfied: setuptools in /usr/local/lib/python3.7/dist-packages (from zc.lockfile->cherrypy->pattern) (57.4.0)\n",
            "Building wheels for collected packages: pattern, mysqlclient, python-docx, sgmllib3k\n",
            "  Building wheel for pattern (setup.py) ... \u001b[?25l\u001b[?25hdone\n",
            "  Created wheel for pattern: filename=Pattern-3.6-py3-none-any.whl size=22332721 sha256=593a104b1a985e7ba1a97a69897f9e836ef2ffaa2ebd5f7d950aa83811d5a645\n",
            "  Stored in directory: /root/.cache/pip/wheels/8d/1f/4e/9b67afd2430d55dee90bd57618dd7d899f1323e5852c465682\n",
            "  Building wheel for mysqlclient (setup.py) ... \u001b[?25l\u001b[?25hdone\n",
            "  Created wheel for mysqlclient: filename=mysqlclient-2.1.0-cp37-cp37m-linux_x86_64.whl size=99978 sha256=c708dad1968920639bd3020715c81c56d56748eedb61454c1886f6b4369bb97b\n",
            "  Stored in directory: /root/.cache/pip/wheels/97/d4/df/08cd6e1fa4a8691b268ab254bd0fa589827ab5b65638c010b4\n",
            "  Building wheel for python-docx (setup.py) ... \u001b[?25l\u001b[?25hdone\n",
            "  Created wheel for python-docx: filename=python_docx-0.8.11-py3-none-any.whl size=184507 sha256=3341bae3a014f436cff36246b6ace8f7b0f3d752e07b48a3885691aaedf7c169\n",
            "  Stored in directory: /root/.cache/pip/wheels/f6/6f/b9/d798122a8b55b74ad30b5f52b01482169b445fbb84a11797a6\n",
            "  Building wheel for sgmllib3k (setup.py) ... \u001b[?25l\u001b[?25hdone\n",
            "  Created wheel for sgmllib3k: filename=sgmllib3k-1.0.0-py3-none-any.whl size=6066 sha256=726bae0c30056ec16bb85cf7f26853edc37930c7a8af2ec52c069c30029dfc2a\n",
            "  Stored in directory: /root/.cache/pip/wheels/73/ad/a4/0dff4a6ef231fc0dfa12ffbac2a36cebfdddfe059f50e019aa\n",
            "Successfully built pattern mysqlclient python-docx sgmllib3k\n",
            "Installing collected packages: jaraco.functools, jaraco.context, tempora, jaraco.text, jaraco.classes, zc.lockfile, sgmllib3k, portend, jaraco.collections, cryptography, cheroot, python-docx, pdfminer.six, mysqlclient, feedparser, cherrypy, backports.csv, pattern\n",
            "Successfully installed backports.csv-1.0.7 cheroot-8.6.0 cherrypy-18.6.1 cryptography-36.0.2 feedparser-6.0.8 jaraco.classes-3.2.1 jaraco.collections-3.5.1 jaraco.context-4.1.1 jaraco.functools-3.5.0 jaraco.text-3.7.0 mysqlclient-2.1.0 pattern-3.6 pdfminer.six-20220319 portend-3.1.0 python-docx-0.8.11 sgmllib3k-1.0.0 tempora-5.0.1 zc.lockfile-2.0\n"
          ]
        }
      ],
      "source": [
        "!pip install pattern"
      ]
    },
    {
      "cell_type": "code",
      "execution_count": 201,
      "metadata": {
        "id": "6JeqRykx8O8b",
        "colab": {
          "base_uri": "https://localhost:8080/"
        },
        "outputId": "0ff95ee0-d3ca-4082-9d31-f8e15a7c4d1a"
      },
      "outputs": [
        {
          "output_type": "stream",
          "name": "stdout",
          "text": [
            "amazing (0.6000000000000001, 0.9)\n",
            "horrible (-1.0, 1.0)\n",
            "public (0.0, 0.06666666666666667)\n",
            "\n",
            "(-0.21666666666666665, 0.8)\n"
          ]
        }
      ],
      "source": [
        "from pattern.en import sentiment, polarity, subjectivity, positive\n",
        "\n",
        "lexicon_name = 'Pattern'\n",
        "lexicon_dense = ''.join(lexicon_name.split('_'))\n",
        "lexicon_df = pd.DataFrame()\n",
        "\n",
        "model_name = 'pattern'\n",
        "model_type = 'Linguistic'\n",
        "\n",
        "# Sentiment analysis (or opinion mining) attempts to determine if\n",
        "# a text is objective or subjective, positive or negative.\n",
        "# The sentiment analysis lexicon bundled in Pattern focuses on adjectives.\n",
        "# It contains adjectives that occur frequently in customer reviews,\n",
        "# hand-tagged with values for polarity and subjectivity.\n",
        "\n",
        "# The polarity() function measures positive vs. negative, as a number between -1.0 and +1.0.\n",
        "# The subjectivity() function measures objective vs. subjective, as a number between 0.0 and 1.0.\n",
        "# The sentiment() function returns an averaged (polarity, subjectivity)-tuple for a given string.\n",
        "for word in (\"amazing\", \"horrible\", \"public\"):\n",
        "    print(word, sentiment(word))\n",
        "\n",
        "print(\"\")\n",
        "print(sentiment(\n",
        "    \"The movie attempts to be surreal by incorporating time travel and various time paradoxes,\"\n",
        "    \"but it's presented in such a ridiculous way it's seriously boring.\"))\n"
      ]
    },
    {
      "cell_type": "code",
      "execution_count": 202,
      "metadata": {
        "id": "y5pOXkW-85OW",
        "colab": {
          "base_uri": "https://localhost:8080/"
        },
        "outputId": "95e4a4ec-3773-4917-888c-c17ead62edc4"
      },
      "outputs": [
        {
          "output_type": "stream",
          "name": "stdout",
          "text": [
            "Testing Pattern lexicon for WORDS Sentiment\n",
            "--------------------------------------------------\n",
            "[ 0.500  ]: Love\n",
            "\n",
            "[ -0.800 ]: Hate\n",
            "\n",
            "[ 0.400  ]: bizarre\n",
            "\n",
            "[ -0.050 ]: strange\n",
            "\n",
            "[ 0.000  ]: furious\n",
            "\n",
            "[ 0.000  ]: elated\n",
            "\n",
            "[ -0.100 ]: curious\n",
            "\n",
            "[ 0.000  ]: beserk\n",
            "\n",
            "[ 0.000  ]: gambaro\n",
            "\n",
            "\n",
            "Testing Pattern lexicon for SENTENCES Sentiment\n",
            "--------------------------------------------------\n",
            "[ -0.825 ]: I hate bad evil worthless Mondays.\n",
            "\n",
            "[ 0.500  ]: I love Paris in the springtime\n",
            "\n",
            "[ 0.000  ]: It was Wednesday.\n",
            "\n",
            "[ -0.900 ]: You are a disgusting pig - I hate you.\n",
            "\n",
            "[ 0.600  ]: What a delightfully funny and beautiful good man.\n",
            "\n",
            "[ 0.000  ]: That was it\n",
            "\n"
          ]
        }
      ],
      "source": [
        "# Test Words\n",
        "print(f'Testing {lexicon_name} lexicon for WORDS Sentiment')\n",
        "print('--------------------------------------------------')\n",
        "for i, aword_str in enumerate(global_vars.TEST_WORDS_LS):\n",
        "\n",
        "  # print(f'Looking up VADER sentiment for {aword_str}')\n",
        "  word_sentiment_fl = polarity(aword_str.lower())\n",
        "  print(f'[{word_sentiment_fl: ^8.3f}]: {aword_str}\\n')\n",
        "\n",
        "\n",
        "# Test Sentences\n",
        "print(f'\\nTesting {lexicon_name} lexicon for SENTENCES Sentiment')\n",
        "print('--------------------------------------------------')\n",
        "for i, asent_str in enumerate(global_vars.TEST_SENTENCES_LS):\n",
        "\n",
        "  sent_sentiment_fl = polarity(asent_str)\n",
        "  print(f'[{sent_sentiment_fl: ^8.3f}]: {asent_str}\\n')\n"
      ]
    },
    {
      "cell_type": "code",
      "execution_count": 203,
      "metadata": {
        "id": "3icn6UiW-EXS",
        "colab": {
          "base_uri": "https://localhost:8080/"
        },
        "outputId": "92ac4a10-1db2-4996-8e50-6ebb34a3a49c"
      },
      "outputs": [
        {
          "output_type": "stream",
          "name": "stdout",
          "text": [
            "Processing #0: pkdick_doandroidsdreamofelectricsheep\n"
          ]
        }
      ],
      "source": [
        "# Compute Sentiments based upon SentimentR Lexicon\n",
        "\n",
        "for i, atext in enumerate(corpus_texts_dt.keys()):\n",
        "  print(f\"Processing #{i}: {atext}\")\n",
        "\n",
        "  corpus_texts_dt[atext][model_name] = corpus_texts_dt[atext]['text_clean'].apply(lambda x: polarity(x.lower()))"
      ]
    },
    {
      "cell_type": "code",
      "execution_count": 204,
      "metadata": {
        "id": "NeiLvBYn-EXT",
        "colab": {
          "base_uri": "https://localhost:8080/",
          "height": 635
        },
        "outputId": "5a981875-9a67-4c7c-8a30-7d9392a0a64a"
      },
      "outputs": [
        {
          "output_type": "execute_result",
          "data": {
            "text/plain": [
              "                                            text_raw  \\\n",
              "0               DO ANDROIDS DREAM OF ELECTRIC SHEEP?   \n",
              "1  A merry little surge of electricity piped by a...   \n",
              "2  Surprised - it always surprised him to find hi...   \n",
              "3  Now, in her bed, his wife Iran opened her gray...   \n",
              "4    \"You set your Penfield too weak he said to her.   \n",
              "\n",
              "                                          text_clean  \\\n",
              "0                 do android dream of electric sheep   \n",
              "1  a merry little surge of electricity pipe by au...   \n",
              "2  surprise it always surprise him to find himsel...   \n",
              "3  now in her bed his wife iran open her gray unm...   \n",
              "4       you set your penfield too weak he say to her   \n",
              "\n",
              "   pysentimentr_jockersrinker  pysentimentr_huliu  pysentimentr_nrc  \\\n",
              "0                        0.25                 0.0               1.0   \n",
              "1                        1.05                 0.0               1.0   \n",
              "2                        1.20                 0.0               2.0   \n",
              "3                       -0.80                 0.0              -1.0   \n",
              "4                       -0.50                -1.0               0.0   \n",
              "\n",
              "   pysentimentr_sentiword  pysentimentr_senticnet  pysentimentr_lmcd  afinn  \\\n",
              "0                0.218750                   2.566                1.0    1.0   \n",
              "1                0.166667                   2.227                0.0    1.0   \n",
              "2                0.510417                   0.886                0.0    1.0   \n",
              "3               -0.104167                  -0.121               -1.0   -3.0   \n",
              "4               -0.225000                   0.169               -1.0   -2.0   \n",
              "\n",
              "    vader  textblob  pattern  \n",
              "0  0.2500    0.0000   0.0000  \n",
              "1  0.2023   -0.1875  -0.1875  \n",
              "2  0.5464    0.0000   0.0000  \n",
              "3  0.0000    0.0000   0.0000  \n",
              "4 -0.4404   -0.3750  -0.3750  "
            ],
            "text/html": [
              "\n",
              "  <div id=\"df-72f890f5-779e-427a-951d-adea1b2e1a92\">\n",
              "    <div class=\"colab-df-container\">\n",
              "      <div>\n",
              "<style scoped>\n",
              "    .dataframe tbody tr th:only-of-type {\n",
              "        vertical-align: middle;\n",
              "    }\n",
              "\n",
              "    .dataframe tbody tr th {\n",
              "        vertical-align: top;\n",
              "    }\n",
              "\n",
              "    .dataframe thead th {\n",
              "        text-align: right;\n",
              "    }\n",
              "</style>\n",
              "<table border=\"1\" class=\"dataframe\">\n",
              "  <thead>\n",
              "    <tr style=\"text-align: right;\">\n",
              "      <th></th>\n",
              "      <th>text_raw</th>\n",
              "      <th>text_clean</th>\n",
              "      <th>pysentimentr_jockersrinker</th>\n",
              "      <th>pysentimentr_huliu</th>\n",
              "      <th>pysentimentr_nrc</th>\n",
              "      <th>pysentimentr_sentiword</th>\n",
              "      <th>pysentimentr_senticnet</th>\n",
              "      <th>pysentimentr_lmcd</th>\n",
              "      <th>afinn</th>\n",
              "      <th>vader</th>\n",
              "      <th>textblob</th>\n",
              "      <th>pattern</th>\n",
              "    </tr>\n",
              "  </thead>\n",
              "  <tbody>\n",
              "    <tr>\n",
              "      <th>0</th>\n",
              "      <td>DO ANDROIDS DREAM OF ELECTRIC SHEEP?</td>\n",
              "      <td>do android dream of electric sheep</td>\n",
              "      <td>0.25</td>\n",
              "      <td>0.0</td>\n",
              "      <td>1.0</td>\n",
              "      <td>0.218750</td>\n",
              "      <td>2.566</td>\n",
              "      <td>1.0</td>\n",
              "      <td>1.0</td>\n",
              "      <td>0.2500</td>\n",
              "      <td>0.0000</td>\n",
              "      <td>0.0000</td>\n",
              "    </tr>\n",
              "    <tr>\n",
              "      <th>1</th>\n",
              "      <td>A merry little surge of electricity piped by a...</td>\n",
              "      <td>a merry little surge of electricity pipe by au...</td>\n",
              "      <td>1.05</td>\n",
              "      <td>0.0</td>\n",
              "      <td>1.0</td>\n",
              "      <td>0.166667</td>\n",
              "      <td>2.227</td>\n",
              "      <td>0.0</td>\n",
              "      <td>1.0</td>\n",
              "      <td>0.2023</td>\n",
              "      <td>-0.1875</td>\n",
              "      <td>-0.1875</td>\n",
              "    </tr>\n",
              "    <tr>\n",
              "      <th>2</th>\n",
              "      <td>Surprised - it always surprised him to find hi...</td>\n",
              "      <td>surprise it always surprise him to find himsel...</td>\n",
              "      <td>1.20</td>\n",
              "      <td>0.0</td>\n",
              "      <td>2.0</td>\n",
              "      <td>0.510417</td>\n",
              "      <td>0.886</td>\n",
              "      <td>0.0</td>\n",
              "      <td>1.0</td>\n",
              "      <td>0.5464</td>\n",
              "      <td>0.0000</td>\n",
              "      <td>0.0000</td>\n",
              "    </tr>\n",
              "    <tr>\n",
              "      <th>3</th>\n",
              "      <td>Now, in her bed, his wife Iran opened her gray...</td>\n",
              "      <td>now in her bed his wife iran open her gray unm...</td>\n",
              "      <td>-0.80</td>\n",
              "      <td>0.0</td>\n",
              "      <td>-1.0</td>\n",
              "      <td>-0.104167</td>\n",
              "      <td>-0.121</td>\n",
              "      <td>-1.0</td>\n",
              "      <td>-3.0</td>\n",
              "      <td>0.0000</td>\n",
              "      <td>0.0000</td>\n",
              "      <td>0.0000</td>\n",
              "    </tr>\n",
              "    <tr>\n",
              "      <th>4</th>\n",
              "      <td>\"You set your Penfield too weak he said to her.</td>\n",
              "      <td>you set your penfield too weak he say to her</td>\n",
              "      <td>-0.50</td>\n",
              "      <td>-1.0</td>\n",
              "      <td>0.0</td>\n",
              "      <td>-0.225000</td>\n",
              "      <td>0.169</td>\n",
              "      <td>-1.0</td>\n",
              "      <td>-2.0</td>\n",
              "      <td>-0.4404</td>\n",
              "      <td>-0.3750</td>\n",
              "      <td>-0.3750</td>\n",
              "    </tr>\n",
              "  </tbody>\n",
              "</table>\n",
              "</div>\n",
              "      <button class=\"colab-df-convert\" onclick=\"convertToInteractive('df-72f890f5-779e-427a-951d-adea1b2e1a92')\"\n",
              "              title=\"Convert this dataframe to an interactive table.\"\n",
              "              style=\"display:none;\">\n",
              "        \n",
              "  <svg xmlns=\"http://www.w3.org/2000/svg\" height=\"24px\"viewBox=\"0 0 24 24\"\n",
              "       width=\"24px\">\n",
              "    <path d=\"M0 0h24v24H0V0z\" fill=\"none\"/>\n",
              "    <path d=\"M18.56 5.44l.94 2.06.94-2.06 2.06-.94-2.06-.94-.94-2.06-.94 2.06-2.06.94zm-11 1L8.5 8.5l.94-2.06 2.06-.94-2.06-.94L8.5 2.5l-.94 2.06-2.06.94zm10 10l.94 2.06.94-2.06 2.06-.94-2.06-.94-.94-2.06-.94 2.06-2.06.94z\"/><path d=\"M17.41 7.96l-1.37-1.37c-.4-.4-.92-.59-1.43-.59-.52 0-1.04.2-1.43.59L10.3 9.45l-7.72 7.72c-.78.78-.78 2.05 0 2.83L4 21.41c.39.39.9.59 1.41.59.51 0 1.02-.2 1.41-.59l7.78-7.78 2.81-2.81c.8-.78.8-2.07 0-2.86zM5.41 20L4 18.59l7.72-7.72 1.47 1.35L5.41 20z\"/>\n",
              "  </svg>\n",
              "      </button>\n",
              "      \n",
              "  <style>\n",
              "    .colab-df-container {\n",
              "      display:flex;\n",
              "      flex-wrap:wrap;\n",
              "      gap: 12px;\n",
              "    }\n",
              "\n",
              "    .colab-df-convert {\n",
              "      background-color: #E8F0FE;\n",
              "      border: none;\n",
              "      border-radius: 50%;\n",
              "      cursor: pointer;\n",
              "      display: none;\n",
              "      fill: #1967D2;\n",
              "      height: 32px;\n",
              "      padding: 0 0 0 0;\n",
              "      width: 32px;\n",
              "    }\n",
              "\n",
              "    .colab-df-convert:hover {\n",
              "      background-color: #E2EBFA;\n",
              "      box-shadow: 0px 1px 2px rgba(60, 64, 67, 0.3), 0px 1px 3px 1px rgba(60, 64, 67, 0.15);\n",
              "      fill: #174EA6;\n",
              "    }\n",
              "\n",
              "    [theme=dark] .colab-df-convert {\n",
              "      background-color: #3B4455;\n",
              "      fill: #D2E3FC;\n",
              "    }\n",
              "\n",
              "    [theme=dark] .colab-df-convert:hover {\n",
              "      background-color: #434B5C;\n",
              "      box-shadow: 0px 1px 3px 1px rgba(0, 0, 0, 0.15);\n",
              "      filter: drop-shadow(0px 1px 2px rgba(0, 0, 0, 0.3));\n",
              "      fill: #FFFFFF;\n",
              "    }\n",
              "  </style>\n",
              "\n",
              "      <script>\n",
              "        const buttonEl =\n",
              "          document.querySelector('#df-72f890f5-779e-427a-951d-adea1b2e1a92 button.colab-df-convert');\n",
              "        buttonEl.style.display =\n",
              "          google.colab.kernel.accessAllowed ? 'block' : 'none';\n",
              "\n",
              "        async function convertToInteractive(key) {\n",
              "          const element = document.querySelector('#df-72f890f5-779e-427a-951d-adea1b2e1a92');\n",
              "          const dataTable =\n",
              "            await google.colab.kernel.invokeFunction('convertToInteractive',\n",
              "                                                     [key], {});\n",
              "          if (!dataTable) return;\n",
              "\n",
              "          const docLinkHtml = 'Like what you see? Visit the ' +\n",
              "            '<a target=\"_blank\" href=https://colab.research.google.com/notebooks/data_table.ipynb>data table notebook</a>'\n",
              "            + ' to learn more about interactive tables.';\n",
              "          element.innerHTML = '';\n",
              "          dataTable['output_type'] = 'display_data';\n",
              "          await google.colab.output.renderOutput(dataTable, element);\n",
              "          const docLink = document.createElement('div');\n",
              "          docLink.innerHTML = docLinkHtml;\n",
              "          element.appendChild(docLink);\n",
              "        }\n",
              "      </script>\n",
              "    </div>\n",
              "  </div>\n",
              "  "
            ]
          },
          "metadata": {},
          "execution_count": 204
        }
      ],
      "source": [
        "corpus_texts_dt[corpus_texts_ls[0]].head()"
      ]
    },
    {
      "cell_type": "code",
      "execution_count": 206,
      "metadata": {
        "id": "NbDHAD6d-EXT",
        "colab": {
          "base_uri": "https://localhost:8080/",
          "height": 629
        },
        "outputId": "efbbf87a-88ae-443d-e314-2cf3aa1463ce"
      },
      "outputs": [
        {
          "output_type": "display_data",
          "data": {
            "text/plain": [
              "<Figure size 1440x720 with 1 Axes>"
            ],
            "image/png": "[encoded data removed]"
          },
          "metadata": {}
        }
      ],
      "source": [
        "# Verfiy Plausible Sentiment Values via Plot\n",
        "\n",
        "text_indx = 0\n",
        "\n",
        "text_title_str = corpus_texts_ls[text_indx]\n",
        "# lexicon_name = 'jockers_rinker'\n",
        "lexicon_dense = ''.join(lexicon_name.split('_'))\n",
        "\n",
        "win_10per = int(0.10*corpus_texts_dt[text_title_str].shape[0])\n",
        "plot_title_str = f\"{global_vars.corpus_titles_dt[text_title_str][0]}\\nSentiment Analysis\\n{model_type} Model: {lexicon_name}\"\n",
        "corpus_texts_dt[text_title_str][model_name].rolling(win_10per, center=True, min_periods=0).mean().plot(title=plot_title_str)\n",
        "plt.grid(True)\n",
        "plt.show();"
      ]
    },
    {
      "cell_type": "markdown",
      "metadata": {
        "id": "aGYiQtBt6ogX"
      },
      "source": [
        "### **Save Checkpoint**"
      ]
    },
    {
      "cell_type": "code",
      "execution_count": 207,
      "metadata": {
        "colab": {
          "base_uri": "https://localhost:8080/"
        },
        "id": "_Rad35LAqy0L",
        "outputId": "f5fb2bdf-0417-49f0-f750-d12a4be651fc"
      },
      "outputs": [
        {
          "output_type": "stream",
          "name": "stdout",
          "text": [
            "/gdrive/MyDrive/sentimentarcs_notebooks\n",
            "\n",
            "\n",
            "SUBDIR_SENTIMENT_RAW: sentiment_raw_novels_new_corpus5/\n",
            "\n",
            "\n",
            "Existing Sentiment Datafiles in Destination Subdir:\n",
            "\n",
            "sentiment_raw_novels_new_corpus5_all_4syuzhetr.json\n",
            "sentiment_raw_novels_new_corpus5_all_7lex1heu1emb.json\n",
            "sentiment_raw_novels_new_corpus5_all_7lex.json\n",
            "sentiment_raw_novels_new_corpus5_all_8sentimentr.json\n",
            "sentiment_raw_novels_new_corpus5_transformer_distilbertfinnews.json\n",
            "sentiment_raw_novels_new_corpus5_transformer_finbert.json\n",
            "sentiment_raw_novels_new_corpus5_transformer_finberttone.json\n",
            "sentiment_raw_novels_new_corpus5_transformer_hinglish.json\n",
            "sentiment_raw_novels_new_corpus5_transformer_huggingface.json\n",
            "sentiment_raw_novels_new_corpus5_transformer_imdb2way.json\n",
            "sentiment_raw_novels_new_corpus5_transformer_nlptown.json\n",
            "sentiment_raw_novels_new_corpus5_transformer_roberta15lg.json\n",
            "sentiment_raw_novels_new_corpus5_transformer_robertaxml8lang.json\n",
            "sentiment_raw_novels_new_corpus5_transformer_t5imdb50k.json\n",
            "sentiment_raw_novels_new_corpus5_transformer_yelp.json\n"
          ]
        }
      ],
      "source": [
        "# Verify in SentimentArcs Root Directory\n",
        "#   and destination Subdir for Raw Sentiment Values\n",
        "\n",
        "!pwd\n",
        "print('\\n')\n",
        "\n",
        "print(f'SUBDIR_SENTIMENT_RAW: {SUBDIR_SENTIMENT_RAW}\\n\\n')\n",
        "\n",
        "print('Existing Sentiment Datafiles in Destination Subdir:\\n')\n",
        "\n",
        "subdir_path = f'./sentiment_raw/{SUBDIR_SENTIMENT_RAW}'\n",
        "!ls $subdir_path"
      ]
    },
    {
      "cell_type": "code",
      "execution_count": 208,
      "metadata": {
        "colab": {
          "base_uri": "https://localhost:8080/"
        },
        "id": "b46dLY7Jqy0M",
        "outputId": "259d39d2-b224-4dc7-af08-a08f20cfce0b"
      },
      "outputs": [
        {
          "output_type": "stream",
          "name": "stdout",
          "text": [
            "Saving Corpus_Genre: novels\n",
            "        Corpus_Type: new\n",
            "      Corpus_Number: 5\n",
            "\n",
            "These Text Titles:\n",
            "\n"
          ]
        },
        {
          "output_type": "execute_result",
          "data": {
            "text/plain": [
              "dict_keys(['pkdick_doandroidsdreamofelectricsheep'])"
            ]
          },
          "metadata": {},
          "execution_count": 208
        }
      ],
      "source": [
        "# Verify Saving Corpus\n",
        "\n",
        "print(f'Saving Corpus_Genre: {Corpus_Genre}')\n",
        "print(f'        Corpus_Type: {Corpus_Type}')\n",
        "print(f'      Corpus_Number: {Corpus_Number}')\n",
        "\n",
        "print(f'\\nThese Text Titles:\\n')\n",
        "corpus_texts_dt.keys()"
      ]
    },
    {
      "cell_type": "code",
      "execution_count": 209,
      "metadata": {
        "colab": {
          "base_uri": "https://localhost:8080/"
        },
        "id": "UJH6dalaqy0M",
        "outputId": "3d513f7e-d3da-41da-c6fd-d0b989719f8b"
      },
      "outputs": [
        {
          "output_type": "stream",
          "name": "stdout",
          "text": [
            "Saving to:\n",
            "  sentiment_raw_novels_new_corpus5_all_7lex1heu1emb1ling.json\n",
            "Writing to subdir:\n",
            "  ./sentiment_raw/sentiment_raw_novels_new_corpus5/\n",
            "Saving file to: ./sentiment_raw/sentiment_raw_novels_new_corpus5/sentiment_raw_novels_new_corpus5_all_7lex1heu1emb1ling.json\n"
          ]
        }
      ],
      "source": [
        "# Save sentiment values to subdir_sentiments\n",
        "\n",
        "if Corpus_Type == 'new':\n",
        "  save_filename = f'sentiment_raw_{Corpus_Genre}_{Corpus_Type}_corpus{Corpus_Number}_all_7lex1heu1emb1ling.json'\n",
        "  print(f'Saving to:\\n  {save_filename}')\n",
        "elif Corpus_Type == 'reference':\n",
        "  save_filename = f'sentiment_raw_{Corpus_Genre}_{Corpus_Type}_all_7lex1heu1emb1ling.json'\n",
        "  print(f'Saving file:\\n  {save_filename}')\n",
        "else:\n",
        "  save_filename = ''\n",
        "  print(f'ERROR: Illegal value for Corpus_Type: {Corpus_Type}')\n",
        "\n",
        "if len(save_filename) > 0:\n",
        "  print(f'Writing to subdir:\\n  {subdir_path}')\n",
        "  write_dict_dfs(corpus_texts_dt, out_file=save_filename, out_dir=subdir_path)"
      ]
    },
    {
      "cell_type": "code",
      "execution_count": 210,
      "metadata": {
        "colab": {
          "base_uri": "https://localhost:8080/"
        },
        "id": "SdiOqouCqy0M",
        "outputId": "fffbe088-052d-4177-d275-cc4f355abfa1"
      },
      "outputs": [
        {
          "output_type": "stream",
          "name": "stdout",
          "text": [
            "total 17701\n",
            "-rw------- 1 root root 1911427 Apr 20 03:07 sentiment_raw_novels_new_corpus5_all_4syuzhetr.json\n",
            "-rw------- 1 root root 3418637 Apr 20 03:19 sentiment_raw_novels_new_corpus5_all_8sentimentr.json\n",
            "-rw------- 1 root root  392712 Apr 20 04:04 sentiment_raw_novels_new_corpus5_transformer_roberta15lg.json\n",
            "-rw------- 1 root root  392748 Apr 20 04:10 sentiment_raw_novels_new_corpus5_transformer_huggingface.json\n",
            "-rw------- 1 root root  364785 Apr 20 04:18 sentiment_raw_novels_new_corpus5_transformer_nlptown.json\n",
            "-rw------- 1 root root  250315 Apr 20 04:28 sentiment_raw_novels_new_corpus5_transformer_yelp.json\n",
            "-rw------- 1 root root  273595 Apr 20 04:40 sentiment_raw_novels_new_corpus5_transformer_hinglish.json\n",
            "-rw------- 1 root root  273595 Apr 20 04:45 sentiment_raw_novels_new_corpus5_transformer_imdb2way.json\n",
            "-rw------- 1 root root 2795032 Apr 20 05:06 sentiment_raw_novels_new_corpus5_all_7lex.json\n",
            "-rw------- 1 root root  282710 Apr 20 05:08 sentiment_raw_novels_new_corpus5_transformer_t5imdb50k.json\n",
            "-rw------- 1 root root  365547 Apr 20 05:17 sentiment_raw_novels_new_corpus5_transformer_robertaxml8lang.json\n",
            "-rw------- 1 root root  309741 Apr 20 05:26 sentiment_raw_novels_new_corpus5_transformer_finberttone.json\n",
            "-rw------- 1 root root  342484 Apr 20 05:31 sentiment_raw_novels_new_corpus5_transformer_distilbertfinnews.json\n",
            "-rw------- 1 root root  283834 Apr 20 05:39 sentiment_raw_novels_new_corpus5_transformer_finbert.json\n",
            "-rw------- 1 root root 3142461 Apr 20 05:58 sentiment_raw_novels_new_corpus5_all_7lex1heu1emb.json\n",
            "-rw------- 1 root root 3321313 Apr 20 06:32 sentiment_raw_novels_new_corpus5_all_7lex1heu1emb1ling.json\n"
          ]
        }
      ],
      "source": [
        "# Verify Dictionary was saved correctly \n",
        "\n",
        "!ls -altr $subdir_path"
      ]
    },
    {
      "cell_type": "markdown",
      "metadata": {
        "id": "pWJPszHQFsUY"
      },
      "source": [
        "## **Statistical ML Models**\n",
        "\n",
        "* Linear Regression\n",
        "* Logistic Regression\n",
        "* Random Forest Classifier\n",
        "* Linear SVC\n",
        "* MultinomialNB\n",
        "\n",
        "Tutorials\n",
        "\n",
        "* https://towardsdatascience.com/text-classification-with-nlp-tf-idf-vs-word2vec-vs-bert-41ff868d1794 (Tutorial) \n",
        "* https://github.com/mdipietro09/DataScience_ArtificialIntelligence_Utils/blob/master/natural_language_processing/example_text_classification.ipynb (github)\n",
        "* https://wellsr.com/python/python-sentiment-analysis-with-sklearn/\n",
        "* https://colab.research.google.com/drive/186bOdu08nv4xHe6VeBgt_aIk9_fziqsX#scrollTo=hpDp3V0Lg-sw"
      ]
    },
    {
      "cell_type": "markdown",
      "metadata": {
        "id": "RZB6O8_BFaA-"
      },
      "source": [
        "#### Setup and Configuration\n"
      ]
    },
    {
      "cell_type": "code",
      "execution_count": null,
      "metadata": {
        "id": "ZS-7DdAstqfg"
      },
      "outputs": [],
      "source": [
        "from sklearn.linear_model import LinearRegression\n",
        "from sklearn.linear_model import LogisticRegression\n",
        "from sklearn.linear_model import SGDClassifier\n",
        "from sklearn.discriminant_analysis import LinearDiscriminantAnalysis\n",
        "from sklearn.ensemble import RandomForestClassifier\n",
        "from sklearn.svm import LinearSVC\n",
        "from sklearn.naive_bayes import MultinomialNB\n",
        "from sklearn.naive_bayes import GaussianNB\n",
        "from sklearn.tree import DecisionTreeClassifier\n",
        "from sklearn.svm import SVC\n",
        "from sklearn.ensemble import RandomForestClassifier\n",
        "from sklearn.neighbors import KNeighborsClassifier\n",
        "from sklearn.neural_network import MLPClassifier\n",
        "\n",
        "from sklearn.feature_extraction.text import CountVectorizer, TfidfTransformer\n",
        "from scipy.sparse import save_npz, load_npz  # load/save sparse matrices\n",
        "from joblib import dump, load # load/save sklearn objects efficiently\n",
        "\n",
        "from sklearn.model_selection import cross_val_score, StratifiedKFold, KFold"
      ]
    },
    {
      "cell_type": "code",
      "execution_count": null,
      "metadata": {
        "id": "-ym-yOrRbq5N"
      },
      "outputs": [],
      "source": [
        "# Vectorizing text\n",
        "from sklearn.feature_extraction.text import TfidfVectorizer\n",
        "\n",
        "\n",
        "# Validation: https://www.kaggle.com/pocooo/types-of-cross-validation-all-you-need\n",
        "\n",
        "# Simple Cross Fold Validation\n",
        "from sklearn.model_selection import KFold\n",
        "# model=DecisionTreeClassifier()\n",
        "kfold_validation=KFold(10)\n",
        "\n",
        "# import numpy as np\n",
        "from sklearn.model_selection import cross_val_score\n",
        "# results=cross_val_score(model,X,y,cv=kfold_validation)\n",
        "# print(results)\n",
        "# print(np.mean(results))\n",
        "\n",
        "# Stratified CV \n",
        "from sklearn.model_selection import StratifiedKFold\n",
        "skfold=StratifiedKFold(n_splits=5)\n",
        "# model=DecisionTreeClassifier()\n",
        "# scores=cross_val_score(model,X,y,cv=skfold)\n",
        "# print(np.mean(scores))\n",
        "\n",
        "# LOO CV\n",
        "from sklearn.model_selection import LeaveOneOut\n",
        "# model=DecisionTreeClassifier()\n",
        "leave_validation=LeaveOneOut()\n",
        "# results=cross_val_score(model,X,y,cv=leave_validation)"
      ]
    },
    {
      "cell_type": "code",
      "execution_count": null,
      "metadata": {
        "id": "GcLbN-4SFiQM"
      },
      "outputs": [],
      "source": [
        "from xgboost import XGBClassifier"
      ]
    },
    {
      "cell_type": "code",
      "execution_count": null,
      "metadata": {
        "id": "TyQL5V2N44X_"
      },
      "outputs": [],
      "source": [
        "# TODO: Next few cells unneeded?"
      ]
    },
    {
      "cell_type": "code",
      "execution_count": null,
      "metadata": {
        "id": "SuzrvLoAqfDV"
      },
      "outputs": [],
      "source": [
        "nlp = spacy.blank('en')\n",
        "\n",
        "nlp = spacy.load('en', disable=['parser', 'ner'])\n",
        "\n",
        "# explicitly adding component to pipeline\n",
        "# (recommended - makes it more readable to tell what's going on)\n",
        "# nlp.add_pipe(PySBDFactory(nlp))"
      ]
    },
    {
      "cell_type": "code",
      "execution_count": null,
      "metadata": {
        "id": "mPgwPT39GC7t"
      },
      "outputs": [],
      "source": [
        "stopwords_custom = ['bazinga', 'hoohaw', 'pating']\n",
        "stopwords_en.extend(stopwords_custom)"
      ]
    },
    {
      "cell_type": "code",
      "execution_count": null,
      "metadata": {
        "id": "aSLqFGzPBCHB"
      },
      "outputs": [],
      "source": [
        "# Utility Functions for ML Model Metrics\n",
        "\n",
        "# https://www.kaggle.com/aditya6040/7-models-on-imdb-dataset-best-score-88-2/notebook\n",
        "\n",
        "def metrics(model,x,y):\n",
        "    y_pred = model.predict(x)\n",
        "    acc = accuracy_score(y, y_pred)\n",
        "    f1=f1_score(y, y_pred)\n",
        "    cm=confusion_matrix(y, y_pred)\n",
        "    report=classification_report(y,y_pred)\n",
        "    plt.figure(figsize=(4,4))\n",
        "    sns.heatmap(cm,annot=True,cmap='Blues',xticklabels=[0,1],fmt='d',annot_kws={\"fontsize\":19})\n",
        "    plt.xlabel(\"Predicted\",fontsize=16)\n",
        "    plt.ylabel(\"Actual\",fontsize=16)\n",
        "    plt.show()\n",
        "    print(\"\\nAccuracy: \",round(acc,2))\n",
        "    print(\"\\nF1 Score: \",round(f1,2))\n",
        "#     print(\"\\nConfusion Matrix: \\n\",cm)\n",
        "    print(\"\\nReport:\",report)\n",
        "\n",
        "def lexicon_metrics(y, y_pred):\n",
        "    acc = accuracy_score(y, y_pred)\n",
        "    f1=f1_score(y, y_pred)\n",
        "    cm=confusion_matrix(y, y_pred)\n",
        "    report=classification_report(y, y_pred)\n",
        "    plt.figure(figsize=(4,4))\n",
        "    sns.heatmap(cm,annot=True,cmap='Blues',xticklabels=[0,1],fmt='d',annot_kws={\"fontsize\":19})\n",
        "    plt.xlabel(\"Predicted\",fontsize=16)\n",
        "    plt.ylabel(\"Actual\",fontsize=16)\n",
        "    plt.show()\n",
        "    print(\"\\nAccuracy: \",round(acc,2))\n",
        "    print(\"\\nF1 Score: \",round(f1,2))\n",
        "#     print(\"\\nConfusion Matrix: \\n\",cm)\n",
        "    print(\"\\nReport:\",report)"
      ]
    },
    {
      "cell_type": "code",
      "execution_count": null,
      "metadata": {
        "id": "ZdO8oGyOMrQk"
      },
      "outputs": [],
      "source": [
        "from sklearn.pipeline import Pipeline\n",
        "text_clf_SGDClassifier = Pipeline([('vect', CountVectorizer(ngram_range=(2,4), stop_words='english',lowercase=True)),\n",
        "                     ('tfidf', TfidfTransformer()),\n",
        "                     ('clf', SGDClassifier()),\n",
        "])\n",
        "text_clf_SGDClassifier.fit(X, y)\n",
        "\n"
      ]
    },
    {
      "cell_type": "code",
      "execution_count": null,
      "metadata": {
        "id": "ATqWwSe0wYpA"
      },
      "outputs": [],
      "source": [
        "!ls ./data"
      ]
    },
    {
      "cell_type": "code",
      "execution_count": null,
      "metadata": {
        "id": "Ai2efaWnOWHv"
      },
      "outputs": [],
      "source": [
        "# TEST\n",
        "fld = './data/'\n",
        "\n",
        "[os.path.join(fld, f) for f in os.listdir() if os.path.isfile(os.path.join(fld, f))]"
      ]
    },
    {
      "cell_type": "code",
      "execution_count": null,
      "metadata": {
        "id": "hH62PhR6OWDI"
      },
      "outputs": [],
      "source": [
        "# This Python 3 environment comes with many helpful analytics libraries installed\n",
        "# It is defined by the kaggle/python docker image: https://github.com/kaggle/docker-python\n",
        "# For example, here's several helpful packages to load in \n",
        "\n",
        "import numpy as np # linear algebra\n",
        "import pandas as pd # data processing, CSV file I/O (e.g. pd.read_csv)\n",
        "\n",
        "import plotly\n",
        "import plotly.graph_objs as go\n",
        "# import plotly.offline as ply\n",
        "# plotly.offline.init_notebook_mode()\n",
        "# Input data files are available in the \"../input/\" directory.\n",
        "# For example, running this (by clicking run or pressing Shift+Enter) will list the files in the input directory\n",
        "\n",
        "from subprocess import check_output\n",
        "# print(check_output([\"ls\", \"../input\"]).decode(\"utf8\"))"
      ]
    },
    {
      "cell_type": "code",
      "execution_count": null,
      "metadata": {
        "id": "RHd2hh9SMrMB"
      },
      "outputs": [],
      "source": [
        "classifier_names = ['Naive Bayes', \n",
        "                    'Decision Tree', \n",
        "                    'Random Forest', \n",
        "                    'Nearest Neighbors', \n",
        "                    'Neural Network']\n",
        "\n",
        "classifiers = [GaussianNB(),\n",
        "               DecisionTreeClassifier(max_depth=10),\n",
        "               RandomForestClassifier(max_depth=10),\n",
        "               KNeighborsClassifier(5),\n",
        "               MLPClassifier()]\n",
        "\n",
        "plot_data=[]\n",
        "\n",
        "clf_data=zip(classifier_names, classifiers)\n",
        "\n",
        "for clf_name, clf in clf_data:\n",
        "    print('Running '+clf_name)\n",
        "    kf=StratifiedKFold(n_splits=10, shuffle=True)\n",
        "    scores=cross_val_score(clf, X, y, cv=kf)\n",
        "    print(scores)\n",
        "    plot_data.append(\n",
        "        go.Scatter(\n",
        "            x=[i+1 for i in range(10)],\n",
        "            y=scores,\n",
        "            mode='lines',\n",
        "            name=clf_name\n",
        "        )\n",
        "    )\n",
        "\n"
      ]
    },
    {
      "cell_type": "markdown",
      "metadata": {
        "id": "uCxhjm8BFxZu"
      },
      "source": [
        "#### Download Sentiment IMDB Training Dataset (if necessary)"
      ]
    },
    {
      "cell_type": "code",
      "execution_count": null,
      "metadata": {
        "id": "eMDev_d1Fqtb"
      },
      "outputs": [],
      "source": [
        "# Verify in SentimentArcs Root Directory\n",
        "\n",
        "os.chdir('/gdrive/MyDrive/cdh/sentiment_arcs/')\n",
        "!pwd"
      ]
    },
    {
      "cell_type": "code",
      "execution_count": null,
      "metadata": {
        "id": "FIx0eQ5351ac"
      },
      "outputs": [],
      "source": [
        "# Check if IMDB datafile exists, download if missing\n",
        "\n",
        "filepath_imdb = f\"{SUBDIR_DATA}imdb-dataset-of-50k-movie-reviews.zip\"\n",
        "print(f'filepath: {filepath_imdb}')\n",
        "\n",
        "my_file = Path(filepath_imdb)\n",
        "if my_file.is_file():\n",
        "  print('\\n[SKIP] to the next Section [Load IMDB Dataset]\\n       IMDB training dataset already exists\\n')\n",
        "else:\n",
        "  print('\\n[CONTINUE] executing code cells')\n"
      ]
    },
    {
      "cell_type": "code",
      "execution_count": null,
      "metadata": {
        "id": "OEG1gTB_Fw33"
      },
      "outputs": [],
      "source": [
        "!mkdir ~/.kaggle"
      ]
    },
    {
      "cell_type": "code",
      "execution_count": null,
      "metadata": {
        "id": "IV3AjO_pFwzV"
      },
      "outputs": [],
      "source": [
        "from google.colab import files\n",
        "\n",
        "uploaded = files.upload()\n",
        "\n",
        "for fn in uploaded.keys():\n",
        "  print('User uploaded file \"{name}\" with length {length} bytes'.format(\n",
        "      name=fn, length=len(uploaded[fn])))"
      ]
    },
    {
      "cell_type": "code",
      "execution_count": null,
      "metadata": {
        "id": "Pk-GVEkhGM17"
      },
      "outputs": [],
      "source": [
        "!mv kaggle.json ~/.kaggle/\n",
        "!chmod 600 ~/.kaggle/kaggle.json"
      ]
    },
    {
      "cell_type": "code",
      "execution_count": null,
      "metadata": {
        "id": "P8GzXNBXGMw3"
      },
      "outputs": [],
      "source": [
        "# Get IMDB Dataset\n",
        "\n",
        "%cd ./data\n",
        "!kaggle datasets download -d lakshmi25npathi/imdb-dataset-of-50k-movie-reviews"
      ]
    },
    {
      "cell_type": "code",
      "execution_count": null,
      "metadata": {
        "id": "8fuf_6fzGcDR"
      },
      "outputs": [],
      "source": [
        "!unzip imdb-dataset-of-50k-movie-reviews.zip\n",
        "!ls -altr"
      ]
    },
    {
      "cell_type": "code",
      "execution_count": null,
      "metadata": {
        "id": "TrwYRBK-8w4Q"
      },
      "outputs": [],
      "source": [
        "# Verify in SentimentArcs Root Directory\n",
        "\n",
        "os.chdir('/gdrive/MyDrive/cdh/sentiment_arcs/')\n",
        "!pwd"
      ]
    },
    {
      "cell_type": "markdown",
      "metadata": {
        "id": "ej9sAyl07k9f"
      },
      "source": [
        "### Prepare IMDB Dataset"
      ]
    },
    {
      "cell_type": "code",
      "execution_count": null,
      "metadata": {
        "id": "hfZ-yckW9En7"
      },
      "outputs": [],
      "source": [
        "# Verify in project root Directory\n",
        "\n",
        "os.chdir('/gdrive/MyDrive/cdh/sentiment_arcs/')\n",
        "!pwd"
      ]
    },
    {
      "cell_type": "code",
      "execution_count": null,
      "metadata": {
        "id": "qAcrC6QZGWMQ"
      },
      "outputs": [],
      "source": [
        "imdb50k_df = pd.read_csv(f\"{SUBDIR_DATA}IMDB Dataset.csv\")\n",
        "imdb50k_df[\"polarity\"] = imdb50k_df[\"sentiment\"].map({\"negative\": 0, \"positive\": 1})\n",
        "imdb50k_df[\"text_raw\"] = imdb50k_df[\"review\"].astype('string')\n",
        "imdb50k_df.drop(columns=['sentiment', 'review'], inplace=True)\n",
        "\n",
        "# supervised_db = 'imdb50k'\n",
        "\n",
        "imdb50k_df.head()\n",
        "imdb50k_df.info()"
      ]
    },
    {
      "cell_type": "markdown",
      "metadata": {
        "id": "fqMeeO7_HGpB"
      },
      "source": [
        "#### Clean and Split Training Dataset"
      ]
    },
    {
      "cell_type": "code",
      "execution_count": null,
      "metadata": {
        "id": "wo_6LdRZki1Z"
      },
      "outputs": [],
      "source": [
        "import nltk\n",
        "nltk.download('omw-1.4')"
      ]
    },
    {
      "cell_type": "code",
      "execution_count": null,
      "metadata": {
        "id": "oaeXdyROkdOL"
      },
      "outputs": [],
      "source": [
        "import texthero as hero\n",
        "from texthero import preprocessing\n",
        "\n",
        "stem_pipeline = [preprocessing.fillna,\n",
        "                 preprocessing.lowercase,\n",
        "                 preprocessing.remove_digits,\n",
        "                 preprocessing.remove_punctuation,\n",
        "                 preprocessing.remove_diacritics,\n",
        "                 preprocessing.remove_stopwords,\n",
        "                 preprocessing.remove_whitespace,\n",
        "                 preprocessing.stem]"
      ]
    },
    {
      "cell_type": "code",
      "execution_count": null,
      "metadata": {
        "id": "HfRBFMSOnp-3"
      },
      "outputs": [],
      "source": [
        "%%time\n",
        "\n",
        "# NOTE: 3m55s @02:54 on 20220302 Colab Pro\n",
        "#        \n",
        "\n",
        "imdb50k_df['text_clean'] = imdb50k_df['text_raw'].pipe(hero.clean, stem_pipeline)"
      ]
    },
    {
      "cell_type": "code",
      "execution_count": null,
      "metadata": {
        "id": "fZsgdHprlxyn"
      },
      "outputs": [],
      "source": [
        "# Saved Cleaned IMDB Training Text Datafile\n",
        "\n",
        "fname_imdb50k_clean = f'{SUBDIR_DATA}imdb50k_clean.csv'\n",
        "imdb50k_df.to_csv(fname_imdb50k_clean, index=False)\n",
        "!ls -altr "
      ]
    },
    {
      "cell_type": "code",
      "execution_count": null,
      "metadata": {
        "id": "u6ez71a0nc7B"
      },
      "outputs": [],
      "source": [
        "!ls ./data"
      ]
    },
    {
      "cell_type": "code",
      "execution_count": null,
      "metadata": {
        "id": "6DvzzCG6AZuh"
      },
      "outputs": [],
      "source": [
        "TRAIN_TEST_SPLIT_PER = 0.8\n",
        "\n",
        "data_len = imdb50k_df.shape[0]\n",
        "split_indx = int(TRAIN_TEST_SPLIT_PER * data_len)\n",
        "\n",
        "train_df = imdb50k_df[:split_indx]\n",
        "test_df = imdb50k_df[split_indx:]\n",
        "\n",
        "print(f'Splitting {TRAIN_TEST_SPLIT_PER*100:.2f}% of Training Data for Testing')\n",
        "print(f'  There are {data_len} examples, {split_indx} of them used for Testing, {data_len - split_indx} for Training')"
      ]
    },
    {
      "cell_type": "code",
      "execution_count": null,
      "metadata": {
        "id": "E4fdW-Msn8pb"
      },
      "outputs": [],
      "source": [
        "train_df.head()"
      ]
    },
    {
      "cell_type": "code",
      "execution_count": null,
      "metadata": {
        "id": "ivBGtsFLpf1S"
      },
      "outputs": [],
      "source": [
        "from sklearn.feature_extraction.text import CountVectorizer, TfidfTransformer\n",
        "from joblib import dump, load # used for saving and loading sklearn objects\n",
        "from scipy.sparse import save_npz, load_npz # used for saving and loading sparse matrices"
      ]
    },
    {
      "cell_type": "code",
      "execution_count": null,
      "metadata": {
        "id": "yzU1BtJUsstX"
      },
      "outputs": [],
      "source": [
        "from sklearn.model_selection import train_test_split\n",
        "\n",
        "from sklearn import datasets"
      ]
    },
    {
      "cell_type": "code",
      "execution_count": null,
      "metadata": {
        "id": "6_cZAjGFnwYE"
      },
      "outputs": [],
      "source": [
        "%%time\n",
        "\n",
        "# NOTE: \n",
        "\n",
        "# Vectorize IMDB Review (Representation: Trigram TF-IDF)\n",
        "\n",
        "# Step 1: Bigram\n",
        "bigram_vectorizer = CountVectorizer(ngram_range=(1, 2), max_features=30000)\n",
        "bigram_vectorizer.fit(train_df['text_clean'].values)\n",
        "\n",
        "# X_train_bigram = bigram_vectorizer.transform(train_df['text_clean'].values)\n",
        "\n",
        "\n",
        "# Step 2: TF-IDF\n",
        "# Texthero removes stopwords\n",
        "# CountVectorizer includes high-freq bigrams\n",
        "# CountVectorizer limits max_features/token vocabulary size\n",
        "# without max features IMDB Training (40k reviews), X_train_bigram_tf_idf shape = (40000, 2211883)\n",
        "# bigram_tf_idf_transformer = TfidfTransformer(ngram_range=(1,2), stop_words=stopwords_en_ls, max_features=1000)\n",
        "bigram_tf_idf_transformer = TfidfTransformer()\n",
        "bigram_tf_idf_transformer.fit(X_train_bigram)\n",
        "\n",
        "X_train_bigram_tf_idf = bigram_tf_idf_transformer.transform(X_train_bigram)\n",
        "X_train = X_train_bigram_tf_idf\n",
        "y_train = train_df['polarity']\n"
      ]
    },
    {
      "cell_type": "code",
      "execution_count": null,
      "metadata": {
        "id": "6sErYfMvnwT5"
      },
      "outputs": [],
      "source": [
        "type(X_train_bigram_tf)"
      ]
    },
    {
      "cell_type": "code",
      "execution_count": null,
      "metadata": {
        "id": "N4GURyUOpkf0"
      },
      "outputs": [],
      "source": [
        "%%time\n",
        "\n",
        "# NOTE: 50s\n",
        "\n",
        "# Save checkpoint\n",
        "\n",
        "!pwd\n",
        "filename_save = f'{SUBDIR_DATA}imdb50k_stems.csv'\n",
        "imdb50k_df.to_csv(filename_save, encoding='utf-8', index=False)\n",
        "!ls -altr $SUBDIR_DATA"
      ]
    },
    {
      "cell_type": "code",
      "execution_count": null,
      "metadata": {
        "id": "x95hV6IGpkbk"
      },
      "outputs": [],
      "source": [
        "!ls ./data"
      ]
    },
    {
      "cell_type": "markdown",
      "metadata": {
        "id": "JEGy9bMWAuxd"
      },
      "source": [
        "#### Vectorize IMDB Dataset"
      ]
    },
    {
      "cell_type": "code",
      "execution_count": null,
      "metadata": {
        "id": "JXOXs_mokM2U"
      },
      "outputs": [],
      "source": [
        "%%time\n",
        "\n",
        "# NOTE: \n",
        "\n",
        "vectorizer = TfidfVectorizer(ngram_range=(1,3), stop_words=stopwords_en_ls, max_features=1000)\n",
        "vectors = vectorizer.fit_transform(imdb50k_df.text_clean)\n",
        "words_df = pd.DataFrame(vectors.toarray(), columns=vectorizer.get_feature_names())\n",
        "words_df.head()"
      ]
    },
    {
      "cell_type": "code",
      "execution_count": null,
      "metadata": {
        "id": "HfbuCCdnpd4W"
      },
      "outputs": [],
      "source": [
        "type(train_df.iloc[0]['polarity'])"
      ]
    },
    {
      "cell_type": "code",
      "execution_count": null,
      "metadata": {
        "id": "5m1CVu_5j3PJ"
      },
      "outputs": [],
      "source": [
        "# For Statistical ML Models, prepare Dataset\n",
        "#   separate text examples (X) from labels (y)\n",
        "\n",
        "X = X_train_bigram_tf_idf # words_df\n",
        "y = train_df['polarity'].values # imdb50k_df.polarity\n",
        "X.shape\n",
        "print('\\n')\n",
        "y.shape\n",
        "type(y[0])"
      ]
    },
    {
      "cell_type": "code",
      "execution_count": null,
      "metadata": {
        "id": "L_xXzoZ0sv56"
      },
      "outputs": [],
      "source": [
        ""
      ]
    },
    {
      "cell_type": "code",
      "execution_count": null,
      "metadata": {
        "id": "aLiTqdV1AS7P"
      },
      "outputs": [],
      "source": [
        "# Split labeled dataset into training, validation and test sets\n",
        "# e.g. for IMDB 50k reviews: Out of 50k dataset, 36k for training, 4k for Validationa and 10k for testing\n",
        "\n",
        "X_train, X_test, y_train, y_test = train_test_split(X, y,test_size=0.2, random_state=42)\n",
        "\n",
        "X_train, X_valid, y_train, y_valid = train_test_split(X_train, y_train,test_size=0.1, random_state=42)\n",
        "\n",
        "print(\"Dataset Splits: Train, Valid, Test\")\n",
        "[x.shape for x in [X_train,X_valid,X_test]]"
      ]
    },
    {
      "cell_type": "code",
      "execution_count": null,
      "metadata": {
        "id": "rPtmUM8nAp-_"
      },
      "outputs": [],
      "source": [
        "X_train"
      ]
    },
    {
      "cell_type": "code",
      "execution_count": null,
      "metadata": {
        "id": "vTin01FPAp06"
      },
      "outputs": [],
      "source": [
        ""
      ]
    },
    {
      "cell_type": "code",
      "execution_count": null,
      "metadata": {
        "id": "FEPOwVW2I-ta"
      },
      "outputs": [],
      "source": [
        "# Clean text_raw\n",
        "\n",
        "for i, atext_str in enumerate(corpus_titles_ls):\n",
        "  print(f'Processing #{i}: {atext_str}')\n",
        "\n",
        "  corpus_texts_dt[atext_str].head()\n",
        "  # df['text_clean'] = df['text_raw'].pipe(hero.clean)"
      ]
    },
    {
      "cell_type": "code",
      "execution_count": null,
      "metadata": {
        "id": "AAQbmVzhGWH_"
      },
      "outputs": [],
      "source": [
        "# Remove non-alphanumeric chacters\n",
        "# imdb50k_df['text_lower'] = imdb50k_df['text_raw']\n",
        "\n",
        "\"\"\"\n",
        "pattern = re.compile(r\"[A-Za-z0-9\\-]{3,50}\")\n",
        "imdb50k_df['text_clean'] = imdb50k_df['text_raw'].str.lower().str.strip().str.findall(pattern).str.join(' ')\n",
        "imdb50k_df.head(1)\n",
        "\"\"\";"
      ]
    },
    {
      "cell_type": "code",
      "execution_count": null,
      "metadata": {
        "id": "44YvUyvMGWEM"
      },
      "outputs": [],
      "source": [
        "import spacy\n",
        "\n",
        "nlp = spacy.blank('en')\n",
        "\n",
        "nlp = spacy.load('en', disable=['parser', 'ner'])\n",
        "\n",
        "# explicitly adding component to pipeline\n",
        "# (recommended - makes it more readable to tell what's going on)\n",
        "# nlp.add_pipe(PySBDFactory(nlp))"
      ]
    },
    {
      "cell_type": "code",
      "execution_count": null,
      "metadata": {
        "id": "nVlhR2c1HNXO"
      },
      "outputs": [],
      "source": [
        ""
      ]
    },
    {
      "cell_type": "code",
      "execution_count": null,
      "metadata": {
        "id": "ZPrpL1wyNPva"
      },
      "outputs": [],
      "source": [
        "%%time\n",
        "\n",
        "# NOTE: (no stem) 4m09s\n",
        "#       (w/ stem) 4m24s\n",
        "\n",
        "i = 0\n",
        "\n",
        "for key_novel, atext_df in corpus_texts_dt.items():\n",
        "\n",
        "  print(f'Processing Novel #{i}: {key_novel}...')\n",
        "\n",
        "  atext_df['text_clean'] = clean_text(atext_df, 'text_raw', text_type='formal')\n",
        "\n",
        "  atext_df['text_clean'] = lemma_pipe(atext_df['text_clean'])\n",
        "  atext_df['text_clean'] = atext_df['text_clean'].astype('string')\n",
        "\n",
        "  # TODO: Fill in all blank 'text_clean' rows with filler semaphore\n",
        "  atext_df.text_clean = atext_df.text_clean.fillna('this_blank')\n",
        "\n",
        "  atext_df.head(2)\n",
        "\n",
        "  print(f'  shape: {atext_df.shape}')\n",
        "\n",
        "  i += 1"
      ]
    },
    {
      "cell_type": "code",
      "execution_count": null,
      "metadata": {
        "id": "RXuwwg2_XgZu"
      },
      "outputs": [],
      "source": [
        "# Verify the first Text in Corpus is cleaned\n",
        "\n",
        "corpus_texts_dt[corpus_texts_ls[0]].head(20)\n",
        "corpus_texts_dt[corpus_texts_ls[0]].info()"
      ]
    },
    {
      "cell_type": "markdown",
      "metadata": {
        "id": "Bth9NSLloqIl"
      },
      "source": [
        "### Simple Models"
      ]
    },
    {
      "cell_type": "code",
      "execution_count": null,
      "metadata": {
        "id": "4BuQ4EDrovrN"
      },
      "outputs": [],
      "source": [
        ""
      ]
    },
    {
      "cell_type": "code",
      "execution_count": null,
      "metadata": {
        "id": "18DSN-W-FHOV"
      },
      "outputs": [],
      "source": [
        "seed = 42\n",
        "dataset = datasets.load_wine()\n",
        "X = dataset.data; y = dataset.target\n",
        "X_train, X_test, y_train, y_test = train_test_split(X, y, test_size=0.30)\n",
        "kfold = KFold(n_splits=10, shuffle=True, random_state=seed)"
      ]
    },
    {
      "cell_type": "code",
      "execution_count": null,
      "metadata": {
        "id": "16IBK46OuVHX"
      },
      "outputs": [],
      "source": [
        "LinearDiscriminantAnalysis"
      ]
    },
    {
      "cell_type": "code",
      "execution_count": null,
      "metadata": {
        "id": "8O9M825yFHOW"
      },
      "outputs": [],
      "source": [
        "models = []\n",
        "models.append(('LR', LogisticRegression()))\n",
        "models.append(('LDA', LinearDiscriminantAnalysis()))\n",
        "models.append(('KNN', KNeighborsClassifier()))\n",
        "models.append(('CART', DecisionTreeClassifier()))\n",
        "models.append(('NB', GaussianNB()))\n",
        "models.append(('SVM', SVC()))"
      ]
    },
    {
      "cell_type": "code",
      "execution_count": null,
      "metadata": {
        "id": "wer7VYtiFHOW"
      },
      "outputs": [],
      "source": [
        "results = []\n",
        "names = []\n",
        "seed=42\n",
        "\n",
        "scoring = 'accuracy'\n",
        "for name, model in models:\n",
        "      kfold = KFold(n_splits=10, shuffle=True, random_state=seed)\n",
        "      cv_results = cross_val_score(model, X_train, y_train, cv=kfold, scoring=scoring)\n",
        "      results.append(cv_results)\n",
        "      names.append(name)\n",
        "      msg = \"%s: %f (%f)\" % (name, cv_results.mean(), cv_results.std())\n",
        "      print(msg)\n",
        "\n",
        "\"\"\"\n",
        "\n",
        "LR: 0.862886 (0.005822)\n",
        "LDA: 0.859657 (0.006562)\n",
        "KNN: 0.728571 (0.008688)\n",
        "CART: 0.710829 (0.007842)\n",
        "NB: 0.817286 (0.007659)\n",
        "\n",
        "\"\"\";"
      ]
    },
    {
      "cell_type": "markdown",
      "metadata": {
        "id": "4hwOKRyhozNT"
      },
      "source": [
        "#### Linear Regression (linreg)"
      ]
    },
    {
      "cell_type": "code",
      "execution_count": null,
      "metadata": {
        "id": "LF0-5Vo6ozDP"
      },
      "outputs": [],
      "source": [
        ""
      ]
    },
    {
      "cell_type": "markdown",
      "metadata": {
        "id": "ehixX4vio0fL"
      },
      "source": [
        "#### Logistic Regression (logreg)"
      ]
    },
    {
      "cell_type": "code",
      "execution_count": null,
      "metadata": {
        "id": "LHlud7XavKPZ"
      },
      "outputs": [],
      "source": [
        ""
      ]
    },
    {
      "cell_type": "markdown",
      "metadata": {
        "id": "CQ6gfaG0o02z"
      },
      "source": [
        "#### Logistic Regression, 6-Fold CV (logreg_cv6)"
      ]
    },
    {
      "cell_type": "code",
      "execution_count": null,
      "metadata": {
        "id": "_JLX5Kj0oyu1"
      },
      "outputs": [],
      "source": [
        ""
      ]
    },
    {
      "cell_type": "markdown",
      "metadata": {
        "id": "d0Tx3aTpo-gB"
      },
      "source": [
        "#### Random Forest (rf)"
      ]
    },
    {
      "cell_type": "code",
      "execution_count": null,
      "metadata": {
        "id": "YJSh3j4Zo9_N"
      },
      "outputs": [],
      "source": [
        ""
      ]
    },
    {
      "cell_type": "markdown",
      "metadata": {
        "id": "G-P_6ZMspCW5"
      },
      "source": [
        "#### Linear SVC (lin_svc)"
      ]
    },
    {
      "cell_type": "code",
      "execution_count": null,
      "metadata": {
        "id": "Go180gL9o-Em"
      },
      "outputs": [],
      "source": [
        ""
      ]
    },
    {
      "cell_type": "markdown",
      "metadata": {
        "id": "NpwZRvT-pEhe"
      },
      "source": [
        "#### Multinomial Naive Bayes (multi_nb)"
      ]
    },
    {
      "cell_type": "code",
      "execution_count": null,
      "metadata": {
        "id": "DBHhuO0MHNRQ"
      },
      "outputs": [],
      "source": [
        "\n",
        "\n",
        "from sklearn.pipeline import Pipeline\n",
        "\n",
        "text_clf_SGDClassifier = Pipeline([('vect', CountVectorizer(ngram_range=(1,3), stop_words='english',lowercase=True)),\n",
        "                     ('tfidf', TfidfTransformer()),\n",
        "                     ('clf', SGDClassifier()),\n",
        "])\n",
        "text_clf_SGDClassifier.fit(X_train, y_train)\n",
        "clf_linreg = LinearRegression()\n",
        "\n",
        "clf_linreg.fit(X, y)\n"
      ]
    },
    {
      "cell_type": "markdown",
      "metadata": {
        "id": "-V0WogLvBFWu"
      },
      "source": [
        "### Ensemble Models"
      ]
    },
    {
      "cell_type": "markdown",
      "metadata": {
        "id": "vQc5OIw4BJt5"
      },
      "source": [
        "#### XGBoost (xgb)\n",
        "\n",
        "* https://xgboost.readthedocs.io/en/stable/\n",
        "\n",
        "* https://github.com/dmlc/xgboost\n",
        "\n",
        "* https://machinelearningmastery.com/gentle-introduction-xgboost-applied-machine-learning/"
      ]
    },
    {
      "cell_type": "code",
      "execution_count": null,
      "metadata": {
        "id": "VlCgXB3aBTsY"
      },
      "outputs": [],
      "source": [
        "!pip install xgboost"
      ]
    },
    {
      "cell_type": "code",
      "execution_count": null,
      "metadata": {
        "id": "wS_5p6nOHNNa"
      },
      "outputs": [],
      "source": [
        "import xgboost\n",
        "print(xgboost.__version__)"
      ]
    },
    {
      "cell_type": "code",
      "execution_count": null,
      "metadata": {
        "id": "nQqNOF34HNJD"
      },
      "outputs": [],
      "source": [
        "from xgboost import XGBClassifier\n",
        "\n",
        "clf_xgb = XGBClassifier()"
      ]
    },
    {
      "cell_type": "markdown",
      "metadata": {
        "id": "8BELQIFXBRed"
      },
      "source": [
        "#### CatBoost (catb)\n",
        "\n",
        "* https://github.com/catboost/tutorials/blob/master/classification/classification_tutorial.ipynb\n",
        "\n",
        "* https://github.com/catboost/tutorials/\n",
        "\n",
        "* https://catboost.ai/"
      ]
    },
    {
      "cell_type": "code",
      "execution_count": null,
      "metadata": {
        "id": "XCs4Y1rNBNU1"
      },
      "outputs": [],
      "source": [
        "!pip install catboost"
      ]
    },
    {
      "cell_type": "code",
      "execution_count": null,
      "metadata": {
        "id": "0vydhfR-BNPd"
      },
      "outputs": [],
      "source": [
        "import catboost\n",
        "print(catboost.__version__)"
      ]
    },
    {
      "cell_type": "code",
      "execution_count": null,
      "metadata": {
        "id": "dqaAwDHfBZU3"
      },
      "outputs": [],
      "source": [
        "from catboost import CatBoostClassifier, Pool   # https://catboost.ai/"
      ]
    },
    {
      "cell_type": "code",
      "execution_count": null,
      "metadata": {
        "id": "FPanpPm1BZRQ"
      },
      "outputs": [],
      "source": [
        "\n",
        "\n",
        "model = CatBoostClassifier(\n",
        "    iterations=5,\n",
        "    learning_rate=0.1,\n",
        "    # loss_function='CrossEntropy'\n",
        ")\n",
        "model.fit(\n",
        "    X_train, y_train,\n",
        "    # cat_features=cat_features,\n",
        "    eval_set=(X_validation, y_validation),\n",
        "    verbose=False\n",
        ")\n",
        "print('Model is fitted: ' + str(model.is_fitted()))\n",
        "print('Model params:')\n",
        "print(model.get_params())"
      ]
    },
    {
      "cell_type": "code",
      "execution_count": null,
      "metadata": {
        "id": "-tgesFdnBZNL"
      },
      "outputs": [],
      "source": [
        "%%time\n",
        "\n",
        "# NOTE: \n",
        "\n",
        "# test_data = catboost_pool = Pool(X_train, y_train)\n",
        "\n",
        "clf_catb = CatBoostClassifier(iterations=50,\n",
        "                              random_seed=rand_seed,\n",
        "                              depth=6,\n",
        "                              learning_rate=0.5,\n",
        "                              loss_function='Logloss',\n",
        "                              verbose=5)\n",
        "\n",
        "# train the model\n",
        "clf_catb.fit(\n",
        "    X_train, y_train,\n",
        "    eval_set=(X_valid, y_valid),\n",
        "    verbose=True\n",
        ")\n",
        "\n",
        "print('Model is fitted: ' + str(clf_catb.is_fitted()))\n",
        "print('Model params:')\n",
        "print(clf_catb.get_params())"
      ]
    },
    {
      "cell_type": "code",
      "execution_count": null,
      "metadata": {
        "id": "ZMV6VLpRBZJl"
      },
      "outputs": [],
      "source": [
        ""
      ]
    },
    {
      "cell_type": "markdown",
      "metadata": {
        "id": "oJ1BMO8JBk46"
      },
      "source": [
        "#### LightGBM (lgbm)"
      ]
    },
    {
      "cell_type": "code",
      "execution_count": null,
      "metadata": {
        "id": "pcm0rKE0BlqF"
      },
      "outputs": [],
      "source": [
        ""
      ]
    },
    {
      "cell_type": "markdown",
      "metadata": {
        "id": "-8RRQVLzBn6K"
      },
      "source": [
        "#### AdaBoost (adab)"
      ]
    },
    {
      "cell_type": "code",
      "execution_count": null,
      "metadata": {
        "id": "NNx3ADxRBqGt"
      },
      "outputs": [],
      "source": [
        ""
      ]
    },
    {
      "cell_type": "markdown",
      "metadata": {
        "id": "KZb_79A59c8r"
      },
      "source": [
        "# **END**"
      ]
    },
    {
      "cell_type": "markdown",
      "metadata": {
        "id": "JWRZ7aHOd0R3"
      },
      "source": [
        "# **[OLD STARTING POINT]**"
      ]
    },
    {
      "cell_type": "code",
      "execution_count": null,
      "metadata": {
        "id": "oiapgHzZdm4x"
      },
      "outputs": [],
      "source": [
        "groups_ls = ['models_baseline_ls',\n",
        "                'models_sentimentr_ls',\n",
        "                'models_syuzhetr_ls',\n",
        "                'models_transformer_ls']\n",
        "\n",
        "# Could add suffix '_sst2' if classifiers trained on SST2 (currently requires 30m on Colab Pro/GPU+RAM)\n",
        "models_supervised_ls = ['linreg_imdb50k',\n",
        "                   'svc_imdb50k',\n",
        "                   'logreg_imdb50k',\n",
        "                   'dforest_imdb50k',\n",
        "                   'multinb_imdb50k']\n",
        "\n",
        "models_baseline_ls = ['sentimentr',\n",
        "                      'syuzhet',\n",
        "                      'bing',\n",
        "                      'sentiword',\n",
        "                      'senticnet',\n",
        "                      'nrc',\n",
        "                      'afinn',\n",
        "                      'vader',\n",
        "                      'textblob',\n",
        "                      'flair',\n",
        "                      'pattern',\n",
        "                      'stanza']\n",
        "\n",
        "models_sentimentr_ls = ['jockers_rinker',\n",
        "                        'jockers',\n",
        "                        'huliu',\n",
        "                        'senticnet',\n",
        "                        'sentiword',\n",
        "                        'nrc',\n",
        "                        'lmcd']\n",
        "\n",
        "models_syuzhetr_ls = ['syuzhet',\n",
        "                      'bing',\n",
        "                      'afinn',\n",
        "                      'nrc']\n",
        "\n",
        "models_transformer_ls = ['roberta15lg', \n",
        "                         'nlptown', \n",
        "                         'yelp', \n",
        "                         'hinglish',\n",
        "                         'imdb2way', \n",
        "                         'huggingface', \n",
        "                         't5imdb50k', \n",
        "                         'robertaxml8lang']\n",
        "\n",
        "# Temporarily redefine from English to French Transformer Models\n",
        "# models_transformer_ls = ['flaubert', 'nlptown', 'robertaxml8lang']"
      ]
    },
    {
      "cell_type": "markdown",
      "metadata": {
        "id": "MOPa6HH-OjZp"
      },
      "source": [
        "**Install Libraries**"
      ]
    },
    {
      "cell_type": "code",
      "execution_count": null,
      "metadata": {
        "id": "drpZJilASHUN"
      },
      "outputs": [],
      "source": [
        "# fast detection of character set encoding for text/files\n",
        "\n",
        "!pip install cchardet"
      ]
    },
    {
      "cell_type": "code",
      "execution_count": null,
      "metadata": {
        "id": "TA7Nw-SA_si1"
      },
      "outputs": [],
      "source": [
        "!pip install pysbd"
      ]
    },
    {
      "cell_type": "code",
      "execution_count": null,
      "metadata": {
        "id": "WEjSzsusOOJ-"
      },
      "outputs": [],
      "source": [
        "# common ML code\n",
        "\n",
        "!pip install sklearn"
      ]
    },
    {
      "cell_type": "code",
      "execution_count": null,
      "metadata": {
        "id": "VZ0UVdasuTTS"
      },
      "outputs": [],
      "source": [
        "%pip install contractions"
      ]
    },
    {
      "cell_type": "code",
      "execution_count": null,
      "metadata": {
        "id": "9MbHfUCz6qTQ"
      },
      "outputs": [],
      "source": [
        "!pip install pysbd"
      ]
    },
    {
      "cell_type": "code",
      "execution_count": null,
      "metadata": {
        "id": "ENUk4UsK6qTV"
      },
      "outputs": [],
      "source": [
        "!pip install spacy"
      ]
    },
    {
      "cell_type": "code",
      "execution_count": null,
      "metadata": {
        "id": "S4Nis-KA6qTY"
      },
      "outputs": [],
      "source": [
        "import pysbd\n",
        "import spacy\n",
        "from pysbd.utils import PySBDFactory\n",
        "\n",
        "# Conditionally loads english or french PySBD/NLTK Sentence tokenizers \n",
        "#   in parags2sents()\n",
        "\n",
        "# nlp = spacy.blank('en')\n",
        "\n",
        "# nlp = spacy.load('en', disable=['parser', 'ner'])\n",
        "\n",
        "# explicitly adding component to pipeline\n",
        "# (recommended - makes it more readable to tell what's going on)\n",
        "# nlp.add_pipe(PySBDFactory(nlp))"
      ]
    },
    {
      "cell_type": "code",
      "execution_count": null,
      "metadata": {
        "id": "XxLPTsA_6qTa"
      },
      "outputs": [],
      "source": [
        "\n",
        "\n",
        "# or you can use it implicitly with keyword\n",
        "# pysbd = nlp.create_pipe('pysbd')\n",
        "# nlp.add_pipe(pysbd)\n",
        "\n",
        "# doc = nlp('My name is Jonas E. Smith. Please turn to p. 55.')\n",
        "# print(list(doc.sents))\n",
        "# [My name is Jonas E. Smith., Please turn to p. 55.]"
      ]
    },
    {
      "cell_type": "markdown",
      "metadata": {
        "id": "cmtqmvu6OlR9"
      },
      "source": [
        "**Import Libraries**"
      ]
    },
    {
      "cell_type": "code",
      "execution_count": null,
      "metadata": {
        "id": "S7bf4lfgwMEz"
      },
      "outputs": [],
      "source": [
        "import os\n",
        "import sys\n",
        "import io\n",
        "import glob\n",
        "import json\n",
        "import contextlib"
      ]
    },
    {
      "cell_type": "code",
      "execution_count": null,
      "metadata": {
        "id": "TOmyq4h7OOFi"
      },
      "outputs": [],
      "source": [
        "# IMPORT LIBRARIES\n",
        "\n",
        "import numpy as np\n",
        "import pandas as pd\n",
        "import matplotlib.pyplot as plt\n",
        "import seaborn as sns"
      ]
    },
    {
      "cell_type": "code",
      "execution_count": null,
      "metadata": {
        "id": "OslLdEsvOuFU"
      },
      "outputs": [],
      "source": [
        "import re\n",
        "import string"
      ]
    },
    {
      "cell_type": "code",
      "execution_count": null,
      "metadata": {
        "id": "YelenXz5BcmE"
      },
      "outputs": [],
      "source": [
        "from itertools import cycle  # For plotly\n",
        "\n",
        "import collections\n",
        "from collections import OrderedDict"
      ]
    },
    {
      "cell_type": "code",
      "execution_count": null,
      "metadata": {
        "id": "6Suximbjnw8D"
      },
      "outputs": [],
      "source": [
        "# Import libraries for logging\n",
        "\n",
        "import logging\n",
        "from datetime import datetime\n",
        "import time                     # (TODO: check no dependencies and delete)\n",
        "from time import gmtime, strftime"
      ]
    },
    {
      "cell_type": "code",
      "execution_count": null,
      "metadata": {
        "id": "kPZmScjVDYyw"
      },
      "outputs": [],
      "source": [
        "import nltk\n",
        "\n",
        "# Download for sentence tokenization\n",
        "import nltk.data\n",
        "from nltk.tokenize import sent_tokenize\n",
        "nltk.download('punkt')\n",
        "\n",
        "# Download for nltk/VADER sentiment analysis\n",
        "nltk.download('vader_lexicon')\n",
        "from nltk.sentiment.vader import SentimentIntensityAnalyzer\n",
        "\n",
        "nltk.download('averaged_perceptron_tagger')\n",
        "nltk.download('wordnet')"
      ]
    },
    {
      "cell_type": "code",
      "execution_count": null,
      "metadata": {
        "id": "u34kPKO0_xF_"
      },
      "outputs": [],
      "source": [
        "import spacy\n",
        "nlp = spacy.load('en_core_web_sm') # Load the English Model"
      ]
    },
    {
      "cell_type": "code",
      "execution_count": null,
      "metadata": {
        "id": "eMl2mfF8Haw8"
      },
      "outputs": [],
      "source": [
        "from sklearn.preprocessing import MinMaxScaler   # To normalize time series\n",
        "from sklearn.preprocessing import StandardScaler # To Standardize time series: center(sub mean) and rescale within 1 SD (only for well-behaved guassian distributions)\n",
        "from sklearn.preprocessing import RobustScaler   # To Standardize time series: center(sub median) and rescale within 25%-75% (1st-3rd) IQR (better for noisy, outliers distributions)"
      ]
    },
    {
      "cell_type": "code",
      "execution_count": null,
      "metadata": {
        "id": "nckwluDXwa1c"
      },
      "outputs": [],
      "source": [
        "minmax_scaler = MinMaxScaler()\n",
        "mean_std_scaler = StandardScaler()\n",
        "median_iqr_scaler = RobustScaler()"
      ]
    },
    {
      "cell_type": "code",
      "execution_count": null,
      "metadata": {
        "id": "U589lvKXmFV-"
      },
      "outputs": [],
      "source": [
        "# Zoom interpolates new datapoints between existing datapoints to expand a time series \n",
        "\n",
        "from scipy.ndimage.interpolation import zoom"
      ]
    },
    {
      "cell_type": "code",
      "execution_count": null,
      "metadata": {
        "id": "_wcZfSOuBlW7"
      },
      "outputs": [],
      "source": [
        "from scipy import interpolate\n",
        "from scipy.interpolate import CubicSpline\n",
        "from scipy import signal\n",
        "from scipy.signal import argrelextrema"
      ]
    },
    {
      "cell_type": "code",
      "execution_count": null,
      "metadata": {
        "id": "CY3UyvYjAvDN"
      },
      "outputs": [],
      "source": [
        "from statsmodels.nonparametric.smoothers_lowess import lowess as sm_lowess\n",
        "from statsmodels import robust"
      ]
    },
    {
      "cell_type": "code",
      "execution_count": null,
      "metadata": {
        "id": "02LJQlYpgQGs"
      },
      "outputs": [],
      "source": [
        "corpus_sects_df = pd.DataFrame()"
      ]
    },
    {
      "cell_type": "markdown",
      "metadata": {
        "id": "UcSc4jsggSy2"
      },
      "source": [
        "**Define Library-Dependent Objects**"
      ]
    },
    {
      "cell_type": "code",
      "execution_count": null,
      "metadata": {
        "id": "GjGN2sN3uRpN"
      },
      "outputs": [],
      "source": [
        "import contractions"
      ]
    },
    {
      "cell_type": "code",
      "execution_count": null,
      "metadata": {
        "id": "AllIwMngDGC3"
      },
      "outputs": [],
      "source": [
        "# Necessary to define before defining Utility Functions using these DataFrames\n",
        "\n",
        "corpus_sents_df = pd.DataFrame()"
      ]
    },
    {
      "cell_type": "markdown",
      "metadata": {
        "id": "Kwl0MBDyOwtX"
      },
      "source": [
        "**Configure Jupyter Notebook**"
      ]
    },
    {
      "cell_type": "code",
      "execution_count": null,
      "metadata": {
        "id": "APCau-T26XQ3"
      },
      "outputs": [],
      "source": [
        "from IPython.display import HTML, display\n",
        "\n",
        "def my_css():\n",
        "   display(HTML(\"\"\"<style>table.dataframe td{white-space: nowrap;}</style>\"\"\"))\n",
        "\n",
        "get_ipython().events.register('pre_run_cell', my_css)"
      ]
    },
    {
      "cell_type": "code",
      "execution_count": null,
      "metadata": {
        "id": "nD1cyqWsfjxA"
      },
      "outputs": [],
      "source": [
        "# Ignore warnings\n",
        "import warnings\n",
        "warnings.filterwarnings('ignore')"
      ]
    },
    {
      "cell_type": "code",
      "execution_count": null,
      "metadata": {
        "id": "kzfybE5kfmE-"
      },
      "outputs": [],
      "source": [
        "# Configure matplotlib and seaborn\n",
        "\n",
        "# Plotting pretty figures and avoid blurry images\n",
        "# %config InlineBackend.figure_format = 'retina'\n",
        "# Larger scale for plots in notebooks\n",
        "# sns.set_context('talk')\n",
        "\n",
        "%matplotlib inline\n",
        "plt.rcParams['figure.figsize'] = [16, 8]\n",
        "plt.rcParams['figure.dpi'] = 100\n",
        "plt.rc('figure', facecolor='white')"
      ]
    },
    {
      "cell_type": "code",
      "execution_count": null,
      "metadata": {
        "id": "vIIjSbyeP2fg"
      },
      "outputs": [],
      "source": [
        "# Configure Jupyter\n",
        "\n",
        "# Enable multiple outputs from one code cell\n",
        "from IPython.core.interactiveshell import InteractiveShell\n",
        "InteractiveShell.ast_node_interactivity = \"all\"\n",
        "\n",
        "from IPython.display import display\n",
        "from ipywidgets import widgets, interactive\n",
        "\n",
        "# Configure Google Colab\n",
        "\n",
        "%load_ext google.colab.data_table"
      ]
    },
    {
      "cell_type": "code",
      "execution_count": null,
      "metadata": {
        "id": "GS_El2PiQlyP"
      },
      "outputs": [],
      "source": [
        "# Text wrap\n",
        "\n",
        "from IPython.display import HTML\n",
        "\n",
        "def set_css():\n",
        "  display(HTML('''\n",
        "  <style>\n",
        "    pre {\n",
        "        white-space: pre-wrap;\n",
        "    }\n",
        "  </style>\n",
        "  '''))\n",
        "get_ipython().events.register('pre_run_cell', set_css)"
      ]
    },
    {
      "cell_type": "code",
      "execution_count": null,
      "metadata": {
        "id": "vuM_qnOHUil5"
      },
      "outputs": [],
      "source": [
        "from IPython.display import HTML\n",
        "\n",
        "import plotly.graph_objects as go\n",
        "import plotly.express as px\n",
        "import plotly"
      ]
    },
    {
      "cell_type": "code",
      "execution_count": null,
      "metadata": {
        "id": "FxQtrH196gl3"
      },
      "outputs": [],
      "source": [
        "from IPython.display import HTML, display\n",
        "\n",
        "def my_css():\n",
        "   display(HTML(\"\"\"<style>table.dataframe td{white-space: nowrap;}</style>\"\"\"))\n",
        "\n",
        "get_ipython().events.register('pre_run_cell', my_css)"
      ]
    },
    {
      "cell_type": "code",
      "execution_count": null,
      "metadata": {
        "id": "yIPzbt5Ikldp"
      },
      "outputs": [],
      "source": [
        "# with pd.option_context('display.max_colwidth', None):\n",
        "#   display(corpus_transformer_df['sent_raw'])"
      ]
    },
    {
      "cell_type": "code",
      "execution_count": null,
      "metadata": {
        "id": "XDR54Pbg5zqz"
      },
      "outputs": [],
      "source": [
        "# with pd.option_context('display.max_colwidth', None):\n",
        "#   display(corpus_sentimentr_df.iloc[:10]['sent_raw'])"
      ]
    },
    {
      "cell_type": "markdown",
      "metadata": {
        "id": "4dLkfn4KFmDf"
      },
      "source": [
        "**Configuration Details Snapshot**"
      ]
    },
    {
      "cell_type": "code",
      "execution_count": null,
      "metadata": {
        "id": "4FNPovQBFZky"
      },
      "outputs": [],
      "source": [
        "# Snap Shot of Time, Machine, Data and Library/Version Blueprint\n",
        "# TODO:"
      ]
    },
    {
      "cell_type": "code",
      "execution_count": null,
      "metadata": {
        "id": "kBPCBVkuzw_2"
      },
      "outputs": [],
      "source": [
        "!pip list"
      ]
    },
    {
      "cell_type": "code",
      "execution_count": null,
      "metadata": {
        "id": "5HKj6KbIzoyM"
      },
      "outputs": [],
      "source": [
        "# !pip install watermark"
      ]
    },
    {
      "cell_type": "code",
      "execution_count": null,
      "metadata": {
        "id": "qpMRnqjzzjS5"
      },
      "outputs": [],
      "source": [
        "# %load_ext watermark"
      ]
    },
    {
      "cell_type": "code",
      "execution_count": null,
      "metadata": {
        "id": "V5uwS7H_zhaC"
      },
      "outputs": [],
      "source": [
        "# %watermark"
      ]
    },
    {
      "cell_type": "markdown",
      "metadata": {
        "id": "y7CfH00OFkQV"
      },
      "source": [
        "# **Either (a) Load Precomputed Sentiment Series or (b) Calculate Sentiment Values**\n",
        "\n",
        "Sentiment Models\n",
        "\n",
        "* VADER [-1.0 to 1.0] zero peak\n",
        "* TextBlob [-1.0 to 1.0] zero peak\n",
        "* Stanza outliers [-1.0 to 199.0] pos, outliers(+peak)\n",
        "* AFINN [-14 (-8 to 8) 20] discrete\n",
        "* SentimentR 11,710 [-5.4 to 8.8] norm\n",
        "* Syuzhet [-5.4 to 8.8] norm\n",
        "* Bing [-100.0 (-20.0 to 20.0) 100] discrete, outliers\n",
        "* Pattern [-1.0 to 1.0] norm\n",
        "* SentiWord [-3.8 to 4.4] norm\n",
        "* SenticNet [-3.8 to 10] norm\n",
        "* NRC [-100.0 (-5.0 to 5.0) 100] zero, outliers"
      ]
    },
    {
      "cell_type": "markdown",
      "metadata": {
        "id": "CsEbvCoCX7HY"
      },
      "source": [
        "## **(b) Compute Baseline Sentiments (Auto)**"
      ]
    },
    {
      "cell_type": "code",
      "execution_count": null,
      "metadata": {
        "id": "2RQAiwjNRGUb"
      },
      "outputs": [],
      "source": [
        "plot_data"
      ]
    },
    {
      "cell_type": "code",
      "execution_count": null,
      "metadata": {
        "id": "WLkfeBvTQZYh"
      },
      "outputs": [],
      "source": [
        "%matplotlib inline"
      ]
    },
    {
      "cell_type": "code",
      "execution_count": null,
      "metadata": {
        "id": "bY4o2FgRQbOu"
      },
      "outputs": [],
      "source": [
        "layout = go.Layout(\n",
        "    xaxis=dict(\n",
        "        title='Fold no.'\n",
        "    ),\n",
        "    yaxis=dict(\n",
        "        range=[np.min([i['y'] for i in plot_data]), 1],\n",
        "        title='Accuracy'\n",
        "    )\n",
        ")\n",
        "fig=go.Figure(data=plot_data, layout=layout)\n",
        "ply.iplot(fig)"
      ]
    },
    {
      "cell_type": "code",
      "execution_count": null,
      "metadata": {
        "id": "bAQ3P3lnOQpX"
      },
      "outputs": [],
      "source": [
        "layout = go.Layout(\n",
        "    xaxis=dict(\n",
        "        title='Fold no.'\n",
        "    ),\n",
        "    yaxis=dict(\n",
        "        range=[np.min([i['y'] for i in plot_data]), 1],\n",
        "        title='Accuracy'\n",
        "    )\n",
        ")\n",
        "fig=go.scatter(data=plot_data, layout=layout)\n",
        "fig.show()\n",
        "# ply.iplot(fig)"
      ]
    },
    {
      "cell_type": "code",
      "execution_count": null,
      "metadata": {
        "id": "dWlJS6T8PXOP"
      },
      "outputs": [],
      "source": [
        ""
      ]
    },
    {
      "cell_type": "code",
      "execution_count": null,
      "metadata": {
        "id": "r4o4HDc3SL8F"
      },
      "outputs": [],
      "source": [
        "import matplotlib.pyplot as plt\n",
        "from sklearn import model_selection\n",
        "from sklearn.linear_model import LogisticRegression\n",
        "from sklearn.tree import DecisionTreeClassifier\n",
        "from sklearn.neighbors import KNeighborsClassifier\n",
        "from sklearn.discriminant_analysis import LinearDiscriminantAnalysis\n",
        "from sklearn.naive_bayes import GaussianNB\n",
        "from sklearn.svm import SVC\n",
        "from sklearn.model_selection import train_test_split\n",
        "from sklearn import datasets\n",
        "import matplotlib.pyplot as plt\n",
        "\n",
        "plt.style.use('ggplot')"
      ]
    },
    {
      "cell_type": "code",
      "execution_count": null,
      "metadata": {
        "id": "dslGduteUACr"
      },
      "outputs": [],
      "source": [
        "    KNeighborsClassifier(3),\n",
        "    SVC(kernel=\"rbf\", C=0.025, probability=True),\n",
        "    NuSVC(probability=True),\n",
        "    DecisionTreeClassifier(),\n",
        "    RandomForestClassifier(),\n",
        "    AdaBoostClassifier(),\n",
        "    GradientBoostingClassifier(),\n",
        "    GaussianNB(),\n",
        "    LinearDiscriminantAnalysis(),\n",
        "    QuadraticDiscriminantAnalysis(),\n",
        "    # MultinomialNB(),\n",
        "    MLPClassifier()]"
      ]
    },
    {
      "cell_type": "code",
      "execution_count": null,
      "metadata": {
        "id": "Spqkf9VUSL29"
      },
      "outputs": [],
      "source": [
        "seed = 50\n",
        "dataset = datasets.load_wine()\n",
        "X = dataset.data; y = dataset.target\n",
        "X_train, X_test, y_train, y_test = train_test_split(X, y, test_size=0.30)\n",
        "kfold = model_selection.KFold(n_splits=10, random_state=seed)"
      ]
    },
    {
      "cell_type": "code",
      "execution_count": null,
      "metadata": {
        "id": "k08_iXqkSLxk"
      },
      "outputs": [],
      "source": [
        "models = []\n",
        "models.append(('LR', LogisticRegression()))\n",
        "models.append(('LDA', LinearDiscriminantAnalysis()))\n",
        "models.append(('KNN', KNeighborsClassifier()))\n",
        "models.append(('CART', DecisionTreeClassifier()))\n",
        "models.append(('NB', GaussianNB()))\n",
        "models.append(('SVM', SVC()))"
      ]
    },
    {
      "cell_type": "code",
      "execution_count": null,
      "metadata": {
        "id": "OC2tlurpTOP4"
      },
      "outputs": [],
      "source": [
        "results = []\n",
        "names = []\n",
        "scoring = 'accuracy'\n",
        "for name, model in models:\n",
        "      kfold = model_selection.KFold(n_splits=10, random_state=seed)\n",
        "      cv_results = model_selection.cross_val_score(model, X_train, y_train, cv=kfold, scoring=scoring)\n",
        "      results.append(cv_results)\n",
        "      names.append(name)\n",
        "      msg = \"%s: %f (%f)\" % (name, cv_results.mean(), cv_results.std())\n",
        "      print(msg)\n",
        "\n",
        "\"\"\"\n",
        "\n",
        "LR: 0.862886 (0.005822)\n",
        "LDA: 0.859657 (0.006562)\n",
        "KNN: 0.728571 (0.008688)\n",
        "CART: 0.710829 (0.007842)\n",
        "NB: 0.817286 (0.007659)\n",
        "\n",
        "\"\"\";"
      ]
    },
    {
      "cell_type": "code",
      "execution_count": null,
      "metadata": {
        "id": "vbRGacBAnDyT"
      },
      "outputs": [],
      "source": [
        "models2 = []\n",
        "\n",
        "models2.append(('SVM', SVC()))\n",
        "models2.append(('MultiNB', MultinomialNB()))\n",
        "models2.append(('RFC', RandomForestClassifier()))\n",
        "models2.append(('MultiLP', MLPClassifier()))\n",
        "\n",
        "models2.append(('NuSVC', NuSVC(probability=True)))\n",
        "models2.append(('AdaBC', AdaBoostClassifier()))\n",
        "models2.append(('GradBC', GradientBoostingClassifier()))\n",
        "models2.append(('LinDA', LinearDiscriminantAnalysis()))\n",
        "models2.append(('QuadDA', QuadraticDiscriminantAnalysis()))"
      ]
    },
    {
      "cell_type": "code",
      "execution_count": null,
      "metadata": {
        "id": "RpKeO3CcnFcj"
      },
      "outputs": [],
      "source": [
        "results2 = []\n",
        "names2 = []\n",
        "scoring = 'accuracy'\n",
        "for name, model in models2:\n",
        "      kfold = model_selection.KFold(n_splits=10, random_state=seed)\n",
        "      cv_results = model_selection.cross_val_score(model, X_train, y_train, cv=kfold, scoring=scoring)\n",
        "      results2.append(cv_results)\n",
        "      names2.append(name)\n",
        "      msg = \"%s: %f (%f)\" % (name2, cv_results.mean(), cv_results.std())\n",
        "      print(msg)"
      ]
    },
    {
      "cell_type": "code",
      "execution_count": null,
      "metadata": {
        "id": "sGom-DXdTROf"
      },
      "outputs": [],
      "source": [
        "fig = plt.figure(figsize=(10,10))\n",
        "fig.suptitle('How to compare sklearn classification algorithms')\n",
        "ax = fig.add_subplot(111)\n",
        "plt.boxplot(results)\n",
        "ax.set_xticklabels(names)\n",
        "plt.show();"
      ]
    },
    {
      "cell_type": "code",
      "execution_count": null,
      "metadata": {
        "id": "6kJ6HRtBSLsX"
      },
      "outputs": [],
      "source": [
        "results = []\n",
        "names = []\n",
        "scoring = 'accuracy'\n",
        "for name, model in models:\n",
        "      kfold = model_selection.KFold(n_splits=10, random_state=seed)\n",
        "      cv_results = model_selection.cross_val_score(model, X_train, y_train, cv=kfold, scoring=scoring)\n",
        "      results.append(cv_results)\n",
        "      names.append(name)\n",
        "      msg = \"%s: %f (%f)\" % (name, cv_results.mean(), cv_results.std())\n",
        "      print(msg)"
      ]
    },
    {
      "cell_type": "code",
      "execution_count": null,
      "metadata": {
        "id": "MWcwr4sRSLnK"
      },
      "outputs": [],
      "source": [
        "fig = plt.figure(figsize=(10,10))\n",
        "fig.suptitle('How to compare sklearn classification algorithms')\n",
        "ax = fig.add_subplot(111)\n",
        "plt.boxplot(results)\n",
        "ax.set_xticklabels(names)\n",
        "plt.show()"
      ]
    },
    {
      "cell_type": "code",
      "execution_count": null,
      "metadata": {
        "id": "uVJkMiprSLhG"
      },
      "outputs": [],
      "source": [
        ""
      ]
    },
    {
      "cell_type": "code",
      "execution_count": null,
      "metadata": {
        "id": "i5o9P-qLSLb2"
      },
      "outputs": [],
      "source": [
        ""
      ]
    },
    {
      "cell_type": "code",
      "execution_count": null,
      "metadata": {
        "id": "IlvJf9cuSLXO"
      },
      "outputs": [],
      "source": [
        ""
      ]
    },
    {
      "cell_type": "code",
      "execution_count": null,
      "metadata": {
        "id": "iW_cTC3KPigo"
      },
      "outputs": [],
      "source": [
        "from sklearn.preprocessing import LabelEncoder\n",
        "from sklearn.model_selection import StratifiedShuffleSplit"
      ]
    },
    {
      "cell_type": "code",
      "execution_count": null,
      "metadata": {
        "id": "PZz-jk5hPXJI"
      },
      "outputs": [],
      "source": [
        "sss = StratifiedShuffleSplit(labels, 10, test_size=0.2, random_state=23)\n",
        "\n",
        "for train_index, test_index in sss:\n",
        "    X_train, X_test = train.values[train_index], train.values[test_index]\n",
        "    y_train, y_test = labels[train_index], labels[test_index]"
      ]
    },
    {
      "cell_type": "code",
      "execution_count": null,
      "metadata": {
        "id": "_OVgc73dQAHn"
      },
      "outputs": [],
      "source": [
        "from sklearn.naive_bayes import MultinomialNB"
      ]
    },
    {
      "cell_type": "code",
      "execution_count": null,
      "metadata": {
        "id": "0WFleRcSOeb_"
      },
      "outputs": [],
      "source": [
        "from sklearn.metrics import accuracy_score, log_loss\n",
        "from sklearn.neighbors import KNeighborsClassifier\n",
        "from sklearn.svm import SVC, LinearSVC, NuSVC\n",
        "from sklearn.tree import DecisionTreeClassifier\n",
        "from sklearn.ensemble import RandomForestClassifier, AdaBoostClassifier, GradientBoostingClassifier\n",
        "from sklearn.naive_bayes import GaussianNB\n",
        "from sklearn.discriminant_analysis import LinearDiscriminantAnalysis\n",
        "from sklearn.discriminant_analysis import QuadraticDiscriminantAnalysis\n",
        "\n",
        "classifiers = [\n",
        "    KNeighborsClassifier(3),\n",
        "    SVC(kernel=\"rbf\", C=0.025, probability=True),\n",
        "    NuSVC(probability=True),\n",
        "    DecisionTreeClassifier(),\n",
        "    RandomForestClassifier(),\n",
        "    AdaBoostClassifier(),\n",
        "    GradientBoostingClassifier(),\n",
        "    GaussianNB(),\n",
        "    LinearDiscriminantAnalysis(),\n",
        "    QuadraticDiscriminantAnalysis(),\n",
        "    # MultinomialNB(),\n",
        "    MLPClassifier()]\n",
        "\n",
        "# Logging for Visual Comparison\n",
        "log_cols=[\"Classifier\", \"Accuracy\", \"Log Loss\"]\n",
        "log = pd.DataFrame(columns=log_cols)\n",
        "\n",
        "for clf in classifiers:\n",
        "    clf.fit(X_train, y_train)\n",
        "    name = clf.__class__.__name__\n",
        "    \n",
        "    print(\"=\"*30)\n",
        "    print(name)\n",
        "    \n",
        "    print('****Results****')\n",
        "    train_predictions = clf.predict(X_test)\n",
        "    acc = accuracy_score(y_test, train_predictions)\n",
        "    print(\"Accuracy: {:.4%}\".format(acc))\n",
        "    \n",
        "    train_predictions = clf.predict_proba(X_test)\n",
        "    ll = log_loss(y_test, train_predictions)\n",
        "    print(\"Log Loss: {}\".format(ll))\n",
        "    \n",
        "    log_entry = pd.DataFrame([[name, acc*100, ll]], columns=log_cols)\n",
        "    log = log.append(log_entry)\n",
        "    \n",
        "print(\"=\"*30)"
      ]
    },
    {
      "cell_type": "code",
      "execution_count": null,
      "metadata": {
        "id": "R4QHEHqgOeW-"
      },
      "outputs": [],
      "source": [
        ""
      ]
    },
    {
      "cell_type": "code",
      "execution_count": null,
      "metadata": {
        "id": "qCgNcZExqfDc"
      },
      "outputs": [],
      "source": [
        "# WARNING: This will execute without error even if SpaCy model not loaded (silent error)\n",
        "#          Must choose between En/Fr and consider PySBD sentence segementation as part of nlp pipeline\n",
        "\n",
        "def lemmatize(text):\n",
        "    \"\"\"Perform lemmatization and stopword removal in the clean text\n",
        "       Returns a list of lemmas\n",
        "    \"\"\"\n",
        "    text = ''.join([c for c in text if c.isascii()])\n",
        "    doc = nlp(text)\n",
        "    lemma_list = [str(tok.lemma_).lower() for tok in doc\n",
        "                  if tok.is_alpha and tok.text.lower() not in stopwords_en]\n",
        "    return lemma_list\n",
        "\n",
        "# Test\n",
        "print(lemmatize('I was running late and decided to to stop drinking.'))"
      ]
    },
    {
      "cell_type": "code",
      "execution_count": null,
      "metadata": {
        "id": "TQqNyV16OQk2"
      },
      "outputs": [],
      "source": [
        ""
      ]
    },
    {
      "cell_type": "code",
      "execution_count": null,
      "metadata": {
        "id": "eUUDZ8H6qfDf"
      },
      "outputs": [],
      "source": [
        "%%time\n",
        "\n",
        "# Method #1: Lemmatize with Pandas apply()\n",
        "\n",
        "# Note: on C.Dickens' Great Expectations\n",
        "\n",
        "# imdb50k_df['text_lemma1'] = imdb50k_df['text_clean'].apply(lemmatize)\n",
        "# imdb50k_df.head(3)\n",
        "\n",
        "\n",
        "# Save checkpoint\n",
        "\n",
        "# imdb50k_df.to_csv(f'mlimdb50k_lemma3_sents_df.csv')\n",
        "# imdb50k_df.to_csv(f'ml{supervised_db}_sents_df.csv')\n",
        "\n",
        "# files.download('mlimdb50k_lemma3_sents_df.csv')"
      ]
    },
    {
      "cell_type": "code",
      "execution_count": null,
      "metadata": {
        "id": "xGISHWdKqfDn"
      },
      "outputs": [],
      "source": [
        "# Method #2: Lemmatize with spacy nlp.pipe\n",
        "\n",
        "def lemmatize_pipe(doc):\n",
        "    lemma_list = [str(tok.lemma_).lower() for tok in doc\n",
        "                  if tok.is_alpha and tok.text.lower() not in stopwords_en] \n",
        "    return lemma_list\n",
        "\n",
        "def preprocess_pipe(texts):\n",
        "    preproc_pipe = []\n",
        "    for doc in nlp.pipe(texts, batch_size=20):\n",
        "        preproc_pipe.append(lemmatize_pipe(doc))\n",
        "    return preproc_pipe\n"
      ]
    },
    {
      "cell_type": "code",
      "execution_count": null,
      "metadata": {
        "id": "SwnFq1V-qfDp"
      },
      "outputs": [],
      "source": [
        "%%time\n",
        "\n",
        "# Method #2: Lemmatize with spacy nlp.pipe\n",
        "# Note: 22min\n",
        "\n",
        "# imdb50k_df['text_lemma2'] = preprocess_pipe(imdb50k_df['text_clean'])\n",
        "# imdb50k_df.head(3)\n",
        "\n",
        "# imdb50k_df.rename(columns={'text_lemma3':'text_lemma'}, inplace=True)\n",
        "# imdb50k_df.drop(columns=['text_lemma2'], inplace=True)\n",
        "\n",
        "# Save checkpoint\n",
        "\n",
        "# imdb50k_df.to_csv(f'mlimdb50k_lemma2_sents_df.csv')\n",
        "# imdb50k_df.to_csv(f'ml{supervised_db}_sents_df.csv')\n"
      ]
    },
    {
      "cell_type": "code",
      "execution_count": null,
      "metadata": {
        "id": "6WkbBU9YqfDs"
      },
      "outputs": [],
      "source": [
        "!pip install joblib"
      ]
    },
    {
      "cell_type": "code",
      "execution_count": null,
      "metadata": {
        "id": "FNVjmuGbqfDt"
      },
      "outputs": [],
      "source": [
        "# Method #3: Lemmatize with joblib parallelization\n",
        "\n",
        "from joblib import Parallel, delayed\n",
        "\n",
        "def chunker(iterable, total_length, chunksize):\n",
        "    return (iterable[pos: pos + chunksize] for pos in range(0, total_length, chunksize))\n",
        "\n",
        "def flatten(list_of_lists):\n",
        "    \"Flatten a list of lists to a combined list\"\n",
        "    return [item for sublist in list_of_lists for item in sublist]\n",
        "\n",
        "def process_chunk(texts):\n",
        "    preproc_pipe = []\n",
        "    for doc in nlp.pipe(texts, batch_size=20):\n",
        "        preproc_pipe.append(lemmatize_pipe(doc))\n",
        "    return preproc_pipe\n",
        "\n",
        "def preprocess_parallel(texts, chunksize=100):\n",
        "    executor = Parallel(n_jobs=2, backend='multiprocessing', prefer=\"processes\")\n",
        "    do = delayed(process_chunk)\n",
        "    tasks = (do(chunk) for chunk in chunker(texts, len(imdb50k_df), chunksize=chunksize))\n",
        "    result = executor(tasks)\n",
        "    return flatten(result)\n"
      ]
    },
    {
      "cell_type": "code",
      "execution_count": null,
      "metadata": {
        "id": "wOWTIHg_qfDu"
      },
      "outputs": [],
      "source": [
        "%%time\n",
        "\n",
        "# Method #3: Lemmatize with joblib parallelization\n",
        "# NOTE: 17m13s \n",
        "\n",
        "# imdb50k_df['text_lemma3'] = preprocess_parallel(imdb50k_df['text_clean'], chunksize=1000)\n"
      ]
    },
    {
      "cell_type": "code",
      "execution_count": null,
      "metadata": {
        "id": "9WEb4RV0guDX"
      },
      "outputs": [],
      "source": [
        "\"\"\"\n",
        "\n",
        "if ML_Models_Arc == True:\n",
        "  model_base = 'vader'\n",
        "  model_name = 'vader_lnorm_medianiqr'\n",
        "\n",
        "  col_medianiqr = f'{model_base}_medianiqr'\n",
        "  col_meanstd = f'{model_base}_meanstd'\n",
        "\n",
        "  col_lnorm_medianiqr = f'{model_base}_lnorm_medianiqr'\n",
        "  col_lnorm_meanstd = f'{model_base}_lnorm_meanstd'\n",
        "\n",
        "if VADER_Arc == True:\n",
        "  # Sentiment evaluation function\n",
        "  sid = SentimentIntensityAnalyzer()\n",
        "\n",
        "  # Test\n",
        "  sid.polarity_scores('hello world'\n",
        "\n",
        "\n",
        "\"\"\";"
      ]
    },
    {
      "cell_type": "markdown",
      "metadata": {
        "id": "zJT8Z7p1bE-N"
      },
      "source": [
        "#### **Preparing Labeled Sentiment Dataset**\n",
        "\n",
        "* SST-2/SST-5\n",
        "* IMDB\n",
        "* Yelp\n",
        "* Sentiment140"
      ]
    },
    {
      "cell_type": "code",
      "execution_count": null,
      "metadata": {
        "id": "HE1mTRBenRYh"
      },
      "outputs": [],
      "source": [
        "# Upload kaggle credentials *.json file\n",
        "\n",
        "files.upload()"
      ]
    },
    {
      "cell_type": "code",
      "execution_count": null,
      "metadata": {
        "id": "uiwD6YVXnRUf"
      },
      "outputs": [],
      "source": [
        "!pwd\n",
        "!ls"
      ]
    },
    {
      "cell_type": "code",
      "execution_count": null,
      "metadata": {
        "id": "3Vxm1Pc4GdKg"
      },
      "outputs": [],
      "source": [
        "!mkdir /root/.kaggle"
      ]
    },
    {
      "cell_type": "code",
      "execution_count": null,
      "metadata": {
        "id": "K8C5ikUVngGS"
      },
      "outputs": [],
      "source": [
        "!cp kaggle.json /root/.kaggle/"
      ]
    },
    {
      "cell_type": "code",
      "execution_count": null,
      "metadata": {
        "id": "snpmtQv2GHzz"
      },
      "outputs": [],
      "source": [
        "!ls /root/.kaggle/\n"
      ]
    },
    {
      "cell_type": "markdown",
      "metadata": {
        "id": "SoAbKdAPmagz"
      },
      "source": [
        "**IMDB 50k (Movie)**\n",
        "\n",
        "* https://huggingface.co/datasets/imdb"
      ]
    },
    {
      "cell_type": "code",
      "execution_count": null,
      "metadata": {
        "id": "Pg-Ce-V5Endk"
      },
      "outputs": [],
      "source": [
        "!pwd"
      ]
    },
    {
      "cell_type": "code",
      "execution_count": null,
      "metadata": {
        "id": "ZSTgJsroErYK"
      },
      "outputs": [],
      "source": [
        "!mkdir data"
      ]
    },
    {
      "cell_type": "code",
      "execution_count": null,
      "metadata": {
        "id": "RjNs9ErqEu2K"
      },
      "outputs": [],
      "source": [
        "%cd ./data\n",
        "!pwd\n",
        "!ls"
      ]
    },
    {
      "cell_type": "code",
      "execution_count": null,
      "metadata": {
        "id": "h6DzdXynmXzZ"
      },
      "outputs": [],
      "source": [
        "!wget http://ai.stanford.edu/~amaas/data/sentiment/aclImdb_v1.tar.gz\n",
        "!ls"
      ]
    },
    {
      "cell_type": "code",
      "execution_count": null,
      "metadata": {
        "id": "AmQ6ePHdE0Gf"
      },
      "outputs": [],
      "source": [
        "!tar -xvf aclImdb_v1.tar.gz\n",
        "!ls -altr"
      ]
    },
    {
      "cell_type": "code",
      "execution_count": null,
      "metadata": {
        "id": "jU86X4wOE_Yl"
      },
      "outputs": [],
      "source": [
        "!ls -altr"
      ]
    },
    {
      "cell_type": "code",
      "execution_count": null,
      "metadata": {
        "id": "YX4HcIUbE_Vb"
      },
      "outputs": [],
      "source": [
        ""
      ]
    },
    {
      "cell_type": "code",
      "execution_count": null,
      "metadata": {
        "id": "xNWAauOKE_R6"
      },
      "outputs": [],
      "source": [
        ""
      ]
    },
    {
      "cell_type": "code",
      "execution_count": null,
      "metadata": {
        "id": "YWjGurjNxGz_"
      },
      "outputs": [],
      "source": [
        "supervised_db = 'imdb50k'"
      ]
    },
    {
      "cell_type": "code",
      "execution_count": null,
      "metadata": {
        "id": "HqKUuGKOHOXD"
      },
      "outputs": [],
      "source": [
        "!ls -altr *"
      ]
    },
    {
      "cell_type": "code",
      "execution_count": null,
      "metadata": {
        "id": "zKUUzsTrHJw1"
      },
      "outputs": [],
      "source": [
        "# Option A: Load in imdb_df\n",
        "\n",
        "imdb50k_df = pd.read_csv(\"sa_train_lemma_imdb50k.csv\")\n",
        "imdb50k_df.head(1)\n",
        "imdb50k_df.info()\n",
        "\n",
        "\"\"\"\n",
        "imdb50k_df[\"polarity\"] = imdb50k_df[\"sentiment\"].map({\"negative\": 0, \"positive\": 1})\n",
        "imdb50k_df[\"text_raw\"] = imdb50k_df[\"review\"].astype('string')\n",
        "imdb50k_df.drop(columns=['sentiment', 'review'], inplace=True)\n",
        "\n",
        "supervised_db = 'imdb50k'\n",
        "\n",
        "\"\"\""
      ]
    },
    {
      "cell_type": "code",
      "execution_count": null,
      "metadata": {
        "id": "uA1Rq6Y2qhwV"
      },
      "outputs": [],
      "source": [
        "# Option B: Create IMDB_df\n",
        "\n",
        "!kaggle datasets download -d lakshmi25npathi/imdb-dataset-of-50k-movie-reviews\n"
      ]
    },
    {
      "cell_type": "code",
      "execution_count": null,
      "metadata": {
        "id": "zKQg7q3ary2i"
      },
      "outputs": [],
      "source": [
        "!ls *zip"
      ]
    },
    {
      "cell_type": "code",
      "execution_count": null,
      "metadata": {
        "id": "iNoXUTsxryxC"
      },
      "outputs": [],
      "source": [
        "!unzip imdb-dataset-of-50k-movie-reviews.zip\n"
      ]
    },
    {
      "cell_type": "code",
      "execution_count": null,
      "metadata": {
        "id": "6S-ZShOmsCEx"
      },
      "outputs": [],
      "source": [
        "imdb50k_df = pd.read_csv(\"IMDB Dataset.csv\")\n",
        "imdb50k_df[\"polarity\"] = imdb50k_df[\"sentiment\"].map({\"negative\": 0, \"positive\": 1})\n",
        "imdb50k_df[\"text_raw\"] = imdb50k_df[\"review\"].astype('string')\n",
        "imdb50k_df.drop(columns=['sentiment', 'review'], inplace=True)\n",
        "\n",
        "supervised_db = 'imdb50k'"
      ]
    },
    {
      "cell_type": "code",
      "execution_count": null,
      "metadata": {
        "id": "EBFpI0KusB_h"
      },
      "outputs": [],
      "source": [
        "imdb50k_df.info()"
      ]
    },
    {
      "cell_type": "code",
      "execution_count": null,
      "metadata": {
        "id": "874pXJ8jxDH9"
      },
      "outputs": [],
      "source": [
        "# Remove non-alphanumeric chacters\n",
        "# imdb50k_df['text_lower'] = imdb50k_df['text_raw']\n",
        "\n",
        "pattern = re.compile(r\"[A-Za-z0-9\\-]{3,50}\")\n",
        "imdb50k_df['text_clean'] = imdb50k_df['text_raw'].str.lower().str.strip().str.findall(pattern).str.join(' ')\n",
        "imdb50k_df.head(1)"
      ]
    },
    {
      "cell_type": "code",
      "execution_count": null,
      "metadata": {
        "id": "v0hlgbsUzvbg"
      },
      "outputs": [],
      "source": [
        "stopwords_custom"
      ]
    },
    {
      "cell_type": "code",
      "execution_count": null,
      "metadata": {
        "id": "gk1M_iJgdgCG"
      },
      "outputs": [],
      "source": [
        "nlp = spacy.blank('en')\n",
        "\n",
        "nlp = spacy.load('en', disable=['parser', 'ner'])\n",
        "\n",
        "# explicitly adding component to pipeline\n",
        "# (recommended - makes it more readable to tell what's going on)\n",
        "# nlp.add_pipe(PySBDFactory(nlp))"
      ]
    },
    {
      "cell_type": "code",
      "execution_count": null,
      "metadata": {
        "id": "KTTwI1MsxC4V"
      },
      "outputs": [],
      "source": [
        "# WARNING: This will execute without error even if SpaCy model not loaded (silent error)\n",
        "#          Must choose between En/Fr and consider PySBD sentence segementation as part of nlp pipeline\n",
        "\n",
        "def lemmatize(text):\n",
        "    \"\"\"Perform lemmatization and stopword removal in the clean text\n",
        "       Returns a list of lemmas\n",
        "    \"\"\"\n",
        "    doc = nlp(text)\n",
        "    lemma_list = [str(tok.lemma_).lower() for tok in doc\n",
        "                  if tok.is_alpha and tok.text.lower() not in stopwords_en]\n",
        "    return lemma_list\n",
        "\n",
        "# Test\n",
        "print(lemmatize('I was running late and decided to to stop drinking.'))"
      ]
    },
    {
      "cell_type": "code",
      "execution_count": null,
      "metadata": {
        "id": "0eKCtw6mzCRv"
      },
      "outputs": [],
      "source": [
        "%%time\n",
        "\n",
        "# Method #1: Lemmatize with Pandas apply()\n",
        "\n",
        "# Note: on C.Dickens' Great Expectations\n",
        "\n",
        "imdb50k_df['text_lemma'] = imdb50k_df['text_clean'].apply(lemmatize)\n",
        "imdb50k_df.head(3)"
      ]
    },
    {
      "cell_type": "code",
      "execution_count": null,
      "metadata": {
        "id": "rb1PTFdB377O"
      },
      "outputs": [],
      "source": [
        "# Save checkpoint\n",
        "\n",
        "imdb50k_df.to_csv(f'mlimdb50k_lemma_sents_df.csv')\n",
        "# imdb50k_df.to_csv(f'ml{supervised_db}_sents_df.csv')"
      ]
    },
    {
      "cell_type": "code",
      "execution_count": null,
      "metadata": {
        "id": "dEWc92Z7CnE3"
      },
      "outputs": [],
      "source": [
        "!ls -altr"
      ]
    },
    {
      "cell_type": "code",
      "execution_count": null,
      "metadata": {
        "id": "P0wRacWECqgY"
      },
      "outputs": [],
      "source": [
        "!pwd"
      ]
    },
    {
      "cell_type": "code",
      "execution_count": null,
      "metadata": {
        "id": "2K83u01NC8Ft"
      },
      "outputs": [],
      "source": [
        "files.download('mlimdb50k_lemma_sents_df.csv')"
      ]
    },
    {
      "cell_type": "code",
      "execution_count": null,
      "metadata": {
        "id": "tkc5w9b6DCJJ"
      },
      "outputs": [],
      "source": [
        "files.download('ml_sents_df.csv')"
      ]
    },
    {
      "cell_type": "code",
      "execution_count": null,
      "metadata": {
        "id": "JefUrhgQDMiQ"
      },
      "outputs": [],
      "source": [
        "!rm mlimdb50k_lemma2_sents_df.csv\n"
      ]
    },
    {
      "cell_type": "code",
      "execution_count": null,
      "metadata": {
        "id": "AA5zr9xr0Pmf"
      },
      "outputs": [],
      "source": [
        "# Method #2: Lemmatize with spacy nlp.pipe\n",
        "\n",
        "def lemmatize_pipe(doc):\n",
        "    lemma_list = [str(tok.lemma_).lower() for tok in doc\n",
        "                  if tok.is_alpha and tok.text.lower() not in stopwords_en] \n",
        "    return lemma_list\n",
        "\n",
        "def preprocess_pipe(texts):\n",
        "    preproc_pipe = []\n",
        "    for doc in nlp.pipe(texts, batch_size=20):\n",
        "        preproc_pipe.append(lemmatize_pipe(doc))\n",
        "    return preproc_pipe\n"
      ]
    },
    {
      "cell_type": "code",
      "execution_count": null,
      "metadata": {
        "id": "yYZF5fDt0Pdj"
      },
      "outputs": [],
      "source": [
        "%%time\n",
        "\n",
        "# Method #2: Lemmatize with spacy nlp.pipe\n",
        "# Note: 22min\n",
        "\n",
        "imdb50k_df['text_lemma2'] = preprocess_pipe(imdb50k_df['text_clean'])\n",
        "imdb50k_df.head(3)"
      ]
    },
    {
      "cell_type": "code",
      "execution_count": null,
      "metadata": {
        "id": "9IvyLp_DEA4q"
      },
      "outputs": [],
      "source": [
        "imdb50k_df.rename(columns={'text_lemma3':'text_lemma'}, inplace=True)"
      ]
    },
    {
      "cell_type": "code",
      "execution_count": null,
      "metadata": {
        "id": "veKXUZgDD8Ae"
      },
      "outputs": [],
      "source": [
        "imdb50k_df.drop(columns=['text_lemma2'], inplace=True)"
      ]
    },
    {
      "cell_type": "code",
      "execution_count": null,
      "metadata": {
        "id": "zwiRAVYJD3bM"
      },
      "outputs": [],
      "source": [
        "imdb50k_df.info()"
      ]
    },
    {
      "cell_type": "code",
      "execution_count": null,
      "metadata": {
        "id": "sVgGKfjIEVC3"
      },
      "outputs": [],
      "source": [
        "imdb50k_df.head()"
      ]
    },
    {
      "cell_type": "code",
      "execution_count": null,
      "metadata": {
        "id": "7ZgnzBM431XH"
      },
      "outputs": [],
      "source": [
        "# Save checkpoint\n",
        "\n",
        "imdb50k_df.to_csv(f'mlimdb50k_lemma2_sents_df.csv')\n",
        "# imdb50k_df.to_csv(f'ml{supervised_db}_sents_df.csv')"
      ]
    },
    {
      "cell_type": "code",
      "execution_count": null,
      "metadata": {
        "id": "5t3Nkmo01Gyy"
      },
      "outputs": [],
      "source": [
        "!pip install joblib"
      ]
    },
    {
      "cell_type": "code",
      "execution_count": null,
      "metadata": {
        "id": "yEQ2iZOS0vOo"
      },
      "outputs": [],
      "source": [
        "# Method #3: Lemmatize with joblib parallelization\n",
        "\n",
        "from joblib import Parallel, delayed\n",
        "\n",
        "def chunker(iterable, total_length, chunksize):\n",
        "    return (iterable[pos: pos + chunksize] for pos in range(0, total_length, chunksize))\n",
        "\n",
        "def flatten(list_of_lists):\n",
        "    \"Flatten a list of lists to a combined list\"\n",
        "    return [item for sublist in list_of_lists for item in sublist]\n",
        "\n",
        "def process_chunk(texts):\n",
        "    preproc_pipe = []\n",
        "    for doc in nlp.pipe(texts, batch_size=20):\n",
        "        preproc_pipe.append(lemmatize_pipe(doc))\n",
        "    return preproc_pipe\n",
        "\n",
        "def preprocess_parallel(texts, chunksize=100):\n",
        "    executor = Parallel(n_jobs=2, backend='multiprocessing', prefer=\"processes\")\n",
        "    do = delayed(process_chunk)\n",
        "    tasks = (do(chunk) for chunk in chunker(texts, len(imdb50k_df), chunksize=chunksize))\n",
        "    result = executor(tasks)\n",
        "    return flatten(result)\n"
      ]
    },
    {
      "cell_type": "code",
      "execution_count": null,
      "metadata": {
        "id": "dnQ55as-0vEs"
      },
      "outputs": [],
      "source": [
        "%%time\n",
        "\n",
        "# Method #3: Lemmatize with joblib parallelization\n",
        "# NOTE: 17m13s \n",
        "\n",
        "imdb50k_df['text_lemma'] = preprocess_parallel(imdb50k_df['text_clean'], chunksize=1000)\n"
      ]
    },
    {
      "cell_type": "code",
      "execution_count": null,
      "metadata": {
        "id": "q2w6i8dv0u_c"
      },
      "outputs": [],
      "source": [
        "# Save checkpoint\n",
        "\n",
        "imdb50k_df.to_csv(f'sa_train_lemma_imdb50k.csv')\n",
        "# imdb50k_df.to_csv(f'ml{supervised_db}_sents_df.csv')"
      ]
    },
    {
      "cell_type": "code",
      "execution_count": null,
      "metadata": {
        "id": "DcqEhl0UCOaX"
      },
      "outputs": [],
      "source": [
        "imdb50k_df.info()"
      ]
    },
    {
      "cell_type": "code",
      "execution_count": null,
      "metadata": {
        "id": "UaZQ8pTtFIvI"
      },
      "outputs": [],
      "source": [
        "print(imdb50k_df.iloc[0]['text_lemma'])"
      ]
    },
    {
      "cell_type": "code",
      "execution_count": null,
      "metadata": {
        "id": "xFuZBs9KFb4E"
      },
      "outputs": [],
      "source": [
        "def list2str(str_ls):\n",
        "  '''\n",
        "  Given a list of string\n",
        "  Return a all strings concatenated, separated by ' '\n",
        "  '''\n",
        "  joined_str = ' '.join(str_ls)\n",
        "\n",
        "  return joined_str\n",
        "\n",
        "imdb50k_df['text_lemma'] = imdb50k_df['text_lemma'].apply(list2str)\n",
        "# imdb50k_df.drop(columns=['text_lemma'], inplace=True)"
      ]
    },
    {
      "cell_type": "code",
      "execution_count": null,
      "metadata": {
        "id": "IynLUxIJMUIJ"
      },
      "outputs": [],
      "source": [
        "imdb50k_df.drop(columns=['text_lemma3'],inplace=True)"
      ]
    },
    {
      "cell_type": "code",
      "execution_count": null,
      "metadata": {
        "id": "dlC9MdSNfBVb"
      },
      "outputs": [],
      "source": [
        "imdb50k_df.head(2)"
      ]
    },
    {
      "cell_type": "code",
      "execution_count": null,
      "metadata": {
        "id": "8Y2Qrq1bGf7O"
      },
      "outputs": [],
      "source": [
        "# imdb50k_df.rename(columns={'text_lemma':'text_clean'}, inplace=True)"
      ]
    },
    {
      "cell_type": "code",
      "execution_count": null,
      "metadata": {
        "id": "ifyd8x6OtFo1"
      },
      "outputs": [],
      "source": [
        "# def clean_stemlemma_text(text, stem_fl =False, lemma_fl=True, punct_fl=True, stopword_ls=stopwords_en):\n",
        "# TODO: pandas DataFrame.Series.apply(curried function)\n",
        "\n",
        "# NOTE: SST2: >25m\n",
        "# sst2_sents_df['text_lemma'] = sst2_sents_df['text_raw'].apply(clean_stemlemma_text)\n",
        "\n",
        "# imdb50k_df['text_lower'] = imdb50k_df['text_raw'].str.strip().str.lower()\n",
        "# imdb50k_df.head()"
      ]
    },
    {
      "cell_type": "code",
      "execution_count": null,
      "metadata": {
        "id": "yDzfd0okE_Yr"
      },
      "outputs": [],
      "source": [
        "# Vectorize IMDB Training dataset with TF-IDF\n",
        "\n",
        "from nltk.corpus import stopwords\n",
        "stopwords_en = stopwords.words('english') # + stopwords.words('french')\n",
        "\n",
        "vectorizer = TfidfVectorizer(ngram_range=(1,3), stop_words=stopwords_en, max_features=1000)\n",
        "vectors = vectorizer.fit_transform(imdb50k_df.text_clean)\n",
        "words_df = pd.DataFrame(vectors.toarray(), columns=vectorizer.get_feature_names())\n",
        "words_df.head()"
      ]
    },
    {
      "cell_type": "code",
      "execution_count": null,
      "metadata": {
        "id": "zzqocELYE_Yt"
      },
      "outputs": [],
      "source": [
        "# Separate text from labels\n",
        "\n",
        "X = words_df\n",
        "y = imdb50k_df.polarity\n",
        "X.shape\n",
        "print('\\n')\n",
        "y.shape\n",
        "type(y[0])"
      ]
    },
    {
      "cell_type": "markdown",
      "metadata": {
        "id": "zVg2Vh1QmYJf"
      },
      "source": [
        "**SST-5 (Text)**"
      ]
    },
    {
      "cell_type": "code",
      "execution_count": null,
      "metadata": {
        "id": "m4l9EPgVmqzU"
      },
      "outputs": [],
      "source": [
        ""
      ]
    },
    {
      "cell_type": "markdown",
      "metadata": {
        "id": "HSa0vYLfmg3i"
      },
      "source": [
        "**SST-2 (Text)**\n",
        "\n",
        "* https://prrao87.github.io/blog/spacy/nlp/performance/2020/05/02/spacy-multiprocess.html (Accelerate with SpaCy pipelines/joblib)"
      ]
    },
    {
      "cell_type": "markdown",
      "metadata": {
        "id": "RPoZ3onS8u-1"
      },
      "source": [
        "**Retrieve via PyTorch TorchText**\n",
        "\n",
        "* https://github.com/shayneobrien/sentiment-classification/blob/master/notebooks/02-naive-bayes-unigram.ipynb"
      ]
    },
    {
      "cell_type": "code",
      "execution_count": null,
      "metadata": {
        "id": "MXJyGQ-9Eq7Q"
      },
      "outputs": [],
      "source": [
        "supervised_db = 'sst2'"
      ]
    },
    {
      "cell_type": "code",
      "execution_count": null,
      "metadata": {
        "id": "5FheAchd8uxd"
      },
      "outputs": [],
      "source": [
        "import torchtext\n",
        "import numpy as np\n",
        "from sklearn.naive_bayes import MultinomialNB\n",
        "from torchtext.vocab import Vectors\n",
        "from tqdm import tqdm_notebook"
      ]
    },
    {
      "cell_type": "code",
      "execution_count": null,
      "metadata": {
        "id": "VZdWe3yQ9EHn"
      },
      "outputs": [],
      "source": [
        "text = torchtext.data.Field(include_lengths = False)\n",
        "label = torchtext.data.Field(sequential=False)\n",
        "train, val, test = torchtext.datasets.SST.splits(text, label, filter_pred=lambda ex: ex.label != 'neutral')\n",
        "text.build_vocab(train)\n",
        "label.build_vocab(train)\n",
        "train_iter, val_iter, test_iter = torchtext.data.BucketIterator.splits((train, val, test), batch_size=10, device=-1, repeat = False)\n",
        "url = 'https://s3-us-west-1.amazonaws.com/fasttext-vectors/wiki.simple.vec'\n",
        "text.vocab.load_vectors(vectors=Vectors('wiki.simple.vec', url=url))"
      ]
    },
    {
      "cell_type": "code",
      "execution_count": null,
      "metadata": {
        "id": "5UhDXd2N9ECt"
      },
      "outputs": [],
      "source": [
        ""
      ]
    },
    {
      "cell_type": "markdown",
      "metadata": {
        "id": "QZrHoKfh2vUC"
      },
      "source": [
        "**Retrieve from Kaggle Datasets**"
      ]
    },
    {
      "cell_type": "code",
      "execution_count": null,
      "metadata": {
        "id": "dGow41Oz2qpv"
      },
      "outputs": [],
      "source": [
        "!kaggle datasets download -d atulanandjha/stanford-sentiment-treebank-v2-sst2"
      ]
    },
    {
      "cell_type": "code",
      "execution_count": null,
      "metadata": {
        "id": "DLs5cDNH2qlM"
      },
      "outputs": [],
      "source": [
        "!unzip stanford-sentiment-treebank-v2-sst2.zip"
      ]
    },
    {
      "cell_type": "code",
      "execution_count": null,
      "metadata": {
        "id": "OhLqfmQh-xLj"
      },
      "outputs": [],
      "source": [
        "!cat SST2-Data/SST2-Data/stanfordSentimentTreebank/stanfordSentimentTreebank/README.txt"
      ]
    },
    {
      "cell_type": "code",
      "execution_count": null,
      "metadata": {
        "id": "lcPO1OjQ2qgx"
      },
      "outputs": [],
      "source": [
        "!ls SST2-Data/SST2-Data/stanfordSentimentTreebank/stanfordSentimentTreebank/SST2-Data/SST2-Data/stanfordSentimentTreebank/stanfordSentimentTreebank/"
      ]
    },
    {
      "cell_type": "code",
      "execution_count": null,
      "metadata": {
        "id": "-nluKanu2qcU"
      },
      "outputs": [],
      "source": [
        "!head -n 5 ./SST2-Data/SST2-Data/stanfordSentimentTreebank/stanfordSentimentTreebank/datasetSentences.txt"
      ]
    },
    {
      "cell_type": "code",
      "execution_count": null,
      "metadata": {
        "id": "AEqbDjgN2qXq"
      },
      "outputs": [],
      "source": [
        "!head -n 5 ./SST2-Data/SST2-Data/stanfordSentimentTreebank/stanfordSentimentTreebank/sentiment_labels.txt"
      ]
    },
    {
      "cell_type": "code",
      "execution_count": null,
      "metadata": {
        "id": "BbomRqan2qTD"
      },
      "outputs": [],
      "source": [
        "sst2_sents_filename = './SST2-Data/SST2-Data/stanfordSentimentTreebank/stanfordSentimentTreebank/dictionary.txt'\n",
        "sst2_sents_df = pd.read_csv(sst2_sents_filename, sep='|', header=None) \n",
        "sst2_sents_df.columns = ['text_raw','phrase_id']\n",
        "sst2_sents_df['text_raw'] = sst2_sents_df['text_raw'].astype('string')\n",
        "sst2_sents_df.head(20)\n",
        "sst2_sents_df.shape"
      ]
    },
    {
      "cell_type": "code",
      "execution_count": null,
      "metadata": {
        "id": "EP69q79JdZSb"
      },
      "outputs": [],
      "source": [
        "# def clean_stemlemma_text(text, stem_fl =False, lemma_fl=True, punct_fl=True, stopword_ls=stopwords_en):\n",
        "# TODO: pandas DataFrame.Series.apply(curried function)\n",
        "\n",
        "# NOTE: SST2: >25m\n",
        "# sst2_sents_df['text_lemma'] = sst2_sents_df['text_raw'].apply(clean_stemlemma_text)\n",
        "\n",
        "sst2_sents_df['text_lower'] = sst2_sents_df['text_raw'].str.strip().str.lower()\n",
        "sst2_sents_df.head()"
      ]
    },
    {
      "cell_type": "code",
      "execution_count": null,
      "metadata": {
        "id": "rtswvhMeaEyV"
      },
      "outputs": [],
      "source": [
        "# sst2_sents_df['text_clean'] = sst2_sents_df['text_raw'].apply(clean_stemlemma_text)\n"
      ]
    },
    {
      "cell_type": "code",
      "execution_count": null,
      "metadata": {
        "id": "VxEgiVXGeS_z"
      },
      "outputs": [],
      "source": [
        "# sst2_sents_df['text_lower'] = sst2_sents_df['text_raw'].apply(lambda x: lower(x))"
      ]
    },
    {
      "cell_type": "code",
      "execution_count": null,
      "metadata": {
        "id": "yQ8dmvpR2qNz"
      },
      "outputs": [],
      "source": [
        "sst2_labels_filename = './SST2-Data/SST2-Data/stanfordSentimentTreebank/stanfordSentimentTreebank/sentiment_labels.txt'\n",
        "sst2_labels_df = pd.read_csv(sst2_labels_filename, sep='|') \n",
        "sst2_labels_df.columns = ['phrase_id','polarity_fl']\n",
        "sst2_labels_df.head(20)\n",
        "sst2_labels_df.shape"
      ]
    },
    {
      "cell_type": "code",
      "execution_count": null,
      "metadata": {
        "id": "1sZztnmG_xEF"
      },
      "outputs": [],
      "source": [
        "sst2_df = pd.concat([sst2_sents_df.set_index('phrase_id'),sst2_labels_df.set_index('phrase_id')], axis=1, join='inner')\n",
        "sst2_df.head()\n",
        "sst2_df.info()"
      ]
    },
    {
      "cell_type": "code",
      "execution_count": null,
      "metadata": {
        "id": "IsOcAE-6Cbid"
      },
      "outputs": [],
      "source": [
        "def polarity_float2int(val_fl):\n",
        "  '''\n",
        "  Given a float between 0.0 and 1.0\n",
        "  Return an integer between 0-5 mapped to every 0.2 interval\n",
        "  '''\n",
        "  val_int = 0\n",
        "  if (val_fl < 0.2):\n",
        "    val_int = 0\n",
        "  elif (0.2 <= val_fl < 0.4):\n",
        "    val_int = 1\n",
        "  elif (0.4 <= val_fl < 0.6):\n",
        "    val_int = 2\n",
        "  elif (0.6 <= val_fl < 0.8):\n",
        "    val_int = 3\n",
        "  elif (0.8 <= val_fl <= 1.0):\n",
        "    val_int = 4\n",
        "  else:\n",
        "    print(f'ERROR: polarity value must be [0.0-1.0] but was set to: {val_fl}')\n",
        "    val_int = -99\n",
        "\n",
        "  return val_int\n",
        "\n",
        "# Test\n",
        "polarity_float2int(0.55)\n"
      ]
    },
    {
      "cell_type": "code",
      "execution_count": null,
      "metadata": {
        "id": "kTyFUTZyDWbD"
      },
      "outputs": [],
      "source": [
        "sst2_df['polarity'] = sst2_df['polarity_fl'].apply(lambda x: polarity_float2int(x))"
      ]
    },
    {
      "cell_type": "code",
      "execution_count": null,
      "metadata": {
        "id": "VuBCKBbAEDeB"
      },
      "outputs": [],
      "source": [
        "sst2_df.head(10)\n",
        "sst2_df.info()"
      ]
    },
    {
      "cell_type": "code",
      "execution_count": null,
      "metadata": {
        "id": "jQa4nAmb6H6X"
      },
      "outputs": [],
      "source": [
        "sst2_df.shape\n",
        "sst2_df[sst2_df.polarity.isna()]"
      ]
    },
    {
      "cell_type": "code",
      "execution_count": null,
      "metadata": {
        "id": "7y_bnL4Dglpk"
      },
      "outputs": [],
      "source": [
        "\"\"\"\n",
        "\n",
        "from sklearn.feature_extraction import text\n",
        "# from sklearn.feature_extraction.text import TfidfVectorizer\n",
        "\n",
        "stopwords_custom = text.ENGLISH_STOP_WORDS.union([\"bazinga\"])\n",
        "\n",
        "vectorizer = TfidfVectorizer(ngram_range=(1,1), stop_words=my_stop_words)\n",
        "\n",
        "X = vectorizer.fit_transform([\"this is an apple.\",\"this is a book.\"])\n",
        "\n",
        "idf_values = dict(zip(vectorizer.get_feature_names(), vectorizer.idf_))\n",
        "\n",
        "# printing the tfidf vectors\n",
        "print(X)\n",
        "\n",
        "# printing the vocabulary\n",
        "print(vectorizer.vocabulary_)\n",
        "\n",
        "\"\"\";"
      ]
    },
    {
      "cell_type": "code",
      "execution_count": null,
      "metadata": {
        "id": "Xw8AN5wghXVT"
      },
      "outputs": [],
      "source": [
        "from sklearn.feature_extraction import text"
      ]
    },
    {
      "cell_type": "code",
      "execution_count": null,
      "metadata": {
        "id": "ETCHx_Z5hXI4"
      },
      "outputs": [],
      "source": [
        "stopwords_custom = text.ENGLISH_STOP_WORDS.union([\"bazinga\"])\n",
        "len(stopwords_custom)\n",
        "print('\\n')\n",
        "type(stopwords_custom)\n"
      ]
    },
    {
      "cell_type": "code",
      "execution_count": null,
      "metadata": {
        "id": "0uXkt1Ha5-3d"
      },
      "outputs": [],
      "source": [
        "vectorizer = TfidfVectorizer(ngram_range=(1,1), stop_words=stopwords_custom, max_features=1000)\n",
        "vectors = vectorizer.fit_transform(sst2_df.text_lower)\n",
        "words_df = pd.DataFrame(vectors.toarray(), columns=vectorizer.get_feature_names())\n",
        "words_df.head()"
      ]
    },
    {
      "cell_type": "code",
      "execution_count": null,
      "metadata": {
        "id": "3DML2PyO5-3e"
      },
      "outputs": [],
      "source": [
        "X = words_df\n",
        "y = sst2_df.polarity\n",
        "X.shape\n",
        "print('\\n')\n",
        "y.shape\n",
        "type(y[0])"
      ]
    },
    {
      "cell_type": "markdown",
      "metadata": {
        "id": "HGzl5dKk2rST"
      },
      "source": [
        "**Retrieve from Huggingface Datasets**"
      ]
    },
    {
      "cell_type": "code",
      "execution_count": null,
      "metadata": {
        "id": "fSbf4OyPzkgl"
      },
      "outputs": [],
      "source": [
        "# install datasets\n",
        "!pip install datasets\n",
        "\n",
        "# Make sure that we have a recent version of pyarrow in the session before we continue - otherwise reboot Colab to activate it\n",
        "import pyarrow\n",
        "if int(pyarrow.__version__.split('.')[1]) < 16 and int(pyarrow.__version__.split('.')[0]) == 0:\n",
        "    import os\n",
        "    os.kill(os.getpid(), 9)"
      ]
    },
    {
      "cell_type": "code",
      "execution_count": null,
      "metadata": {
        "id": "gH_3O8oEzmB5"
      },
      "outputs": [],
      "source": [
        "# Let's import the library. We typically only need at most four methods:\n",
        "from datasets import list_datasets, list_metrics, load_dataset, load_metric\n",
        "\n",
        "from pprint import pprint"
      ]
    },
    {
      "cell_type": "code",
      "execution_count": null,
      "metadata": {
        "id": "wKhOr-XAzl7K"
      },
      "outputs": [],
      "source": [
        "# Currently available datasets and metrics\n",
        "datasets = list_datasets()\n",
        "metrics = list_metrics()\n",
        "\n",
        "print(f\"🤩 Currently {len(datasets)} datasets are available on the hub:\")\n",
        "pprint(datasets, compact=True)\n",
        "print(f\"🤩 Currently {len(metrics)} metrics are available on the hub:\")\n",
        "pprint(metrics, compact=True)"
      ]
    },
    {
      "cell_type": "code",
      "execution_count": null,
      "metadata": {
        "id": "9WEl8TzImj-P"
      },
      "outputs": [],
      "source": [
        "# You can access various attributes of the datasets before downloading them\n",
        "sst_dataset = list_datasets(with_details=True)[datasets.index('sst')]\n",
        "\n",
        "pprint(sst_dataset.__dict__)  # It's a simple python dataclass"
      ]
    },
    {
      "cell_type": "code",
      "execution_count": null,
      "metadata": {
        "id": "UqTkQELdmqgs"
      },
      "outputs": [],
      "source": [
        "# Downloading and loading a dataset\n",
        "dataset = load_dataset('sst', split='validation[:10%]')"
      ]
    },
    {
      "cell_type": "code",
      "execution_count": null,
      "metadata": {
        "id": "vjIO3bR_0XBG"
      },
      "outputs": [],
      "source": [
        "# Informations on the dataset (description, citation, size, splits, format...)\n",
        "# are provided in `dataset.info` (a simple python dataclass) and also as direct attributes in the dataset object\n",
        "pprint(dataset.info.__dict__)"
      ]
    },
    {
      "cell_type": "code",
      "execution_count": null,
      "metadata": {
        "id": "WfG9DIZe0W8r"
      },
      "outputs": [],
      "source": [
        ""
      ]
    },
    {
      "cell_type": "markdown",
      "metadata": {
        "id": "KNCGf1KZEpld"
      },
      "source": [
        "## **Summary**\n",
        "\n",
        "Baseline Models\n",
        "\n",
        "* VADER [-1.0 to 1.0] zero peak\n",
        "* TextBlob [-1.0 to 1.0] zero peak\n",
        "* Stanza outliers [-1.0 to 199.0] pos, outliers(+peak)\n",
        "* AFINN [-14 (-8 to 8) 20] discrete\n",
        "* SentimentR 11,710 [-5.4 to 8.8] norm\n",
        "* Syuzhet [-5.4 to 8.8] norm\n",
        "* Bing [-100.0 (-20.0 to 20.0) 100] discrete, outliers\n",
        "* Pattern [-1.0 to 1.0] norm\n",
        "* SentiWord [-3.8 to 4.4] norm\n",
        "* SenticNet [-3.8 to 10] norm\n",
        "* NRC [-100.0 (-5.0 to 5.0) 100] zero, outliers\n",
        "\n",
        "SentimentR Models\n",
        "\n",
        "* Jockers_Rinker\n",
        "* Jockers\n",
        "* HuLiu\n",
        "* NRC\n",
        "* Loughran-McDonald\n",
        "* SenticNet\n",
        "* SentiWord\n",
        "\n",
        "SyuzhetR Models\n",
        "\n",
        "* Syuzhet\n",
        "* Bing\n",
        "* AFINN\n",
        "* NRC\n",
        "\n",
        "Tranformer Models\n",
        "\n",
        "* NLPTown\n",
        "* RoBERTa Large 15 Datasets\n",
        "* BERT Yelp Dataset\n",
        "* BERT Code Switching Hinglish\n",
        "* IMDB 2-way \n",
        "* Huggingface Default (Distilled BERT)\n",
        "* T5 IMDB 50k Dataset\n",
        "* RoBERTa XML 8 Languages"
      ]
    },
    {
      "cell_type": "markdown",
      "metadata": {
        "id": "6_j92DSgyhGc"
      },
      "source": [
        "# **END OF WORKING**"
      ]
    }
  ],
  "metadata": {
    "colab": {
      "collapsed_sections": [],
      "name": "sentiment_arcs_part3_lex2ml.ipynb",
      "toc_visible": true,
      "provenance": []
    },
    "kernelspec": {
      "display_name": "Python 3",
      "name": "python3"
    },
    "language_info": {
      "name": "python"
    }
  },
  "nbformat": 4,
  "nbformat_minor": 0
}